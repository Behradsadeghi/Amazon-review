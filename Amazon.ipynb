{
  "nbformat": 4,
  "nbformat_minor": 0,
  "metadata": {
    "colab": {
      "provenance": [],
      "gpuType": "T4"
    },
    "kernelspec": {
      "name": "python3",
      "display_name": "Python 3"
    },
    "language_info": {
      "name": "python"
    },
    "accelerator": "GPU",
    "widgets": {
      "application/vnd.jupyter.widget-state+json": {
        "9a168672fdca4576972c3201fd8b34a4": {
          "model_module": "@jupyter-widgets/controls",
          "model_name": "HBoxModel",
          "model_module_version": "1.5.0",
          "state": {
            "_dom_classes": [],
            "_model_module": "@jupyter-widgets/controls",
            "_model_module_version": "1.5.0",
            "_model_name": "HBoxModel",
            "_view_count": null,
            "_view_module": "@jupyter-widgets/controls",
            "_view_module_version": "1.5.0",
            "_view_name": "HBoxView",
            "box_style": "",
            "children": [
              "IPY_MODEL_521ff6154f644cb695dc53554dfc674d",
              "IPY_MODEL_3e5ae716da8c46828b8c970dd14042b3",
              "IPY_MODEL_897a8602b4c0439f8338c2b8a1727679"
            ],
            "layout": "IPY_MODEL_a60a68e6001e47b0840cc90636d6a6c2"
          }
        },
        "521ff6154f644cb695dc53554dfc674d": {
          "model_module": "@jupyter-widgets/controls",
          "model_name": "HTMLModel",
          "model_module_version": "1.5.0",
          "state": {
            "_dom_classes": [],
            "_model_module": "@jupyter-widgets/controls",
            "_model_module_version": "1.5.0",
            "_model_name": "HTMLModel",
            "_view_count": null,
            "_view_module": "@jupyter-widgets/controls",
            "_view_module_version": "1.5.0",
            "_view_name": "HTMLView",
            "description": "",
            "description_tooltip": null,
            "layout": "IPY_MODEL_10dafcd1ef8a414f95dc2de7a76bf496",
            "placeholder": "​",
            "style": "IPY_MODEL_793e53728e1240849a39db3e4d4447a3",
            "value": "config.json: 100%"
          }
        },
        "3e5ae716da8c46828b8c970dd14042b3": {
          "model_module": "@jupyter-widgets/controls",
          "model_name": "FloatProgressModel",
          "model_module_version": "1.5.0",
          "state": {
            "_dom_classes": [],
            "_model_module": "@jupyter-widgets/controls",
            "_model_module_version": "1.5.0",
            "_model_name": "FloatProgressModel",
            "_view_count": null,
            "_view_module": "@jupyter-widgets/controls",
            "_view_module_version": "1.5.0",
            "_view_name": "ProgressView",
            "bar_style": "success",
            "description": "",
            "description_tooltip": null,
            "layout": "IPY_MODEL_e981664087df447780d0b6491396354b",
            "max": 929,
            "min": 0,
            "orientation": "horizontal",
            "style": "IPY_MODEL_48be692c0c4543f498c388f8f456a432",
            "value": 929
          }
        },
        "897a8602b4c0439f8338c2b8a1727679": {
          "model_module": "@jupyter-widgets/controls",
          "model_name": "HTMLModel",
          "model_module_version": "1.5.0",
          "state": {
            "_dom_classes": [],
            "_model_module": "@jupyter-widgets/controls",
            "_model_module_version": "1.5.0",
            "_model_name": "HTMLModel",
            "_view_count": null,
            "_view_module": "@jupyter-widgets/controls",
            "_view_module_version": "1.5.0",
            "_view_name": "HTMLView",
            "description": "",
            "description_tooltip": null,
            "layout": "IPY_MODEL_e0492e034a464bbca084209160907c49",
            "placeholder": "​",
            "style": "IPY_MODEL_528c0dbd1b704c2e8e32e7a720a67409",
            "value": " 929/929 [00:00&lt;00:00, 30.1kB/s]"
          }
        },
        "a60a68e6001e47b0840cc90636d6a6c2": {
          "model_module": "@jupyter-widgets/base",
          "model_name": "LayoutModel",
          "model_module_version": "1.2.0",
          "state": {
            "_model_module": "@jupyter-widgets/base",
            "_model_module_version": "1.2.0",
            "_model_name": "LayoutModel",
            "_view_count": null,
            "_view_module": "@jupyter-widgets/base",
            "_view_module_version": "1.2.0",
            "_view_name": "LayoutView",
            "align_content": null,
            "align_items": null,
            "align_self": null,
            "border": null,
            "bottom": null,
            "display": null,
            "flex": null,
            "flex_flow": null,
            "grid_area": null,
            "grid_auto_columns": null,
            "grid_auto_flow": null,
            "grid_auto_rows": null,
            "grid_column": null,
            "grid_gap": null,
            "grid_row": null,
            "grid_template_areas": null,
            "grid_template_columns": null,
            "grid_template_rows": null,
            "height": null,
            "justify_content": null,
            "justify_items": null,
            "left": null,
            "margin": null,
            "max_height": null,
            "max_width": null,
            "min_height": null,
            "min_width": null,
            "object_fit": null,
            "object_position": null,
            "order": null,
            "overflow": null,
            "overflow_x": null,
            "overflow_y": null,
            "padding": null,
            "right": null,
            "top": null,
            "visibility": null,
            "width": null
          }
        },
        "10dafcd1ef8a414f95dc2de7a76bf496": {
          "model_module": "@jupyter-widgets/base",
          "model_name": "LayoutModel",
          "model_module_version": "1.2.0",
          "state": {
            "_model_module": "@jupyter-widgets/base",
            "_model_module_version": "1.2.0",
            "_model_name": "LayoutModel",
            "_view_count": null,
            "_view_module": "@jupyter-widgets/base",
            "_view_module_version": "1.2.0",
            "_view_name": "LayoutView",
            "align_content": null,
            "align_items": null,
            "align_self": null,
            "border": null,
            "bottom": null,
            "display": null,
            "flex": null,
            "flex_flow": null,
            "grid_area": null,
            "grid_auto_columns": null,
            "grid_auto_flow": null,
            "grid_auto_rows": null,
            "grid_column": null,
            "grid_gap": null,
            "grid_row": null,
            "grid_template_areas": null,
            "grid_template_columns": null,
            "grid_template_rows": null,
            "height": null,
            "justify_content": null,
            "justify_items": null,
            "left": null,
            "margin": null,
            "max_height": null,
            "max_width": null,
            "min_height": null,
            "min_width": null,
            "object_fit": null,
            "object_position": null,
            "order": null,
            "overflow": null,
            "overflow_x": null,
            "overflow_y": null,
            "padding": null,
            "right": null,
            "top": null,
            "visibility": null,
            "width": null
          }
        },
        "793e53728e1240849a39db3e4d4447a3": {
          "model_module": "@jupyter-widgets/controls",
          "model_name": "DescriptionStyleModel",
          "model_module_version": "1.5.0",
          "state": {
            "_model_module": "@jupyter-widgets/controls",
            "_model_module_version": "1.5.0",
            "_model_name": "DescriptionStyleModel",
            "_view_count": null,
            "_view_module": "@jupyter-widgets/base",
            "_view_module_version": "1.2.0",
            "_view_name": "StyleView",
            "description_width": ""
          }
        },
        "e981664087df447780d0b6491396354b": {
          "model_module": "@jupyter-widgets/base",
          "model_name": "LayoutModel",
          "model_module_version": "1.2.0",
          "state": {
            "_model_module": "@jupyter-widgets/base",
            "_model_module_version": "1.2.0",
            "_model_name": "LayoutModel",
            "_view_count": null,
            "_view_module": "@jupyter-widgets/base",
            "_view_module_version": "1.2.0",
            "_view_name": "LayoutView",
            "align_content": null,
            "align_items": null,
            "align_self": null,
            "border": null,
            "bottom": null,
            "display": null,
            "flex": null,
            "flex_flow": null,
            "grid_area": null,
            "grid_auto_columns": null,
            "grid_auto_flow": null,
            "grid_auto_rows": null,
            "grid_column": null,
            "grid_gap": null,
            "grid_row": null,
            "grid_template_areas": null,
            "grid_template_columns": null,
            "grid_template_rows": null,
            "height": null,
            "justify_content": null,
            "justify_items": null,
            "left": null,
            "margin": null,
            "max_height": null,
            "max_width": null,
            "min_height": null,
            "min_width": null,
            "object_fit": null,
            "object_position": null,
            "order": null,
            "overflow": null,
            "overflow_x": null,
            "overflow_y": null,
            "padding": null,
            "right": null,
            "top": null,
            "visibility": null,
            "width": null
          }
        },
        "48be692c0c4543f498c388f8f456a432": {
          "model_module": "@jupyter-widgets/controls",
          "model_name": "ProgressStyleModel",
          "model_module_version": "1.5.0",
          "state": {
            "_model_module": "@jupyter-widgets/controls",
            "_model_module_version": "1.5.0",
            "_model_name": "ProgressStyleModel",
            "_view_count": null,
            "_view_module": "@jupyter-widgets/base",
            "_view_module_version": "1.2.0",
            "_view_name": "StyleView",
            "bar_color": null,
            "description_width": ""
          }
        },
        "e0492e034a464bbca084209160907c49": {
          "model_module": "@jupyter-widgets/base",
          "model_name": "LayoutModel",
          "model_module_version": "1.2.0",
          "state": {
            "_model_module": "@jupyter-widgets/base",
            "_model_module_version": "1.2.0",
            "_model_name": "LayoutModel",
            "_view_count": null,
            "_view_module": "@jupyter-widgets/base",
            "_view_module_version": "1.2.0",
            "_view_name": "LayoutView",
            "align_content": null,
            "align_items": null,
            "align_self": null,
            "border": null,
            "bottom": null,
            "display": null,
            "flex": null,
            "flex_flow": null,
            "grid_area": null,
            "grid_auto_columns": null,
            "grid_auto_flow": null,
            "grid_auto_rows": null,
            "grid_column": null,
            "grid_gap": null,
            "grid_row": null,
            "grid_template_areas": null,
            "grid_template_columns": null,
            "grid_template_rows": null,
            "height": null,
            "justify_content": null,
            "justify_items": null,
            "left": null,
            "margin": null,
            "max_height": null,
            "max_width": null,
            "min_height": null,
            "min_width": null,
            "object_fit": null,
            "object_position": null,
            "order": null,
            "overflow": null,
            "overflow_x": null,
            "overflow_y": null,
            "padding": null,
            "right": null,
            "top": null,
            "visibility": null,
            "width": null
          }
        },
        "528c0dbd1b704c2e8e32e7a720a67409": {
          "model_module": "@jupyter-widgets/controls",
          "model_name": "DescriptionStyleModel",
          "model_module_version": "1.5.0",
          "state": {
            "_model_module": "@jupyter-widgets/controls",
            "_model_module_version": "1.5.0",
            "_model_name": "DescriptionStyleModel",
            "_view_count": null,
            "_view_module": "@jupyter-widgets/base",
            "_view_module_version": "1.2.0",
            "_view_name": "StyleView",
            "description_width": ""
          }
        },
        "e23a87e9a3924e07906913482f61779f": {
          "model_module": "@jupyter-widgets/controls",
          "model_name": "HBoxModel",
          "model_module_version": "1.5.0",
          "state": {
            "_dom_classes": [],
            "_model_module": "@jupyter-widgets/controls",
            "_model_module_version": "1.5.0",
            "_model_name": "HBoxModel",
            "_view_count": null,
            "_view_module": "@jupyter-widgets/controls",
            "_view_module_version": "1.5.0",
            "_view_name": "HBoxView",
            "box_style": "",
            "children": [
              "IPY_MODEL_880ec74fc21e48a58f7cbc7461642649",
              "IPY_MODEL_d7bbc547fd21454ab4beb9ddb56a25b9",
              "IPY_MODEL_ee853ce5f2dd49708f6ef2bfc11e60ff"
            ],
            "layout": "IPY_MODEL_34432e9b239e4882a8c968c55c53ff8d"
          }
        },
        "880ec74fc21e48a58f7cbc7461642649": {
          "model_module": "@jupyter-widgets/controls",
          "model_name": "HTMLModel",
          "model_module_version": "1.5.0",
          "state": {
            "_dom_classes": [],
            "_model_module": "@jupyter-widgets/controls",
            "_model_module_version": "1.5.0",
            "_model_name": "HTMLModel",
            "_view_count": null,
            "_view_module": "@jupyter-widgets/controls",
            "_view_module_version": "1.5.0",
            "_view_name": "HTMLView",
            "description": "",
            "description_tooltip": null,
            "layout": "IPY_MODEL_67f5c1ff06b6475aa601942da977bc1a",
            "placeholder": "​",
            "style": "IPY_MODEL_eb51a3663d1a46bda962b94af1eada8e",
            "value": "vocab.json: 100%"
          }
        },
        "d7bbc547fd21454ab4beb9ddb56a25b9": {
          "model_module": "@jupyter-widgets/controls",
          "model_name": "FloatProgressModel",
          "model_module_version": "1.5.0",
          "state": {
            "_dom_classes": [],
            "_model_module": "@jupyter-widgets/controls",
            "_model_module_version": "1.5.0",
            "_model_name": "FloatProgressModel",
            "_view_count": null,
            "_view_module": "@jupyter-widgets/controls",
            "_view_module_version": "1.5.0",
            "_view_name": "ProgressView",
            "bar_style": "success",
            "description": "",
            "description_tooltip": null,
            "layout": "IPY_MODEL_1e2dab19f0c3433da236ae893b94874f",
            "max": 898822,
            "min": 0,
            "orientation": "horizontal",
            "style": "IPY_MODEL_d73fdaca351f488cb98f83ca271e8606",
            "value": 898822
          }
        },
        "ee853ce5f2dd49708f6ef2bfc11e60ff": {
          "model_module": "@jupyter-widgets/controls",
          "model_name": "HTMLModel",
          "model_module_version": "1.5.0",
          "state": {
            "_dom_classes": [],
            "_model_module": "@jupyter-widgets/controls",
            "_model_module_version": "1.5.0",
            "_model_name": "HTMLModel",
            "_view_count": null,
            "_view_module": "@jupyter-widgets/controls",
            "_view_module_version": "1.5.0",
            "_view_name": "HTMLView",
            "description": "",
            "description_tooltip": null,
            "layout": "IPY_MODEL_37e37903abb242bfbdbc81685c03b8e7",
            "placeholder": "​",
            "style": "IPY_MODEL_ffc2b6abf9c94fdc906af7a1bbab5102",
            "value": " 899k/899k [00:00&lt;00:00, 4.61MB/s]"
          }
        },
        "34432e9b239e4882a8c968c55c53ff8d": {
          "model_module": "@jupyter-widgets/base",
          "model_name": "LayoutModel",
          "model_module_version": "1.2.0",
          "state": {
            "_model_module": "@jupyter-widgets/base",
            "_model_module_version": "1.2.0",
            "_model_name": "LayoutModel",
            "_view_count": null,
            "_view_module": "@jupyter-widgets/base",
            "_view_module_version": "1.2.0",
            "_view_name": "LayoutView",
            "align_content": null,
            "align_items": null,
            "align_self": null,
            "border": null,
            "bottom": null,
            "display": null,
            "flex": null,
            "flex_flow": null,
            "grid_area": null,
            "grid_auto_columns": null,
            "grid_auto_flow": null,
            "grid_auto_rows": null,
            "grid_column": null,
            "grid_gap": null,
            "grid_row": null,
            "grid_template_areas": null,
            "grid_template_columns": null,
            "grid_template_rows": null,
            "height": null,
            "justify_content": null,
            "justify_items": null,
            "left": null,
            "margin": null,
            "max_height": null,
            "max_width": null,
            "min_height": null,
            "min_width": null,
            "object_fit": null,
            "object_position": null,
            "order": null,
            "overflow": null,
            "overflow_x": null,
            "overflow_y": null,
            "padding": null,
            "right": null,
            "top": null,
            "visibility": null,
            "width": null
          }
        },
        "67f5c1ff06b6475aa601942da977bc1a": {
          "model_module": "@jupyter-widgets/base",
          "model_name": "LayoutModel",
          "model_module_version": "1.2.0",
          "state": {
            "_model_module": "@jupyter-widgets/base",
            "_model_module_version": "1.2.0",
            "_model_name": "LayoutModel",
            "_view_count": null,
            "_view_module": "@jupyter-widgets/base",
            "_view_module_version": "1.2.0",
            "_view_name": "LayoutView",
            "align_content": null,
            "align_items": null,
            "align_self": null,
            "border": null,
            "bottom": null,
            "display": null,
            "flex": null,
            "flex_flow": null,
            "grid_area": null,
            "grid_auto_columns": null,
            "grid_auto_flow": null,
            "grid_auto_rows": null,
            "grid_column": null,
            "grid_gap": null,
            "grid_row": null,
            "grid_template_areas": null,
            "grid_template_columns": null,
            "grid_template_rows": null,
            "height": null,
            "justify_content": null,
            "justify_items": null,
            "left": null,
            "margin": null,
            "max_height": null,
            "max_width": null,
            "min_height": null,
            "min_width": null,
            "object_fit": null,
            "object_position": null,
            "order": null,
            "overflow": null,
            "overflow_x": null,
            "overflow_y": null,
            "padding": null,
            "right": null,
            "top": null,
            "visibility": null,
            "width": null
          }
        },
        "eb51a3663d1a46bda962b94af1eada8e": {
          "model_module": "@jupyter-widgets/controls",
          "model_name": "DescriptionStyleModel",
          "model_module_version": "1.5.0",
          "state": {
            "_model_module": "@jupyter-widgets/controls",
            "_model_module_version": "1.5.0",
            "_model_name": "DescriptionStyleModel",
            "_view_count": null,
            "_view_module": "@jupyter-widgets/base",
            "_view_module_version": "1.2.0",
            "_view_name": "StyleView",
            "description_width": ""
          }
        },
        "1e2dab19f0c3433da236ae893b94874f": {
          "model_module": "@jupyter-widgets/base",
          "model_name": "LayoutModel",
          "model_module_version": "1.2.0",
          "state": {
            "_model_module": "@jupyter-widgets/base",
            "_model_module_version": "1.2.0",
            "_model_name": "LayoutModel",
            "_view_count": null,
            "_view_module": "@jupyter-widgets/base",
            "_view_module_version": "1.2.0",
            "_view_name": "LayoutView",
            "align_content": null,
            "align_items": null,
            "align_self": null,
            "border": null,
            "bottom": null,
            "display": null,
            "flex": null,
            "flex_flow": null,
            "grid_area": null,
            "grid_auto_columns": null,
            "grid_auto_flow": null,
            "grid_auto_rows": null,
            "grid_column": null,
            "grid_gap": null,
            "grid_row": null,
            "grid_template_areas": null,
            "grid_template_columns": null,
            "grid_template_rows": null,
            "height": null,
            "justify_content": null,
            "justify_items": null,
            "left": null,
            "margin": null,
            "max_height": null,
            "max_width": null,
            "min_height": null,
            "min_width": null,
            "object_fit": null,
            "object_position": null,
            "order": null,
            "overflow": null,
            "overflow_x": null,
            "overflow_y": null,
            "padding": null,
            "right": null,
            "top": null,
            "visibility": null,
            "width": null
          }
        },
        "d73fdaca351f488cb98f83ca271e8606": {
          "model_module": "@jupyter-widgets/controls",
          "model_name": "ProgressStyleModel",
          "model_module_version": "1.5.0",
          "state": {
            "_model_module": "@jupyter-widgets/controls",
            "_model_module_version": "1.5.0",
            "_model_name": "ProgressStyleModel",
            "_view_count": null,
            "_view_module": "@jupyter-widgets/base",
            "_view_module_version": "1.2.0",
            "_view_name": "StyleView",
            "bar_color": null,
            "description_width": ""
          }
        },
        "37e37903abb242bfbdbc81685c03b8e7": {
          "model_module": "@jupyter-widgets/base",
          "model_name": "LayoutModel",
          "model_module_version": "1.2.0",
          "state": {
            "_model_module": "@jupyter-widgets/base",
            "_model_module_version": "1.2.0",
            "_model_name": "LayoutModel",
            "_view_count": null,
            "_view_module": "@jupyter-widgets/base",
            "_view_module_version": "1.2.0",
            "_view_name": "LayoutView",
            "align_content": null,
            "align_items": null,
            "align_self": null,
            "border": null,
            "bottom": null,
            "display": null,
            "flex": null,
            "flex_flow": null,
            "grid_area": null,
            "grid_auto_columns": null,
            "grid_auto_flow": null,
            "grid_auto_rows": null,
            "grid_column": null,
            "grid_gap": null,
            "grid_row": null,
            "grid_template_areas": null,
            "grid_template_columns": null,
            "grid_template_rows": null,
            "height": null,
            "justify_content": null,
            "justify_items": null,
            "left": null,
            "margin": null,
            "max_height": null,
            "max_width": null,
            "min_height": null,
            "min_width": null,
            "object_fit": null,
            "object_position": null,
            "order": null,
            "overflow": null,
            "overflow_x": null,
            "overflow_y": null,
            "padding": null,
            "right": null,
            "top": null,
            "visibility": null,
            "width": null
          }
        },
        "ffc2b6abf9c94fdc906af7a1bbab5102": {
          "model_module": "@jupyter-widgets/controls",
          "model_name": "DescriptionStyleModel",
          "model_module_version": "1.5.0",
          "state": {
            "_model_module": "@jupyter-widgets/controls",
            "_model_module_version": "1.5.0",
            "_model_name": "DescriptionStyleModel",
            "_view_count": null,
            "_view_module": "@jupyter-widgets/base",
            "_view_module_version": "1.2.0",
            "_view_name": "StyleView",
            "description_width": ""
          }
        },
        "44f9454a202d45dc84d607b1a47a904a": {
          "model_module": "@jupyter-widgets/controls",
          "model_name": "HBoxModel",
          "model_module_version": "1.5.0",
          "state": {
            "_dom_classes": [],
            "_model_module": "@jupyter-widgets/controls",
            "_model_module_version": "1.5.0",
            "_model_name": "HBoxModel",
            "_view_count": null,
            "_view_module": "@jupyter-widgets/controls",
            "_view_module_version": "1.5.0",
            "_view_name": "HBoxView",
            "box_style": "",
            "children": [
              "IPY_MODEL_3d12b1ee3d074a2b9fd846162e528fa9",
              "IPY_MODEL_73c292232118449ab35178beb2a6e0af",
              "IPY_MODEL_e1e92a1d5a2d46bbbc054d440d1e74a5"
            ],
            "layout": "IPY_MODEL_bd75c159d4794c75955cf407c549d206"
          }
        },
        "3d12b1ee3d074a2b9fd846162e528fa9": {
          "model_module": "@jupyter-widgets/controls",
          "model_name": "HTMLModel",
          "model_module_version": "1.5.0",
          "state": {
            "_dom_classes": [],
            "_model_module": "@jupyter-widgets/controls",
            "_model_module_version": "1.5.0",
            "_model_name": "HTMLModel",
            "_view_count": null,
            "_view_module": "@jupyter-widgets/controls",
            "_view_module_version": "1.5.0",
            "_view_name": "HTMLView",
            "description": "",
            "description_tooltip": null,
            "layout": "IPY_MODEL_339e1bdb07cf4021aa0a687c894ac84a",
            "placeholder": "​",
            "style": "IPY_MODEL_6d8e32cf1eac466590ab65dd919fe564",
            "value": "merges.txt: 100%"
          }
        },
        "73c292232118449ab35178beb2a6e0af": {
          "model_module": "@jupyter-widgets/controls",
          "model_name": "FloatProgressModel",
          "model_module_version": "1.5.0",
          "state": {
            "_dom_classes": [],
            "_model_module": "@jupyter-widgets/controls",
            "_model_module_version": "1.5.0",
            "_model_name": "FloatProgressModel",
            "_view_count": null,
            "_view_module": "@jupyter-widgets/controls",
            "_view_module_version": "1.5.0",
            "_view_name": "ProgressView",
            "bar_style": "success",
            "description": "",
            "description_tooltip": null,
            "layout": "IPY_MODEL_d342321bf6144ae68951597d24b1eb78",
            "max": 456318,
            "min": 0,
            "orientation": "horizontal",
            "style": "IPY_MODEL_141ab4e1589b4e128b57f5a19c27aad3",
            "value": 456318
          }
        },
        "e1e92a1d5a2d46bbbc054d440d1e74a5": {
          "model_module": "@jupyter-widgets/controls",
          "model_name": "HTMLModel",
          "model_module_version": "1.5.0",
          "state": {
            "_dom_classes": [],
            "_model_module": "@jupyter-widgets/controls",
            "_model_module_version": "1.5.0",
            "_model_name": "HTMLModel",
            "_view_count": null,
            "_view_module": "@jupyter-widgets/controls",
            "_view_module_version": "1.5.0",
            "_view_name": "HTMLView",
            "description": "",
            "description_tooltip": null,
            "layout": "IPY_MODEL_74334f9d97d24525bcda28f28d1f0f6a",
            "placeholder": "​",
            "style": "IPY_MODEL_ee2f105098c14188a3f53265c66dfb39",
            "value": " 456k/456k [00:00&lt;00:00, 3.69MB/s]"
          }
        },
        "bd75c159d4794c75955cf407c549d206": {
          "model_module": "@jupyter-widgets/base",
          "model_name": "LayoutModel",
          "model_module_version": "1.2.0",
          "state": {
            "_model_module": "@jupyter-widgets/base",
            "_model_module_version": "1.2.0",
            "_model_name": "LayoutModel",
            "_view_count": null,
            "_view_module": "@jupyter-widgets/base",
            "_view_module_version": "1.2.0",
            "_view_name": "LayoutView",
            "align_content": null,
            "align_items": null,
            "align_self": null,
            "border": null,
            "bottom": null,
            "display": null,
            "flex": null,
            "flex_flow": null,
            "grid_area": null,
            "grid_auto_columns": null,
            "grid_auto_flow": null,
            "grid_auto_rows": null,
            "grid_column": null,
            "grid_gap": null,
            "grid_row": null,
            "grid_template_areas": null,
            "grid_template_columns": null,
            "grid_template_rows": null,
            "height": null,
            "justify_content": null,
            "justify_items": null,
            "left": null,
            "margin": null,
            "max_height": null,
            "max_width": null,
            "min_height": null,
            "min_width": null,
            "object_fit": null,
            "object_position": null,
            "order": null,
            "overflow": null,
            "overflow_x": null,
            "overflow_y": null,
            "padding": null,
            "right": null,
            "top": null,
            "visibility": null,
            "width": null
          }
        },
        "339e1bdb07cf4021aa0a687c894ac84a": {
          "model_module": "@jupyter-widgets/base",
          "model_name": "LayoutModel",
          "model_module_version": "1.2.0",
          "state": {
            "_model_module": "@jupyter-widgets/base",
            "_model_module_version": "1.2.0",
            "_model_name": "LayoutModel",
            "_view_count": null,
            "_view_module": "@jupyter-widgets/base",
            "_view_module_version": "1.2.0",
            "_view_name": "LayoutView",
            "align_content": null,
            "align_items": null,
            "align_self": null,
            "border": null,
            "bottom": null,
            "display": null,
            "flex": null,
            "flex_flow": null,
            "grid_area": null,
            "grid_auto_columns": null,
            "grid_auto_flow": null,
            "grid_auto_rows": null,
            "grid_column": null,
            "grid_gap": null,
            "grid_row": null,
            "grid_template_areas": null,
            "grid_template_columns": null,
            "grid_template_rows": null,
            "height": null,
            "justify_content": null,
            "justify_items": null,
            "left": null,
            "margin": null,
            "max_height": null,
            "max_width": null,
            "min_height": null,
            "min_width": null,
            "object_fit": null,
            "object_position": null,
            "order": null,
            "overflow": null,
            "overflow_x": null,
            "overflow_y": null,
            "padding": null,
            "right": null,
            "top": null,
            "visibility": null,
            "width": null
          }
        },
        "6d8e32cf1eac466590ab65dd919fe564": {
          "model_module": "@jupyter-widgets/controls",
          "model_name": "DescriptionStyleModel",
          "model_module_version": "1.5.0",
          "state": {
            "_model_module": "@jupyter-widgets/controls",
            "_model_module_version": "1.5.0",
            "_model_name": "DescriptionStyleModel",
            "_view_count": null,
            "_view_module": "@jupyter-widgets/base",
            "_view_module_version": "1.2.0",
            "_view_name": "StyleView",
            "description_width": ""
          }
        },
        "d342321bf6144ae68951597d24b1eb78": {
          "model_module": "@jupyter-widgets/base",
          "model_name": "LayoutModel",
          "model_module_version": "1.2.0",
          "state": {
            "_model_module": "@jupyter-widgets/base",
            "_model_module_version": "1.2.0",
            "_model_name": "LayoutModel",
            "_view_count": null,
            "_view_module": "@jupyter-widgets/base",
            "_view_module_version": "1.2.0",
            "_view_name": "LayoutView",
            "align_content": null,
            "align_items": null,
            "align_self": null,
            "border": null,
            "bottom": null,
            "display": null,
            "flex": null,
            "flex_flow": null,
            "grid_area": null,
            "grid_auto_columns": null,
            "grid_auto_flow": null,
            "grid_auto_rows": null,
            "grid_column": null,
            "grid_gap": null,
            "grid_row": null,
            "grid_template_areas": null,
            "grid_template_columns": null,
            "grid_template_rows": null,
            "height": null,
            "justify_content": null,
            "justify_items": null,
            "left": null,
            "margin": null,
            "max_height": null,
            "max_width": null,
            "min_height": null,
            "min_width": null,
            "object_fit": null,
            "object_position": null,
            "order": null,
            "overflow": null,
            "overflow_x": null,
            "overflow_y": null,
            "padding": null,
            "right": null,
            "top": null,
            "visibility": null,
            "width": null
          }
        },
        "141ab4e1589b4e128b57f5a19c27aad3": {
          "model_module": "@jupyter-widgets/controls",
          "model_name": "ProgressStyleModel",
          "model_module_version": "1.5.0",
          "state": {
            "_model_module": "@jupyter-widgets/controls",
            "_model_module_version": "1.5.0",
            "_model_name": "ProgressStyleModel",
            "_view_count": null,
            "_view_module": "@jupyter-widgets/base",
            "_view_module_version": "1.2.0",
            "_view_name": "StyleView",
            "bar_color": null,
            "description_width": ""
          }
        },
        "74334f9d97d24525bcda28f28d1f0f6a": {
          "model_module": "@jupyter-widgets/base",
          "model_name": "LayoutModel",
          "model_module_version": "1.2.0",
          "state": {
            "_model_module": "@jupyter-widgets/base",
            "_model_module_version": "1.2.0",
            "_model_name": "LayoutModel",
            "_view_count": null,
            "_view_module": "@jupyter-widgets/base",
            "_view_module_version": "1.2.0",
            "_view_name": "LayoutView",
            "align_content": null,
            "align_items": null,
            "align_self": null,
            "border": null,
            "bottom": null,
            "display": null,
            "flex": null,
            "flex_flow": null,
            "grid_area": null,
            "grid_auto_columns": null,
            "grid_auto_flow": null,
            "grid_auto_rows": null,
            "grid_column": null,
            "grid_gap": null,
            "grid_row": null,
            "grid_template_areas": null,
            "grid_template_columns": null,
            "grid_template_rows": null,
            "height": null,
            "justify_content": null,
            "justify_items": null,
            "left": null,
            "margin": null,
            "max_height": null,
            "max_width": null,
            "min_height": null,
            "min_width": null,
            "object_fit": null,
            "object_position": null,
            "order": null,
            "overflow": null,
            "overflow_x": null,
            "overflow_y": null,
            "padding": null,
            "right": null,
            "top": null,
            "visibility": null,
            "width": null
          }
        },
        "ee2f105098c14188a3f53265c66dfb39": {
          "model_module": "@jupyter-widgets/controls",
          "model_name": "DescriptionStyleModel",
          "model_module_version": "1.5.0",
          "state": {
            "_model_module": "@jupyter-widgets/controls",
            "_model_module_version": "1.5.0",
            "_model_name": "DescriptionStyleModel",
            "_view_count": null,
            "_view_module": "@jupyter-widgets/base",
            "_view_module_version": "1.2.0",
            "_view_name": "StyleView",
            "description_width": ""
          }
        },
        "f206397fc71840479adf27cf98b0b8cf": {
          "model_module": "@jupyter-widgets/controls",
          "model_name": "HBoxModel",
          "model_module_version": "1.5.0",
          "state": {
            "_dom_classes": [],
            "_model_module": "@jupyter-widgets/controls",
            "_model_module_version": "1.5.0",
            "_model_name": "HBoxModel",
            "_view_count": null,
            "_view_module": "@jupyter-widgets/controls",
            "_view_module_version": "1.5.0",
            "_view_name": "HBoxView",
            "box_style": "",
            "children": [
              "IPY_MODEL_8292b4f0ae4741edbd70516fa830f4da",
              "IPY_MODEL_7f0e22877fa84be4a5c90d670e1db9eb",
              "IPY_MODEL_1acd7cd710094d1cb3defeab76f5be16"
            ],
            "layout": "IPY_MODEL_b0ee4a94e6f5424087d9eb315a5ee855"
          }
        },
        "8292b4f0ae4741edbd70516fa830f4da": {
          "model_module": "@jupyter-widgets/controls",
          "model_name": "HTMLModel",
          "model_module_version": "1.5.0",
          "state": {
            "_dom_classes": [],
            "_model_module": "@jupyter-widgets/controls",
            "_model_module_version": "1.5.0",
            "_model_name": "HTMLModel",
            "_view_count": null,
            "_view_module": "@jupyter-widgets/controls",
            "_view_module_version": "1.5.0",
            "_view_name": "HTMLView",
            "description": "",
            "description_tooltip": null,
            "layout": "IPY_MODEL_a5102229dcc94aa9aff2b3a89ea84e6d",
            "placeholder": "​",
            "style": "IPY_MODEL_87e014d9542f486c92b2caaf66c476e6",
            "value": "special_tokens_map.json: 100%"
          }
        },
        "7f0e22877fa84be4a5c90d670e1db9eb": {
          "model_module": "@jupyter-widgets/controls",
          "model_name": "FloatProgressModel",
          "model_module_version": "1.5.0",
          "state": {
            "_dom_classes": [],
            "_model_module": "@jupyter-widgets/controls",
            "_model_module_version": "1.5.0",
            "_model_name": "FloatProgressModel",
            "_view_count": null,
            "_view_module": "@jupyter-widgets/controls",
            "_view_module_version": "1.5.0",
            "_view_name": "ProgressView",
            "bar_style": "success",
            "description": "",
            "description_tooltip": null,
            "layout": "IPY_MODEL_8b3270245eba4f01ae8674623b59a8c4",
            "max": 239,
            "min": 0,
            "orientation": "horizontal",
            "style": "IPY_MODEL_006533a6113542a093e30e356d60fa5e",
            "value": 239
          }
        },
        "1acd7cd710094d1cb3defeab76f5be16": {
          "model_module": "@jupyter-widgets/controls",
          "model_name": "HTMLModel",
          "model_module_version": "1.5.0",
          "state": {
            "_dom_classes": [],
            "_model_module": "@jupyter-widgets/controls",
            "_model_module_version": "1.5.0",
            "_model_name": "HTMLModel",
            "_view_count": null,
            "_view_module": "@jupyter-widgets/controls",
            "_view_module_version": "1.5.0",
            "_view_name": "HTMLView",
            "description": "",
            "description_tooltip": null,
            "layout": "IPY_MODEL_89a8c82081064d88850b6788235b18f6",
            "placeholder": "​",
            "style": "IPY_MODEL_22cc31a87fc34e3692a2b9ca45da4c81",
            "value": " 239/239 [00:00&lt;00:00, 4.29kB/s]"
          }
        },
        "b0ee4a94e6f5424087d9eb315a5ee855": {
          "model_module": "@jupyter-widgets/base",
          "model_name": "LayoutModel",
          "model_module_version": "1.2.0",
          "state": {
            "_model_module": "@jupyter-widgets/base",
            "_model_module_version": "1.2.0",
            "_model_name": "LayoutModel",
            "_view_count": null,
            "_view_module": "@jupyter-widgets/base",
            "_view_module_version": "1.2.0",
            "_view_name": "LayoutView",
            "align_content": null,
            "align_items": null,
            "align_self": null,
            "border": null,
            "bottom": null,
            "display": null,
            "flex": null,
            "flex_flow": null,
            "grid_area": null,
            "grid_auto_columns": null,
            "grid_auto_flow": null,
            "grid_auto_rows": null,
            "grid_column": null,
            "grid_gap": null,
            "grid_row": null,
            "grid_template_areas": null,
            "grid_template_columns": null,
            "grid_template_rows": null,
            "height": null,
            "justify_content": null,
            "justify_items": null,
            "left": null,
            "margin": null,
            "max_height": null,
            "max_width": null,
            "min_height": null,
            "min_width": null,
            "object_fit": null,
            "object_position": null,
            "order": null,
            "overflow": null,
            "overflow_x": null,
            "overflow_y": null,
            "padding": null,
            "right": null,
            "top": null,
            "visibility": null,
            "width": null
          }
        },
        "a5102229dcc94aa9aff2b3a89ea84e6d": {
          "model_module": "@jupyter-widgets/base",
          "model_name": "LayoutModel",
          "model_module_version": "1.2.0",
          "state": {
            "_model_module": "@jupyter-widgets/base",
            "_model_module_version": "1.2.0",
            "_model_name": "LayoutModel",
            "_view_count": null,
            "_view_module": "@jupyter-widgets/base",
            "_view_module_version": "1.2.0",
            "_view_name": "LayoutView",
            "align_content": null,
            "align_items": null,
            "align_self": null,
            "border": null,
            "bottom": null,
            "display": null,
            "flex": null,
            "flex_flow": null,
            "grid_area": null,
            "grid_auto_columns": null,
            "grid_auto_flow": null,
            "grid_auto_rows": null,
            "grid_column": null,
            "grid_gap": null,
            "grid_row": null,
            "grid_template_areas": null,
            "grid_template_columns": null,
            "grid_template_rows": null,
            "height": null,
            "justify_content": null,
            "justify_items": null,
            "left": null,
            "margin": null,
            "max_height": null,
            "max_width": null,
            "min_height": null,
            "min_width": null,
            "object_fit": null,
            "object_position": null,
            "order": null,
            "overflow": null,
            "overflow_x": null,
            "overflow_y": null,
            "padding": null,
            "right": null,
            "top": null,
            "visibility": null,
            "width": null
          }
        },
        "87e014d9542f486c92b2caaf66c476e6": {
          "model_module": "@jupyter-widgets/controls",
          "model_name": "DescriptionStyleModel",
          "model_module_version": "1.5.0",
          "state": {
            "_model_module": "@jupyter-widgets/controls",
            "_model_module_version": "1.5.0",
            "_model_name": "DescriptionStyleModel",
            "_view_count": null,
            "_view_module": "@jupyter-widgets/base",
            "_view_module_version": "1.2.0",
            "_view_name": "StyleView",
            "description_width": ""
          }
        },
        "8b3270245eba4f01ae8674623b59a8c4": {
          "model_module": "@jupyter-widgets/base",
          "model_name": "LayoutModel",
          "model_module_version": "1.2.0",
          "state": {
            "_model_module": "@jupyter-widgets/base",
            "_model_module_version": "1.2.0",
            "_model_name": "LayoutModel",
            "_view_count": null,
            "_view_module": "@jupyter-widgets/base",
            "_view_module_version": "1.2.0",
            "_view_name": "LayoutView",
            "align_content": null,
            "align_items": null,
            "align_self": null,
            "border": null,
            "bottom": null,
            "display": null,
            "flex": null,
            "flex_flow": null,
            "grid_area": null,
            "grid_auto_columns": null,
            "grid_auto_flow": null,
            "grid_auto_rows": null,
            "grid_column": null,
            "grid_gap": null,
            "grid_row": null,
            "grid_template_areas": null,
            "grid_template_columns": null,
            "grid_template_rows": null,
            "height": null,
            "justify_content": null,
            "justify_items": null,
            "left": null,
            "margin": null,
            "max_height": null,
            "max_width": null,
            "min_height": null,
            "min_width": null,
            "object_fit": null,
            "object_position": null,
            "order": null,
            "overflow": null,
            "overflow_x": null,
            "overflow_y": null,
            "padding": null,
            "right": null,
            "top": null,
            "visibility": null,
            "width": null
          }
        },
        "006533a6113542a093e30e356d60fa5e": {
          "model_module": "@jupyter-widgets/controls",
          "model_name": "ProgressStyleModel",
          "model_module_version": "1.5.0",
          "state": {
            "_model_module": "@jupyter-widgets/controls",
            "_model_module_version": "1.5.0",
            "_model_name": "ProgressStyleModel",
            "_view_count": null,
            "_view_module": "@jupyter-widgets/base",
            "_view_module_version": "1.2.0",
            "_view_name": "StyleView",
            "bar_color": null,
            "description_width": ""
          }
        },
        "89a8c82081064d88850b6788235b18f6": {
          "model_module": "@jupyter-widgets/base",
          "model_name": "LayoutModel",
          "model_module_version": "1.2.0",
          "state": {
            "_model_module": "@jupyter-widgets/base",
            "_model_module_version": "1.2.0",
            "_model_name": "LayoutModel",
            "_view_count": null,
            "_view_module": "@jupyter-widgets/base",
            "_view_module_version": "1.2.0",
            "_view_name": "LayoutView",
            "align_content": null,
            "align_items": null,
            "align_self": null,
            "border": null,
            "bottom": null,
            "display": null,
            "flex": null,
            "flex_flow": null,
            "grid_area": null,
            "grid_auto_columns": null,
            "grid_auto_flow": null,
            "grid_auto_rows": null,
            "grid_column": null,
            "grid_gap": null,
            "grid_row": null,
            "grid_template_areas": null,
            "grid_template_columns": null,
            "grid_template_rows": null,
            "height": null,
            "justify_content": null,
            "justify_items": null,
            "left": null,
            "margin": null,
            "max_height": null,
            "max_width": null,
            "min_height": null,
            "min_width": null,
            "object_fit": null,
            "object_position": null,
            "order": null,
            "overflow": null,
            "overflow_x": null,
            "overflow_y": null,
            "padding": null,
            "right": null,
            "top": null,
            "visibility": null,
            "width": null
          }
        },
        "22cc31a87fc34e3692a2b9ca45da4c81": {
          "model_module": "@jupyter-widgets/controls",
          "model_name": "DescriptionStyleModel",
          "model_module_version": "1.5.0",
          "state": {
            "_model_module": "@jupyter-widgets/controls",
            "_model_module_version": "1.5.0",
            "_model_name": "DescriptionStyleModel",
            "_view_count": null,
            "_view_module": "@jupyter-widgets/base",
            "_view_module_version": "1.2.0",
            "_view_name": "StyleView",
            "description_width": ""
          }
        },
        "ec20d7e6cc3a40769774a5bf89526f1b": {
          "model_module": "@jupyter-widgets/controls",
          "model_name": "HBoxModel",
          "model_module_version": "1.5.0",
          "state": {
            "_dom_classes": [],
            "_model_module": "@jupyter-widgets/controls",
            "_model_module_version": "1.5.0",
            "_model_name": "HBoxModel",
            "_view_count": null,
            "_view_module": "@jupyter-widgets/controls",
            "_view_module_version": "1.5.0",
            "_view_name": "HBoxView",
            "box_style": "",
            "children": [
              "IPY_MODEL_27c33a60685449a08abf1b11444b3027",
              "IPY_MODEL_97877fbf17ef4878bad2d63e1189f63a",
              "IPY_MODEL_4e18e8f12a3445bcb67b7af53f5999e2"
            ],
            "layout": "IPY_MODEL_d62f4d40dcab439b9849062ea111b733"
          }
        },
        "27c33a60685449a08abf1b11444b3027": {
          "model_module": "@jupyter-widgets/controls",
          "model_name": "HTMLModel",
          "model_module_version": "1.5.0",
          "state": {
            "_dom_classes": [],
            "_model_module": "@jupyter-widgets/controls",
            "_model_module_version": "1.5.0",
            "_model_name": "HTMLModel",
            "_view_count": null,
            "_view_module": "@jupyter-widgets/controls",
            "_view_module_version": "1.5.0",
            "_view_name": "HTMLView",
            "description": "",
            "description_tooltip": null,
            "layout": "IPY_MODEL_cc77e95581a44921b688bedc37beca0f",
            "placeholder": "​",
            "style": "IPY_MODEL_89e24df6415e41bcb50984cc9f12f956",
            "value": "pytorch_model.bin: 100%"
          }
        },
        "97877fbf17ef4878bad2d63e1189f63a": {
          "model_module": "@jupyter-widgets/controls",
          "model_name": "FloatProgressModel",
          "model_module_version": "1.5.0",
          "state": {
            "_dom_classes": [],
            "_model_module": "@jupyter-widgets/controls",
            "_model_module_version": "1.5.0",
            "_model_name": "FloatProgressModel",
            "_view_count": null,
            "_view_module": "@jupyter-widgets/controls",
            "_view_module_version": "1.5.0",
            "_view_name": "ProgressView",
            "bar_style": "success",
            "description": "",
            "description_tooltip": null,
            "layout": "IPY_MODEL_ba0907b4fe5a4a76b4228e1b8298d404",
            "max": 501045531,
            "min": 0,
            "orientation": "horizontal",
            "style": "IPY_MODEL_55cf372342804436b36ee5db95b9004c",
            "value": 501045531
          }
        },
        "4e18e8f12a3445bcb67b7af53f5999e2": {
          "model_module": "@jupyter-widgets/controls",
          "model_name": "HTMLModel",
          "model_module_version": "1.5.0",
          "state": {
            "_dom_classes": [],
            "_model_module": "@jupyter-widgets/controls",
            "_model_module_version": "1.5.0",
            "_model_name": "HTMLModel",
            "_view_count": null,
            "_view_module": "@jupyter-widgets/controls",
            "_view_module_version": "1.5.0",
            "_view_name": "HTMLView",
            "description": "",
            "description_tooltip": null,
            "layout": "IPY_MODEL_c0d80fe3ba434ecf8c5beeaf4ec481ea",
            "placeholder": "​",
            "style": "IPY_MODEL_31286882bc2a4b6588af1233862f6a33",
            "value": " 501M/501M [00:03&lt;00:00, 132MB/s]"
          }
        },
        "d62f4d40dcab439b9849062ea111b733": {
          "model_module": "@jupyter-widgets/base",
          "model_name": "LayoutModel",
          "model_module_version": "1.2.0",
          "state": {
            "_model_module": "@jupyter-widgets/base",
            "_model_module_version": "1.2.0",
            "_model_name": "LayoutModel",
            "_view_count": null,
            "_view_module": "@jupyter-widgets/base",
            "_view_module_version": "1.2.0",
            "_view_name": "LayoutView",
            "align_content": null,
            "align_items": null,
            "align_self": null,
            "border": null,
            "bottom": null,
            "display": null,
            "flex": null,
            "flex_flow": null,
            "grid_area": null,
            "grid_auto_columns": null,
            "grid_auto_flow": null,
            "grid_auto_rows": null,
            "grid_column": null,
            "grid_gap": null,
            "grid_row": null,
            "grid_template_areas": null,
            "grid_template_columns": null,
            "grid_template_rows": null,
            "height": null,
            "justify_content": null,
            "justify_items": null,
            "left": null,
            "margin": null,
            "max_height": null,
            "max_width": null,
            "min_height": null,
            "min_width": null,
            "object_fit": null,
            "object_position": null,
            "order": null,
            "overflow": null,
            "overflow_x": null,
            "overflow_y": null,
            "padding": null,
            "right": null,
            "top": null,
            "visibility": null,
            "width": null
          }
        },
        "cc77e95581a44921b688bedc37beca0f": {
          "model_module": "@jupyter-widgets/base",
          "model_name": "LayoutModel",
          "model_module_version": "1.2.0",
          "state": {
            "_model_module": "@jupyter-widgets/base",
            "_model_module_version": "1.2.0",
            "_model_name": "LayoutModel",
            "_view_count": null,
            "_view_module": "@jupyter-widgets/base",
            "_view_module_version": "1.2.0",
            "_view_name": "LayoutView",
            "align_content": null,
            "align_items": null,
            "align_self": null,
            "border": null,
            "bottom": null,
            "display": null,
            "flex": null,
            "flex_flow": null,
            "grid_area": null,
            "grid_auto_columns": null,
            "grid_auto_flow": null,
            "grid_auto_rows": null,
            "grid_column": null,
            "grid_gap": null,
            "grid_row": null,
            "grid_template_areas": null,
            "grid_template_columns": null,
            "grid_template_rows": null,
            "height": null,
            "justify_content": null,
            "justify_items": null,
            "left": null,
            "margin": null,
            "max_height": null,
            "max_width": null,
            "min_height": null,
            "min_width": null,
            "object_fit": null,
            "object_position": null,
            "order": null,
            "overflow": null,
            "overflow_x": null,
            "overflow_y": null,
            "padding": null,
            "right": null,
            "top": null,
            "visibility": null,
            "width": null
          }
        },
        "89e24df6415e41bcb50984cc9f12f956": {
          "model_module": "@jupyter-widgets/controls",
          "model_name": "DescriptionStyleModel",
          "model_module_version": "1.5.0",
          "state": {
            "_model_module": "@jupyter-widgets/controls",
            "_model_module_version": "1.5.0",
            "_model_name": "DescriptionStyleModel",
            "_view_count": null,
            "_view_module": "@jupyter-widgets/base",
            "_view_module_version": "1.2.0",
            "_view_name": "StyleView",
            "description_width": ""
          }
        },
        "ba0907b4fe5a4a76b4228e1b8298d404": {
          "model_module": "@jupyter-widgets/base",
          "model_name": "LayoutModel",
          "model_module_version": "1.2.0",
          "state": {
            "_model_module": "@jupyter-widgets/base",
            "_model_module_version": "1.2.0",
            "_model_name": "LayoutModel",
            "_view_count": null,
            "_view_module": "@jupyter-widgets/base",
            "_view_module_version": "1.2.0",
            "_view_name": "LayoutView",
            "align_content": null,
            "align_items": null,
            "align_self": null,
            "border": null,
            "bottom": null,
            "display": null,
            "flex": null,
            "flex_flow": null,
            "grid_area": null,
            "grid_auto_columns": null,
            "grid_auto_flow": null,
            "grid_auto_rows": null,
            "grid_column": null,
            "grid_gap": null,
            "grid_row": null,
            "grid_template_areas": null,
            "grid_template_columns": null,
            "grid_template_rows": null,
            "height": null,
            "justify_content": null,
            "justify_items": null,
            "left": null,
            "margin": null,
            "max_height": null,
            "max_width": null,
            "min_height": null,
            "min_width": null,
            "object_fit": null,
            "object_position": null,
            "order": null,
            "overflow": null,
            "overflow_x": null,
            "overflow_y": null,
            "padding": null,
            "right": null,
            "top": null,
            "visibility": null,
            "width": null
          }
        },
        "55cf372342804436b36ee5db95b9004c": {
          "model_module": "@jupyter-widgets/controls",
          "model_name": "ProgressStyleModel",
          "model_module_version": "1.5.0",
          "state": {
            "_model_module": "@jupyter-widgets/controls",
            "_model_module_version": "1.5.0",
            "_model_name": "ProgressStyleModel",
            "_view_count": null,
            "_view_module": "@jupyter-widgets/base",
            "_view_module_version": "1.2.0",
            "_view_name": "StyleView",
            "bar_color": null,
            "description_width": ""
          }
        },
        "c0d80fe3ba434ecf8c5beeaf4ec481ea": {
          "model_module": "@jupyter-widgets/base",
          "model_name": "LayoutModel",
          "model_module_version": "1.2.0",
          "state": {
            "_model_module": "@jupyter-widgets/base",
            "_model_module_version": "1.2.0",
            "_model_name": "LayoutModel",
            "_view_count": null,
            "_view_module": "@jupyter-widgets/base",
            "_view_module_version": "1.2.0",
            "_view_name": "LayoutView",
            "align_content": null,
            "align_items": null,
            "align_self": null,
            "border": null,
            "bottom": null,
            "display": null,
            "flex": null,
            "flex_flow": null,
            "grid_area": null,
            "grid_auto_columns": null,
            "grid_auto_flow": null,
            "grid_auto_rows": null,
            "grid_column": null,
            "grid_gap": null,
            "grid_row": null,
            "grid_template_areas": null,
            "grid_template_columns": null,
            "grid_template_rows": null,
            "height": null,
            "justify_content": null,
            "justify_items": null,
            "left": null,
            "margin": null,
            "max_height": null,
            "max_width": null,
            "min_height": null,
            "min_width": null,
            "object_fit": null,
            "object_position": null,
            "order": null,
            "overflow": null,
            "overflow_x": null,
            "overflow_y": null,
            "padding": null,
            "right": null,
            "top": null,
            "visibility": null,
            "width": null
          }
        },
        "31286882bc2a4b6588af1233862f6a33": {
          "model_module": "@jupyter-widgets/controls",
          "model_name": "DescriptionStyleModel",
          "model_module_version": "1.5.0",
          "state": {
            "_model_module": "@jupyter-widgets/controls",
            "_model_module_version": "1.5.0",
            "_model_name": "DescriptionStyleModel",
            "_view_count": null,
            "_view_module": "@jupyter-widgets/base",
            "_view_module_version": "1.2.0",
            "_view_name": "StyleView",
            "description_width": ""
          }
        },
        "f78c21b8b87042c69d1ca56e29ce3b46": {
          "model_module": "@jupyter-widgets/controls",
          "model_name": "HBoxModel",
          "model_module_version": "1.5.0",
          "state": {
            "_dom_classes": [],
            "_model_module": "@jupyter-widgets/controls",
            "_model_module_version": "1.5.0",
            "_model_name": "HBoxModel",
            "_view_count": null,
            "_view_module": "@jupyter-widgets/controls",
            "_view_module_version": "1.5.0",
            "_view_name": "HBoxView",
            "box_style": "",
            "children": [
              "IPY_MODEL_573358add2d44d86a5912d1a09989065",
              "IPY_MODEL_1146e8d7612d485ab1f106674ea8a49f",
              "IPY_MODEL_cf69a10d814c4e7194948e9b2ecf7de1"
            ],
            "layout": "IPY_MODEL_243c16dc29c1452783e955940d5f3b52"
          }
        },
        "573358add2d44d86a5912d1a09989065": {
          "model_module": "@jupyter-widgets/controls",
          "model_name": "HTMLModel",
          "model_module_version": "1.5.0",
          "state": {
            "_dom_classes": [],
            "_model_module": "@jupyter-widgets/controls",
            "_model_module_version": "1.5.0",
            "_model_name": "HTMLModel",
            "_view_count": null,
            "_view_module": "@jupyter-widgets/controls",
            "_view_module_version": "1.5.0",
            "_view_name": "HTMLView",
            "description": "",
            "description_tooltip": null,
            "layout": "IPY_MODEL_d16ca5f83b6849eead5857cf5d9811dd",
            "placeholder": "​",
            "style": "IPY_MODEL_2f5562c410ae4684abde6f43f7eccd75",
            "value": "Map: 100%"
          }
        },
        "1146e8d7612d485ab1f106674ea8a49f": {
          "model_module": "@jupyter-widgets/controls",
          "model_name": "FloatProgressModel",
          "model_module_version": "1.5.0",
          "state": {
            "_dom_classes": [],
            "_model_module": "@jupyter-widgets/controls",
            "_model_module_version": "1.5.0",
            "_model_name": "FloatProgressModel",
            "_view_count": null,
            "_view_module": "@jupyter-widgets/controls",
            "_view_module_version": "1.5.0",
            "_view_name": "ProgressView",
            "bar_style": "success",
            "description": "",
            "description_tooltip": null,
            "layout": "IPY_MODEL_ccfa41f2177e46c8af8a8fc5e2e39288",
            "max": 57374,
            "min": 0,
            "orientation": "horizontal",
            "style": "IPY_MODEL_0a274add777545a4bb9f9af20f06ceeb",
            "value": 57374
          }
        },
        "cf69a10d814c4e7194948e9b2ecf7de1": {
          "model_module": "@jupyter-widgets/controls",
          "model_name": "HTMLModel",
          "model_module_version": "1.5.0",
          "state": {
            "_dom_classes": [],
            "_model_module": "@jupyter-widgets/controls",
            "_model_module_version": "1.5.0",
            "_model_name": "HTMLModel",
            "_view_count": null,
            "_view_module": "@jupyter-widgets/controls",
            "_view_module_version": "1.5.0",
            "_view_name": "HTMLView",
            "description": "",
            "description_tooltip": null,
            "layout": "IPY_MODEL_e8dd92249ffa450e940627e92f7cb0bb",
            "placeholder": "​",
            "style": "IPY_MODEL_37835955be944387a53c297ce0abbfca",
            "value": " 57374/57374 [00:14&lt;00:00, 2283.15 examples/s]"
          }
        },
        "243c16dc29c1452783e955940d5f3b52": {
          "model_module": "@jupyter-widgets/base",
          "model_name": "LayoutModel",
          "model_module_version": "1.2.0",
          "state": {
            "_model_module": "@jupyter-widgets/base",
            "_model_module_version": "1.2.0",
            "_model_name": "LayoutModel",
            "_view_count": null,
            "_view_module": "@jupyter-widgets/base",
            "_view_module_version": "1.2.0",
            "_view_name": "LayoutView",
            "align_content": null,
            "align_items": null,
            "align_self": null,
            "border": null,
            "bottom": null,
            "display": null,
            "flex": null,
            "flex_flow": null,
            "grid_area": null,
            "grid_auto_columns": null,
            "grid_auto_flow": null,
            "grid_auto_rows": null,
            "grid_column": null,
            "grid_gap": null,
            "grid_row": null,
            "grid_template_areas": null,
            "grid_template_columns": null,
            "grid_template_rows": null,
            "height": null,
            "justify_content": null,
            "justify_items": null,
            "left": null,
            "margin": null,
            "max_height": null,
            "max_width": null,
            "min_height": null,
            "min_width": null,
            "object_fit": null,
            "object_position": null,
            "order": null,
            "overflow": null,
            "overflow_x": null,
            "overflow_y": null,
            "padding": null,
            "right": null,
            "top": null,
            "visibility": null,
            "width": null
          }
        },
        "d16ca5f83b6849eead5857cf5d9811dd": {
          "model_module": "@jupyter-widgets/base",
          "model_name": "LayoutModel",
          "model_module_version": "1.2.0",
          "state": {
            "_model_module": "@jupyter-widgets/base",
            "_model_module_version": "1.2.0",
            "_model_name": "LayoutModel",
            "_view_count": null,
            "_view_module": "@jupyter-widgets/base",
            "_view_module_version": "1.2.0",
            "_view_name": "LayoutView",
            "align_content": null,
            "align_items": null,
            "align_self": null,
            "border": null,
            "bottom": null,
            "display": null,
            "flex": null,
            "flex_flow": null,
            "grid_area": null,
            "grid_auto_columns": null,
            "grid_auto_flow": null,
            "grid_auto_rows": null,
            "grid_column": null,
            "grid_gap": null,
            "grid_row": null,
            "grid_template_areas": null,
            "grid_template_columns": null,
            "grid_template_rows": null,
            "height": null,
            "justify_content": null,
            "justify_items": null,
            "left": null,
            "margin": null,
            "max_height": null,
            "max_width": null,
            "min_height": null,
            "min_width": null,
            "object_fit": null,
            "object_position": null,
            "order": null,
            "overflow": null,
            "overflow_x": null,
            "overflow_y": null,
            "padding": null,
            "right": null,
            "top": null,
            "visibility": null,
            "width": null
          }
        },
        "2f5562c410ae4684abde6f43f7eccd75": {
          "model_module": "@jupyter-widgets/controls",
          "model_name": "DescriptionStyleModel",
          "model_module_version": "1.5.0",
          "state": {
            "_model_module": "@jupyter-widgets/controls",
            "_model_module_version": "1.5.0",
            "_model_name": "DescriptionStyleModel",
            "_view_count": null,
            "_view_module": "@jupyter-widgets/base",
            "_view_module_version": "1.2.0",
            "_view_name": "StyleView",
            "description_width": ""
          }
        },
        "ccfa41f2177e46c8af8a8fc5e2e39288": {
          "model_module": "@jupyter-widgets/base",
          "model_name": "LayoutModel",
          "model_module_version": "1.2.0",
          "state": {
            "_model_module": "@jupyter-widgets/base",
            "_model_module_version": "1.2.0",
            "_model_name": "LayoutModel",
            "_view_count": null,
            "_view_module": "@jupyter-widgets/base",
            "_view_module_version": "1.2.0",
            "_view_name": "LayoutView",
            "align_content": null,
            "align_items": null,
            "align_self": null,
            "border": null,
            "bottom": null,
            "display": null,
            "flex": null,
            "flex_flow": null,
            "grid_area": null,
            "grid_auto_columns": null,
            "grid_auto_flow": null,
            "grid_auto_rows": null,
            "grid_column": null,
            "grid_gap": null,
            "grid_row": null,
            "grid_template_areas": null,
            "grid_template_columns": null,
            "grid_template_rows": null,
            "height": null,
            "justify_content": null,
            "justify_items": null,
            "left": null,
            "margin": null,
            "max_height": null,
            "max_width": null,
            "min_height": null,
            "min_width": null,
            "object_fit": null,
            "object_position": null,
            "order": null,
            "overflow": null,
            "overflow_x": null,
            "overflow_y": null,
            "padding": null,
            "right": null,
            "top": null,
            "visibility": null,
            "width": null
          }
        },
        "0a274add777545a4bb9f9af20f06ceeb": {
          "model_module": "@jupyter-widgets/controls",
          "model_name": "ProgressStyleModel",
          "model_module_version": "1.5.0",
          "state": {
            "_model_module": "@jupyter-widgets/controls",
            "_model_module_version": "1.5.0",
            "_model_name": "ProgressStyleModel",
            "_view_count": null,
            "_view_module": "@jupyter-widgets/base",
            "_view_module_version": "1.2.0",
            "_view_name": "StyleView",
            "bar_color": null,
            "description_width": ""
          }
        },
        "e8dd92249ffa450e940627e92f7cb0bb": {
          "model_module": "@jupyter-widgets/base",
          "model_name": "LayoutModel",
          "model_module_version": "1.2.0",
          "state": {
            "_model_module": "@jupyter-widgets/base",
            "_model_module_version": "1.2.0",
            "_model_name": "LayoutModel",
            "_view_count": null,
            "_view_module": "@jupyter-widgets/base",
            "_view_module_version": "1.2.0",
            "_view_name": "LayoutView",
            "align_content": null,
            "align_items": null,
            "align_self": null,
            "border": null,
            "bottom": null,
            "display": null,
            "flex": null,
            "flex_flow": null,
            "grid_area": null,
            "grid_auto_columns": null,
            "grid_auto_flow": null,
            "grid_auto_rows": null,
            "grid_column": null,
            "grid_gap": null,
            "grid_row": null,
            "grid_template_areas": null,
            "grid_template_columns": null,
            "grid_template_rows": null,
            "height": null,
            "justify_content": null,
            "justify_items": null,
            "left": null,
            "margin": null,
            "max_height": null,
            "max_width": null,
            "min_height": null,
            "min_width": null,
            "object_fit": null,
            "object_position": null,
            "order": null,
            "overflow": null,
            "overflow_x": null,
            "overflow_y": null,
            "padding": null,
            "right": null,
            "top": null,
            "visibility": null,
            "width": null
          }
        },
        "37835955be944387a53c297ce0abbfca": {
          "model_module": "@jupyter-widgets/controls",
          "model_name": "DescriptionStyleModel",
          "model_module_version": "1.5.0",
          "state": {
            "_model_module": "@jupyter-widgets/controls",
            "_model_module_version": "1.5.0",
            "_model_name": "DescriptionStyleModel",
            "_view_count": null,
            "_view_module": "@jupyter-widgets/base",
            "_view_module_version": "1.2.0",
            "_view_name": "StyleView",
            "description_width": ""
          }
        },
        "3da54a06a79349a28bcce4b66a0cb955": {
          "model_module": "@jupyter-widgets/controls",
          "model_name": "HBoxModel",
          "model_module_version": "1.5.0",
          "state": {
            "_dom_classes": [],
            "_model_module": "@jupyter-widgets/controls",
            "_model_module_version": "1.5.0",
            "_model_name": "HBoxModel",
            "_view_count": null,
            "_view_module": "@jupyter-widgets/controls",
            "_view_module_version": "1.5.0",
            "_view_name": "HBoxView",
            "box_style": "",
            "children": [
              "IPY_MODEL_40605854338e4ec791d9956ba55fd4d0",
              "IPY_MODEL_141d1b43a11e4b709f442de30c2653fa",
              "IPY_MODEL_67cc8b057ddb481d9dd24e2a0f20e5fc"
            ],
            "layout": "IPY_MODEL_1c0d1de9748547b5906ac22e6d7edda8"
          }
        },
        "40605854338e4ec791d9956ba55fd4d0": {
          "model_module": "@jupyter-widgets/controls",
          "model_name": "HTMLModel",
          "model_module_version": "1.5.0",
          "state": {
            "_dom_classes": [],
            "_model_module": "@jupyter-widgets/controls",
            "_model_module_version": "1.5.0",
            "_model_name": "HTMLModel",
            "_view_count": null,
            "_view_module": "@jupyter-widgets/controls",
            "_view_module_version": "1.5.0",
            "_view_name": "HTMLView",
            "description": "",
            "description_tooltip": null,
            "layout": "IPY_MODEL_f7335e0bdd43461ea97c5d4d3db9ac22",
            "placeholder": "​",
            "style": "IPY_MODEL_b37fff58bb764231ace7b5d8c09df06b",
            "value": "Map: 100%"
          }
        },
        "141d1b43a11e4b709f442de30c2653fa": {
          "model_module": "@jupyter-widgets/controls",
          "model_name": "FloatProgressModel",
          "model_module_version": "1.5.0",
          "state": {
            "_dom_classes": [],
            "_model_module": "@jupyter-widgets/controls",
            "_model_module_version": "1.5.0",
            "_model_name": "FloatProgressModel",
            "_view_count": null,
            "_view_module": "@jupyter-widgets/controls",
            "_view_module_version": "1.5.0",
            "_view_name": "ProgressView",
            "bar_style": "success",
            "description": "",
            "description_tooltip": null,
            "layout": "IPY_MODEL_aef63a3c1c214b1c815f46796d3f5ca1",
            "max": 191244,
            "min": 0,
            "orientation": "horizontal",
            "style": "IPY_MODEL_f48d4191bb55469e9c3b83268693dddc",
            "value": 191244
          }
        },
        "67cc8b057ddb481d9dd24e2a0f20e5fc": {
          "model_module": "@jupyter-widgets/controls",
          "model_name": "HTMLModel",
          "model_module_version": "1.5.0",
          "state": {
            "_dom_classes": [],
            "_model_module": "@jupyter-widgets/controls",
            "_model_module_version": "1.5.0",
            "_model_name": "HTMLModel",
            "_view_count": null,
            "_view_module": "@jupyter-widgets/controls",
            "_view_module_version": "1.5.0",
            "_view_name": "HTMLView",
            "description": "",
            "description_tooltip": null,
            "layout": "IPY_MODEL_dd60df00caf64cb6b638eb68de6422be",
            "placeholder": "​",
            "style": "IPY_MODEL_0a411b2880a343c599c841e8d33f3300",
            "value": " 191244/191244 [00:58&lt;00:00, 3772.80 examples/s]"
          }
        },
        "1c0d1de9748547b5906ac22e6d7edda8": {
          "model_module": "@jupyter-widgets/base",
          "model_name": "LayoutModel",
          "model_module_version": "1.2.0",
          "state": {
            "_model_module": "@jupyter-widgets/base",
            "_model_module_version": "1.2.0",
            "_model_name": "LayoutModel",
            "_view_count": null,
            "_view_module": "@jupyter-widgets/base",
            "_view_module_version": "1.2.0",
            "_view_name": "LayoutView",
            "align_content": null,
            "align_items": null,
            "align_self": null,
            "border": null,
            "bottom": null,
            "display": null,
            "flex": null,
            "flex_flow": null,
            "grid_area": null,
            "grid_auto_columns": null,
            "grid_auto_flow": null,
            "grid_auto_rows": null,
            "grid_column": null,
            "grid_gap": null,
            "grid_row": null,
            "grid_template_areas": null,
            "grid_template_columns": null,
            "grid_template_rows": null,
            "height": null,
            "justify_content": null,
            "justify_items": null,
            "left": null,
            "margin": null,
            "max_height": null,
            "max_width": null,
            "min_height": null,
            "min_width": null,
            "object_fit": null,
            "object_position": null,
            "order": null,
            "overflow": null,
            "overflow_x": null,
            "overflow_y": null,
            "padding": null,
            "right": null,
            "top": null,
            "visibility": null,
            "width": null
          }
        },
        "f7335e0bdd43461ea97c5d4d3db9ac22": {
          "model_module": "@jupyter-widgets/base",
          "model_name": "LayoutModel",
          "model_module_version": "1.2.0",
          "state": {
            "_model_module": "@jupyter-widgets/base",
            "_model_module_version": "1.2.0",
            "_model_name": "LayoutModel",
            "_view_count": null,
            "_view_module": "@jupyter-widgets/base",
            "_view_module_version": "1.2.0",
            "_view_name": "LayoutView",
            "align_content": null,
            "align_items": null,
            "align_self": null,
            "border": null,
            "bottom": null,
            "display": null,
            "flex": null,
            "flex_flow": null,
            "grid_area": null,
            "grid_auto_columns": null,
            "grid_auto_flow": null,
            "grid_auto_rows": null,
            "grid_column": null,
            "grid_gap": null,
            "grid_row": null,
            "grid_template_areas": null,
            "grid_template_columns": null,
            "grid_template_rows": null,
            "height": null,
            "justify_content": null,
            "justify_items": null,
            "left": null,
            "margin": null,
            "max_height": null,
            "max_width": null,
            "min_height": null,
            "min_width": null,
            "object_fit": null,
            "object_position": null,
            "order": null,
            "overflow": null,
            "overflow_x": null,
            "overflow_y": null,
            "padding": null,
            "right": null,
            "top": null,
            "visibility": null,
            "width": null
          }
        },
        "b37fff58bb764231ace7b5d8c09df06b": {
          "model_module": "@jupyter-widgets/controls",
          "model_name": "DescriptionStyleModel",
          "model_module_version": "1.5.0",
          "state": {
            "_model_module": "@jupyter-widgets/controls",
            "_model_module_version": "1.5.0",
            "_model_name": "DescriptionStyleModel",
            "_view_count": null,
            "_view_module": "@jupyter-widgets/base",
            "_view_module_version": "1.2.0",
            "_view_name": "StyleView",
            "description_width": ""
          }
        },
        "aef63a3c1c214b1c815f46796d3f5ca1": {
          "model_module": "@jupyter-widgets/base",
          "model_name": "LayoutModel",
          "model_module_version": "1.2.0",
          "state": {
            "_model_module": "@jupyter-widgets/base",
            "_model_module_version": "1.2.0",
            "_model_name": "LayoutModel",
            "_view_count": null,
            "_view_module": "@jupyter-widgets/base",
            "_view_module_version": "1.2.0",
            "_view_name": "LayoutView",
            "align_content": null,
            "align_items": null,
            "align_self": null,
            "border": null,
            "bottom": null,
            "display": null,
            "flex": null,
            "flex_flow": null,
            "grid_area": null,
            "grid_auto_columns": null,
            "grid_auto_flow": null,
            "grid_auto_rows": null,
            "grid_column": null,
            "grid_gap": null,
            "grid_row": null,
            "grid_template_areas": null,
            "grid_template_columns": null,
            "grid_template_rows": null,
            "height": null,
            "justify_content": null,
            "justify_items": null,
            "left": null,
            "margin": null,
            "max_height": null,
            "max_width": null,
            "min_height": null,
            "min_width": null,
            "object_fit": null,
            "object_position": null,
            "order": null,
            "overflow": null,
            "overflow_x": null,
            "overflow_y": null,
            "padding": null,
            "right": null,
            "top": null,
            "visibility": null,
            "width": null
          }
        },
        "f48d4191bb55469e9c3b83268693dddc": {
          "model_module": "@jupyter-widgets/controls",
          "model_name": "ProgressStyleModel",
          "model_module_version": "1.5.0",
          "state": {
            "_model_module": "@jupyter-widgets/controls",
            "_model_module_version": "1.5.0",
            "_model_name": "ProgressStyleModel",
            "_view_count": null,
            "_view_module": "@jupyter-widgets/base",
            "_view_module_version": "1.2.0",
            "_view_name": "StyleView",
            "bar_color": null,
            "description_width": ""
          }
        },
        "dd60df00caf64cb6b638eb68de6422be": {
          "model_module": "@jupyter-widgets/base",
          "model_name": "LayoutModel",
          "model_module_version": "1.2.0",
          "state": {
            "_model_module": "@jupyter-widgets/base",
            "_model_module_version": "1.2.0",
            "_model_name": "LayoutModel",
            "_view_count": null,
            "_view_module": "@jupyter-widgets/base",
            "_view_module_version": "1.2.0",
            "_view_name": "LayoutView",
            "align_content": null,
            "align_items": null,
            "align_self": null,
            "border": null,
            "bottom": null,
            "display": null,
            "flex": null,
            "flex_flow": null,
            "grid_area": null,
            "grid_auto_columns": null,
            "grid_auto_flow": null,
            "grid_auto_rows": null,
            "grid_column": null,
            "grid_gap": null,
            "grid_row": null,
            "grid_template_areas": null,
            "grid_template_columns": null,
            "grid_template_rows": null,
            "height": null,
            "justify_content": null,
            "justify_items": null,
            "left": null,
            "margin": null,
            "max_height": null,
            "max_width": null,
            "min_height": null,
            "min_width": null,
            "object_fit": null,
            "object_position": null,
            "order": null,
            "overflow": null,
            "overflow_x": null,
            "overflow_y": null,
            "padding": null,
            "right": null,
            "top": null,
            "visibility": null,
            "width": null
          }
        },
        "0a411b2880a343c599c841e8d33f3300": {
          "model_module": "@jupyter-widgets/controls",
          "model_name": "DescriptionStyleModel",
          "model_module_version": "1.5.0",
          "state": {
            "_model_module": "@jupyter-widgets/controls",
            "_model_module_version": "1.5.0",
            "_model_name": "DescriptionStyleModel",
            "_view_count": null,
            "_view_module": "@jupyter-widgets/base",
            "_view_module_version": "1.2.0",
            "_view_name": "StyleView",
            "description_width": ""
          }
        },
        "1f7e257f0d8d43cb978377ce17b19664": {
          "model_module": "@jupyter-widgets/controls",
          "model_name": "HBoxModel",
          "model_module_version": "1.5.0",
          "state": {
            "_dom_classes": [],
            "_model_module": "@jupyter-widgets/controls",
            "_model_module_version": "1.5.0",
            "_model_name": "HBoxModel",
            "_view_count": null,
            "_view_module": "@jupyter-widgets/controls",
            "_view_module_version": "1.5.0",
            "_view_name": "HBoxView",
            "box_style": "",
            "children": [
              "IPY_MODEL_8b66c7e1fcb94678a60ff983c135c56b",
              "IPY_MODEL_4a37c7c2d9a94b07bf1fe37ce7e75880",
              "IPY_MODEL_6145d86b1f1347b8a85c322920432527"
            ],
            "layout": "IPY_MODEL_c798e59556e948598541f633721b85f3"
          }
        },
        "8b66c7e1fcb94678a60ff983c135c56b": {
          "model_module": "@jupyter-widgets/controls",
          "model_name": "HTMLModel",
          "model_module_version": "1.5.0",
          "state": {
            "_dom_classes": [],
            "_model_module": "@jupyter-widgets/controls",
            "_model_module_version": "1.5.0",
            "_model_name": "HTMLModel",
            "_view_count": null,
            "_view_module": "@jupyter-widgets/controls",
            "_view_module_version": "1.5.0",
            "_view_name": "HTMLView",
            "description": "",
            "description_tooltip": null,
            "layout": "IPY_MODEL_b632a11281a44f61996d472f754b85b3",
            "placeholder": "​",
            "style": "IPY_MODEL_bd3bd69ea2c348a49877acff0ac1d3ca",
            "value": "Map: 100%"
          }
        },
        "4a37c7c2d9a94b07bf1fe37ce7e75880": {
          "model_module": "@jupyter-widgets/controls",
          "model_name": "FloatProgressModel",
          "model_module_version": "1.5.0",
          "state": {
            "_dom_classes": [],
            "_model_module": "@jupyter-widgets/controls",
            "_model_module_version": "1.5.0",
            "_model_name": "FloatProgressModel",
            "_view_count": null,
            "_view_module": "@jupyter-widgets/controls",
            "_view_module_version": "1.5.0",
            "_view_name": "ProgressView",
            "bar_style": "success",
            "description": "",
            "description_tooltip": null,
            "layout": "IPY_MODEL_0f767d3572a24278a8af0c9247ab5e7a",
            "max": 191244,
            "min": 0,
            "orientation": "horizontal",
            "style": "IPY_MODEL_d716de6da46f4d48bbbf1bc94ad0801e",
            "value": 191244
          }
        },
        "6145d86b1f1347b8a85c322920432527": {
          "model_module": "@jupyter-widgets/controls",
          "model_name": "HTMLModel",
          "model_module_version": "1.5.0",
          "state": {
            "_dom_classes": [],
            "_model_module": "@jupyter-widgets/controls",
            "_model_module_version": "1.5.0",
            "_model_name": "HTMLModel",
            "_view_count": null,
            "_view_module": "@jupyter-widgets/controls",
            "_view_module_version": "1.5.0",
            "_view_name": "HTMLView",
            "description": "",
            "description_tooltip": null,
            "layout": "IPY_MODEL_5d1e5ce213b14b389444fdbe23f8f556",
            "placeholder": "​",
            "style": "IPY_MODEL_1b17b53d497b4360a14e46d1aa45583e",
            "value": " 191244/191244 [00:32&lt;00:00, 4062.56 examples/s]"
          }
        },
        "c798e59556e948598541f633721b85f3": {
          "model_module": "@jupyter-widgets/base",
          "model_name": "LayoutModel",
          "model_module_version": "1.2.0",
          "state": {
            "_model_module": "@jupyter-widgets/base",
            "_model_module_version": "1.2.0",
            "_model_name": "LayoutModel",
            "_view_count": null,
            "_view_module": "@jupyter-widgets/base",
            "_view_module_version": "1.2.0",
            "_view_name": "LayoutView",
            "align_content": null,
            "align_items": null,
            "align_self": null,
            "border": null,
            "bottom": null,
            "display": null,
            "flex": null,
            "flex_flow": null,
            "grid_area": null,
            "grid_auto_columns": null,
            "grid_auto_flow": null,
            "grid_auto_rows": null,
            "grid_column": null,
            "grid_gap": null,
            "grid_row": null,
            "grid_template_areas": null,
            "grid_template_columns": null,
            "grid_template_rows": null,
            "height": null,
            "justify_content": null,
            "justify_items": null,
            "left": null,
            "margin": null,
            "max_height": null,
            "max_width": null,
            "min_height": null,
            "min_width": null,
            "object_fit": null,
            "object_position": null,
            "order": null,
            "overflow": null,
            "overflow_x": null,
            "overflow_y": null,
            "padding": null,
            "right": null,
            "top": null,
            "visibility": null,
            "width": null
          }
        },
        "b632a11281a44f61996d472f754b85b3": {
          "model_module": "@jupyter-widgets/base",
          "model_name": "LayoutModel",
          "model_module_version": "1.2.0",
          "state": {
            "_model_module": "@jupyter-widgets/base",
            "_model_module_version": "1.2.0",
            "_model_name": "LayoutModel",
            "_view_count": null,
            "_view_module": "@jupyter-widgets/base",
            "_view_module_version": "1.2.0",
            "_view_name": "LayoutView",
            "align_content": null,
            "align_items": null,
            "align_self": null,
            "border": null,
            "bottom": null,
            "display": null,
            "flex": null,
            "flex_flow": null,
            "grid_area": null,
            "grid_auto_columns": null,
            "grid_auto_flow": null,
            "grid_auto_rows": null,
            "grid_column": null,
            "grid_gap": null,
            "grid_row": null,
            "grid_template_areas": null,
            "grid_template_columns": null,
            "grid_template_rows": null,
            "height": null,
            "justify_content": null,
            "justify_items": null,
            "left": null,
            "margin": null,
            "max_height": null,
            "max_width": null,
            "min_height": null,
            "min_width": null,
            "object_fit": null,
            "object_position": null,
            "order": null,
            "overflow": null,
            "overflow_x": null,
            "overflow_y": null,
            "padding": null,
            "right": null,
            "top": null,
            "visibility": null,
            "width": null
          }
        },
        "bd3bd69ea2c348a49877acff0ac1d3ca": {
          "model_module": "@jupyter-widgets/controls",
          "model_name": "DescriptionStyleModel",
          "model_module_version": "1.5.0",
          "state": {
            "_model_module": "@jupyter-widgets/controls",
            "_model_module_version": "1.5.0",
            "_model_name": "DescriptionStyleModel",
            "_view_count": null,
            "_view_module": "@jupyter-widgets/base",
            "_view_module_version": "1.2.0",
            "_view_name": "StyleView",
            "description_width": ""
          }
        },
        "0f767d3572a24278a8af0c9247ab5e7a": {
          "model_module": "@jupyter-widgets/base",
          "model_name": "LayoutModel",
          "model_module_version": "1.2.0",
          "state": {
            "_model_module": "@jupyter-widgets/base",
            "_model_module_version": "1.2.0",
            "_model_name": "LayoutModel",
            "_view_count": null,
            "_view_module": "@jupyter-widgets/base",
            "_view_module_version": "1.2.0",
            "_view_name": "LayoutView",
            "align_content": null,
            "align_items": null,
            "align_self": null,
            "border": null,
            "bottom": null,
            "display": null,
            "flex": null,
            "flex_flow": null,
            "grid_area": null,
            "grid_auto_columns": null,
            "grid_auto_flow": null,
            "grid_auto_rows": null,
            "grid_column": null,
            "grid_gap": null,
            "grid_row": null,
            "grid_template_areas": null,
            "grid_template_columns": null,
            "grid_template_rows": null,
            "height": null,
            "justify_content": null,
            "justify_items": null,
            "left": null,
            "margin": null,
            "max_height": null,
            "max_width": null,
            "min_height": null,
            "min_width": null,
            "object_fit": null,
            "object_position": null,
            "order": null,
            "overflow": null,
            "overflow_x": null,
            "overflow_y": null,
            "padding": null,
            "right": null,
            "top": null,
            "visibility": null,
            "width": null
          }
        },
        "d716de6da46f4d48bbbf1bc94ad0801e": {
          "model_module": "@jupyter-widgets/controls",
          "model_name": "ProgressStyleModel",
          "model_module_version": "1.5.0",
          "state": {
            "_model_module": "@jupyter-widgets/controls",
            "_model_module_version": "1.5.0",
            "_model_name": "ProgressStyleModel",
            "_view_count": null,
            "_view_module": "@jupyter-widgets/base",
            "_view_module_version": "1.2.0",
            "_view_name": "StyleView",
            "bar_color": null,
            "description_width": ""
          }
        },
        "5d1e5ce213b14b389444fdbe23f8f556": {
          "model_module": "@jupyter-widgets/base",
          "model_name": "LayoutModel",
          "model_module_version": "1.2.0",
          "state": {
            "_model_module": "@jupyter-widgets/base",
            "_model_module_version": "1.2.0",
            "_model_name": "LayoutModel",
            "_view_count": null,
            "_view_module": "@jupyter-widgets/base",
            "_view_module_version": "1.2.0",
            "_view_name": "LayoutView",
            "align_content": null,
            "align_items": null,
            "align_self": null,
            "border": null,
            "bottom": null,
            "display": null,
            "flex": null,
            "flex_flow": null,
            "grid_area": null,
            "grid_auto_columns": null,
            "grid_auto_flow": null,
            "grid_auto_rows": null,
            "grid_column": null,
            "grid_gap": null,
            "grid_row": null,
            "grid_template_areas": null,
            "grid_template_columns": null,
            "grid_template_rows": null,
            "height": null,
            "justify_content": null,
            "justify_items": null,
            "left": null,
            "margin": null,
            "max_height": null,
            "max_width": null,
            "min_height": null,
            "min_width": null,
            "object_fit": null,
            "object_position": null,
            "order": null,
            "overflow": null,
            "overflow_x": null,
            "overflow_y": null,
            "padding": null,
            "right": null,
            "top": null,
            "visibility": null,
            "width": null
          }
        },
        "1b17b53d497b4360a14e46d1aa45583e": {
          "model_module": "@jupyter-widgets/controls",
          "model_name": "DescriptionStyleModel",
          "model_module_version": "1.5.0",
          "state": {
            "_model_module": "@jupyter-widgets/controls",
            "_model_module_version": "1.5.0",
            "_model_name": "DescriptionStyleModel",
            "_view_count": null,
            "_view_module": "@jupyter-widgets/base",
            "_view_module_version": "1.2.0",
            "_view_name": "StyleView",
            "description_width": ""
          }
        },
        "61e69de5706e427f8ee31dd778f35303": {
          "model_module": "@jupyter-widgets/controls",
          "model_name": "HBoxModel",
          "model_module_version": "1.5.0",
          "state": {
            "_dom_classes": [],
            "_model_module": "@jupyter-widgets/controls",
            "_model_module_version": "1.5.0",
            "_model_name": "HBoxModel",
            "_view_count": null,
            "_view_module": "@jupyter-widgets/controls",
            "_view_module_version": "1.5.0",
            "_view_name": "HBoxView",
            "box_style": "",
            "children": [
              "IPY_MODEL_c8a321e22342495b9b720f7e1119a8a3",
              "IPY_MODEL_bc1b315f473f4a56a12fb6511467ff24",
              "IPY_MODEL_4d7eddcd74d44f9da184dec0e8de3dce"
            ],
            "layout": "IPY_MODEL_ed83e7c6f1b54d25bd40046d649c7fcf"
          }
        },
        "c8a321e22342495b9b720f7e1119a8a3": {
          "model_module": "@jupyter-widgets/controls",
          "model_name": "HTMLModel",
          "model_module_version": "1.5.0",
          "state": {
            "_dom_classes": [],
            "_model_module": "@jupyter-widgets/controls",
            "_model_module_version": "1.5.0",
            "_model_name": "HTMLModel",
            "_view_count": null,
            "_view_module": "@jupyter-widgets/controls",
            "_view_module_version": "1.5.0",
            "_view_name": "HTMLView",
            "description": "",
            "description_tooltip": null,
            "layout": "IPY_MODEL_0ff1c5b81e6b4e98b0d6074325fb15f9",
            "placeholder": "​",
            "style": "IPY_MODEL_ef7c76c060b846b6bcbaae94f47cfed2",
            "value": "Downloading builder script: 100%"
          }
        },
        "bc1b315f473f4a56a12fb6511467ff24": {
          "model_module": "@jupyter-widgets/controls",
          "model_name": "FloatProgressModel",
          "model_module_version": "1.5.0",
          "state": {
            "_dom_classes": [],
            "_model_module": "@jupyter-widgets/controls",
            "_model_module_version": "1.5.0",
            "_model_name": "FloatProgressModel",
            "_view_count": null,
            "_view_module": "@jupyter-widgets/controls",
            "_view_module_version": "1.5.0",
            "_view_name": "ProgressView",
            "bar_style": "success",
            "description": "",
            "description_tooltip": null,
            "layout": "IPY_MODEL_258a05c4426d410c954033e51a194f91",
            "max": 4203,
            "min": 0,
            "orientation": "horizontal",
            "style": "IPY_MODEL_c9ff7d904c334f28a3429dbc77294bee",
            "value": 4203
          }
        },
        "4d7eddcd74d44f9da184dec0e8de3dce": {
          "model_module": "@jupyter-widgets/controls",
          "model_name": "HTMLModel",
          "model_module_version": "1.5.0",
          "state": {
            "_dom_classes": [],
            "_model_module": "@jupyter-widgets/controls",
            "_model_module_version": "1.5.0",
            "_model_name": "HTMLModel",
            "_view_count": null,
            "_view_module": "@jupyter-widgets/controls",
            "_view_module_version": "1.5.0",
            "_view_name": "HTMLView",
            "description": "",
            "description_tooltip": null,
            "layout": "IPY_MODEL_0a78c9310f7d4bc59d122990264d2691",
            "placeholder": "​",
            "style": "IPY_MODEL_118b373525a44baaae593ed83caa1659",
            "value": " 4.20k/4.20k [00:00&lt;00:00, 122kB/s]"
          }
        },
        "ed83e7c6f1b54d25bd40046d649c7fcf": {
          "model_module": "@jupyter-widgets/base",
          "model_name": "LayoutModel",
          "model_module_version": "1.2.0",
          "state": {
            "_model_module": "@jupyter-widgets/base",
            "_model_module_version": "1.2.0",
            "_model_name": "LayoutModel",
            "_view_count": null,
            "_view_module": "@jupyter-widgets/base",
            "_view_module_version": "1.2.0",
            "_view_name": "LayoutView",
            "align_content": null,
            "align_items": null,
            "align_self": null,
            "border": null,
            "bottom": null,
            "display": null,
            "flex": null,
            "flex_flow": null,
            "grid_area": null,
            "grid_auto_columns": null,
            "grid_auto_flow": null,
            "grid_auto_rows": null,
            "grid_column": null,
            "grid_gap": null,
            "grid_row": null,
            "grid_template_areas": null,
            "grid_template_columns": null,
            "grid_template_rows": null,
            "height": null,
            "justify_content": null,
            "justify_items": null,
            "left": null,
            "margin": null,
            "max_height": null,
            "max_width": null,
            "min_height": null,
            "min_width": null,
            "object_fit": null,
            "object_position": null,
            "order": null,
            "overflow": null,
            "overflow_x": null,
            "overflow_y": null,
            "padding": null,
            "right": null,
            "top": null,
            "visibility": null,
            "width": null
          }
        },
        "0ff1c5b81e6b4e98b0d6074325fb15f9": {
          "model_module": "@jupyter-widgets/base",
          "model_name": "LayoutModel",
          "model_module_version": "1.2.0",
          "state": {
            "_model_module": "@jupyter-widgets/base",
            "_model_module_version": "1.2.0",
            "_model_name": "LayoutModel",
            "_view_count": null,
            "_view_module": "@jupyter-widgets/base",
            "_view_module_version": "1.2.0",
            "_view_name": "LayoutView",
            "align_content": null,
            "align_items": null,
            "align_self": null,
            "border": null,
            "bottom": null,
            "display": null,
            "flex": null,
            "flex_flow": null,
            "grid_area": null,
            "grid_auto_columns": null,
            "grid_auto_flow": null,
            "grid_auto_rows": null,
            "grid_column": null,
            "grid_gap": null,
            "grid_row": null,
            "grid_template_areas": null,
            "grid_template_columns": null,
            "grid_template_rows": null,
            "height": null,
            "justify_content": null,
            "justify_items": null,
            "left": null,
            "margin": null,
            "max_height": null,
            "max_width": null,
            "min_height": null,
            "min_width": null,
            "object_fit": null,
            "object_position": null,
            "order": null,
            "overflow": null,
            "overflow_x": null,
            "overflow_y": null,
            "padding": null,
            "right": null,
            "top": null,
            "visibility": null,
            "width": null
          }
        },
        "ef7c76c060b846b6bcbaae94f47cfed2": {
          "model_module": "@jupyter-widgets/controls",
          "model_name": "DescriptionStyleModel",
          "model_module_version": "1.5.0",
          "state": {
            "_model_module": "@jupyter-widgets/controls",
            "_model_module_version": "1.5.0",
            "_model_name": "DescriptionStyleModel",
            "_view_count": null,
            "_view_module": "@jupyter-widgets/base",
            "_view_module_version": "1.2.0",
            "_view_name": "StyleView",
            "description_width": ""
          }
        },
        "258a05c4426d410c954033e51a194f91": {
          "model_module": "@jupyter-widgets/base",
          "model_name": "LayoutModel",
          "model_module_version": "1.2.0",
          "state": {
            "_model_module": "@jupyter-widgets/base",
            "_model_module_version": "1.2.0",
            "_model_name": "LayoutModel",
            "_view_count": null,
            "_view_module": "@jupyter-widgets/base",
            "_view_module_version": "1.2.0",
            "_view_name": "LayoutView",
            "align_content": null,
            "align_items": null,
            "align_self": null,
            "border": null,
            "bottom": null,
            "display": null,
            "flex": null,
            "flex_flow": null,
            "grid_area": null,
            "grid_auto_columns": null,
            "grid_auto_flow": null,
            "grid_auto_rows": null,
            "grid_column": null,
            "grid_gap": null,
            "grid_row": null,
            "grid_template_areas": null,
            "grid_template_columns": null,
            "grid_template_rows": null,
            "height": null,
            "justify_content": null,
            "justify_items": null,
            "left": null,
            "margin": null,
            "max_height": null,
            "max_width": null,
            "min_height": null,
            "min_width": null,
            "object_fit": null,
            "object_position": null,
            "order": null,
            "overflow": null,
            "overflow_x": null,
            "overflow_y": null,
            "padding": null,
            "right": null,
            "top": null,
            "visibility": null,
            "width": null
          }
        },
        "c9ff7d904c334f28a3429dbc77294bee": {
          "model_module": "@jupyter-widgets/controls",
          "model_name": "ProgressStyleModel",
          "model_module_version": "1.5.0",
          "state": {
            "_model_module": "@jupyter-widgets/controls",
            "_model_module_version": "1.5.0",
            "_model_name": "ProgressStyleModel",
            "_view_count": null,
            "_view_module": "@jupyter-widgets/base",
            "_view_module_version": "1.2.0",
            "_view_name": "StyleView",
            "bar_color": null,
            "description_width": ""
          }
        },
        "0a78c9310f7d4bc59d122990264d2691": {
          "model_module": "@jupyter-widgets/base",
          "model_name": "LayoutModel",
          "model_module_version": "1.2.0",
          "state": {
            "_model_module": "@jupyter-widgets/base",
            "_model_module_version": "1.2.0",
            "_model_name": "LayoutModel",
            "_view_count": null,
            "_view_module": "@jupyter-widgets/base",
            "_view_module_version": "1.2.0",
            "_view_name": "LayoutView",
            "align_content": null,
            "align_items": null,
            "align_self": null,
            "border": null,
            "bottom": null,
            "display": null,
            "flex": null,
            "flex_flow": null,
            "grid_area": null,
            "grid_auto_columns": null,
            "grid_auto_flow": null,
            "grid_auto_rows": null,
            "grid_column": null,
            "grid_gap": null,
            "grid_row": null,
            "grid_template_areas": null,
            "grid_template_columns": null,
            "grid_template_rows": null,
            "height": null,
            "justify_content": null,
            "justify_items": null,
            "left": null,
            "margin": null,
            "max_height": null,
            "max_width": null,
            "min_height": null,
            "min_width": null,
            "object_fit": null,
            "object_position": null,
            "order": null,
            "overflow": null,
            "overflow_x": null,
            "overflow_y": null,
            "padding": null,
            "right": null,
            "top": null,
            "visibility": null,
            "width": null
          }
        },
        "118b373525a44baaae593ed83caa1659": {
          "model_module": "@jupyter-widgets/controls",
          "model_name": "DescriptionStyleModel",
          "model_module_version": "1.5.0",
          "state": {
            "_model_module": "@jupyter-widgets/controls",
            "_model_module_version": "1.5.0",
            "_model_name": "DescriptionStyleModel",
            "_view_count": null,
            "_view_module": "@jupyter-widgets/base",
            "_view_module_version": "1.2.0",
            "_view_name": "StyleView",
            "description_width": ""
          }
        }
      }
    }
  },
  "cells": [
    {
      "cell_type": "code",
      "execution_count": 1,
      "metadata": {
        "colab": {
          "base_uri": "https://localhost:8080/"
        },
        "id": "S4pOEbegBi4T",
        "outputId": "5bcfb261-8580-4f3d-ccd6-bc1206f8ebda"
      },
      "outputs": [
        {
          "output_type": "stream",
          "name": "stdout",
          "text": [
            "Requirement already satisfied: contractions in /usr/local/lib/python3.10/dist-packages (0.1.73)\n",
            "Requirement already satisfied: textsearch>=0.0.21 in /usr/local/lib/python3.10/dist-packages (from contractions) (0.0.24)\n",
            "Requirement already satisfied: anyascii in /usr/local/lib/python3.10/dist-packages (from textsearch>=0.0.21->contractions) (0.3.2)\n",
            "Requirement already satisfied: pyahocorasick in /usr/local/lib/python3.10/dist-packages (from textsearch>=0.0.21->contractions) (2.1.0)\n",
            "Downloading...\n",
            "From (original): https://drive.google.com/uc?id=1N7CLrqNuOPuGoisB41N7kA645U2y2HAd\n",
            "From (redirected): https://drive.google.com/uc?id=1N7CLrqNuOPuGoisB41N7kA645U2y2HAd&confirm=t&uuid=8daaa005-75d8-4ef7-a7d6-8f4c1a6d280d\n",
            "To: /content/amazon_reviews_us_Watches_v1_00.tsv.gz\n",
            "100% 163M/163M [00:01<00:00, 125MB/s]\n",
            "gzip: /content/amazon_reviews_us_Watches_v1_00.tsv already exists; do you wish to overwrite (y or n)? ^C\n"
          ]
        }
      ],
      "source": [
        "!pip install contractions\n",
        "!gdown '1N7CLrqNuOPuGoisB41N7kA645U2y2HAd'\n",
        "!gunzip /content/amazon_reviews_us_Watches_v1_00.tsv.gz"
      ]
    },
    {
      "cell_type": "code",
      "source": [
        "import pandas as pd\n",
        "import torch\n",
        "import scipy\n",
        "\n",
        "from sklearn.model_selection import train_test_split\n",
        "from sklearn.feature_extraction.text import TfidfVectorizer\n",
        "\n",
        "from torch import nn, optim\n",
        "\n",
        "from imblearn.over_sampling import SMOTE\n",
        "from sklearn.feature_extraction.text import TfidfVectorizer\n",
        "from sklearn.linear_model import LogisticRegression\n",
        "from sklearn.metrics import accuracy_score\n",
        "from sklearn.metrics import confusion_matrix, classification_report, precision_recall_fscore_support, ConfusionMatrixDisplay\n",
        "\n",
        "\n",
        "from torch import nn, optim\n",
        "import tensorflow as tf\n",
        "\n",
        "from tensorflow.keras.preprocessing.text import Tokenizer\n",
        "from tensorflow.keras.preprocessing.sequence import pad_sequences\n",
        "\n",
        "device = torch.device(\"cuda:0\" if torch.cuda.is_available() else \"cpu\")\n",
        "device"
      ],
      "metadata": {
        "colab": {
          "base_uri": "https://localhost:8080/"
        },
        "id": "uHlt9xooExNg",
        "outputId": "8da357fa-ce1c-4efb-81df-e56b3427796c"
      },
      "execution_count": 2,
      "outputs": [
        {
          "output_type": "execute_result",
          "data": {
            "text/plain": [
              "device(type='cuda', index=0)"
            ]
          },
          "metadata": {},
          "execution_count": 2
        }
      ]
    },
    {
      "cell_type": "code",
      "source": [
        "import pandas as pd\n",
        "df = pd.read_csv('/content/amazon_reviews_us_Watches_v1_00.tsv', delimiter='\\t', on_bad_lines='skip')\n",
        "X, y = df['review_body'], df['star_rating']"
      ],
      "metadata": {
        "id": "emWC7i7IE3l7"
      },
      "execution_count": 3,
      "outputs": []
    },
    {
      "cell_type": "code",
      "source": [
        "df.head()"
      ],
      "metadata": {
        "colab": {
          "base_uri": "https://localhost:8080/",
          "height": 556
        },
        "id": "_gNCOVGAE7fA",
        "outputId": "cc3ecdc0-66f3-4afd-fdda-3ab7cf6ee2ed"
      },
      "execution_count": 4,
      "outputs": [
        {
          "output_type": "execute_result",
          "data": {
            "text/plain": [
              "  marketplace  customer_id       review_id  product_id  product_parent  \\\n",
              "0          US      3653882  R3O9SGZBVQBV76  B00FALQ1ZC       937001370   \n",
              "1          US     14661224   RKH8BNC3L5DLF  B00D3RGO20       484010722   \n",
              "2          US     27324930  R2HLE8WKZSU3NL  B00DKYC7TK       361166390   \n",
              "3          US      7211452  R31U3UH5AZ42LL  B000EQS1JW       958035625   \n",
              "4          US     12733322  R2SV659OUJ945Y  B00A6GFD7S       765328221   \n",
              "\n",
              "                                       product_title product_category  \\\n",
              "0  Invicta Women's 15150 \"Angel\" 18k Yellow Gold ...          Watches   \n",
              "1  Kenneth Cole New York Women's KC4944 Automatic...          Watches   \n",
              "2  Ritche 22mm Black Stainless Steel Bracelet Wat...          Watches   \n",
              "3  Citizen Men's BM8180-03E Eco-Drive Stainless S...          Watches   \n",
              "4  Orient ER27009B Men's Symphony Automatic Stain...          Watches   \n",
              "\n",
              "   star_rating  helpful_votes  total_votes vine verified_purchase  \\\n",
              "0            5              0            0    N                 Y   \n",
              "1            5              0            0    N                 Y   \n",
              "2            2              1            1    N                 Y   \n",
              "3            5              0            0    N                 Y   \n",
              "4            4              0            0    N                 Y   \n",
              "\n",
              "                              review_headline  \\\n",
              "0                                  Five Stars   \n",
              "1  I love thiswatch it keeps time wonderfully   \n",
              "2                                   Two Stars   \n",
              "3                                  Five Stars   \n",
              "4    Beautiful face, but cheap sounding links   \n",
              "\n",
              "                                         review_body review_date  \n",
              "0  Absolutely love this watch! Get compliments al...  2015-08-31  \n",
              "1       I love this watch it keeps time wonderfully.  2015-08-31  \n",
              "2                                          Scratches  2015-08-31  \n",
              "3  It works well on me. However, I found cheaper ...  2015-08-31  \n",
              "4  Beautiful watch face.  The band looks nice all...  2015-08-31  "
            ],
            "text/html": [
              "\n",
              "  <div id=\"df-ba0f6d6b-9c2a-4c71-92ee-c688712155de\" class=\"colab-df-container\">\n",
              "    <div>\n",
              "<style scoped>\n",
              "    .dataframe tbody tr th:only-of-type {\n",
              "        vertical-align: middle;\n",
              "    }\n",
              "\n",
              "    .dataframe tbody tr th {\n",
              "        vertical-align: top;\n",
              "    }\n",
              "\n",
              "    .dataframe thead th {\n",
              "        text-align: right;\n",
              "    }\n",
              "</style>\n",
              "<table border=\"1\" class=\"dataframe\">\n",
              "  <thead>\n",
              "    <tr style=\"text-align: right;\">\n",
              "      <th></th>\n",
              "      <th>marketplace</th>\n",
              "      <th>customer_id</th>\n",
              "      <th>review_id</th>\n",
              "      <th>product_id</th>\n",
              "      <th>product_parent</th>\n",
              "      <th>product_title</th>\n",
              "      <th>product_category</th>\n",
              "      <th>star_rating</th>\n",
              "      <th>helpful_votes</th>\n",
              "      <th>total_votes</th>\n",
              "      <th>vine</th>\n",
              "      <th>verified_purchase</th>\n",
              "      <th>review_headline</th>\n",
              "      <th>review_body</th>\n",
              "      <th>review_date</th>\n",
              "    </tr>\n",
              "  </thead>\n",
              "  <tbody>\n",
              "    <tr>\n",
              "      <th>0</th>\n",
              "      <td>US</td>\n",
              "      <td>3653882</td>\n",
              "      <td>R3O9SGZBVQBV76</td>\n",
              "      <td>B00FALQ1ZC</td>\n",
              "      <td>937001370</td>\n",
              "      <td>Invicta Women's 15150 \"Angel\" 18k Yellow Gold ...</td>\n",
              "      <td>Watches</td>\n",
              "      <td>5</td>\n",
              "      <td>0</td>\n",
              "      <td>0</td>\n",
              "      <td>N</td>\n",
              "      <td>Y</td>\n",
              "      <td>Five Stars</td>\n",
              "      <td>Absolutely love this watch! Get compliments al...</td>\n",
              "      <td>2015-08-31</td>\n",
              "    </tr>\n",
              "    <tr>\n",
              "      <th>1</th>\n",
              "      <td>US</td>\n",
              "      <td>14661224</td>\n",
              "      <td>RKH8BNC3L5DLF</td>\n",
              "      <td>B00D3RGO20</td>\n",
              "      <td>484010722</td>\n",
              "      <td>Kenneth Cole New York Women's KC4944 Automatic...</td>\n",
              "      <td>Watches</td>\n",
              "      <td>5</td>\n",
              "      <td>0</td>\n",
              "      <td>0</td>\n",
              "      <td>N</td>\n",
              "      <td>Y</td>\n",
              "      <td>I love thiswatch it keeps time wonderfully</td>\n",
              "      <td>I love this watch it keeps time wonderfully.</td>\n",
              "      <td>2015-08-31</td>\n",
              "    </tr>\n",
              "    <tr>\n",
              "      <th>2</th>\n",
              "      <td>US</td>\n",
              "      <td>27324930</td>\n",
              "      <td>R2HLE8WKZSU3NL</td>\n",
              "      <td>B00DKYC7TK</td>\n",
              "      <td>361166390</td>\n",
              "      <td>Ritche 22mm Black Stainless Steel Bracelet Wat...</td>\n",
              "      <td>Watches</td>\n",
              "      <td>2</td>\n",
              "      <td>1</td>\n",
              "      <td>1</td>\n",
              "      <td>N</td>\n",
              "      <td>Y</td>\n",
              "      <td>Two Stars</td>\n",
              "      <td>Scratches</td>\n",
              "      <td>2015-08-31</td>\n",
              "    </tr>\n",
              "    <tr>\n",
              "      <th>3</th>\n",
              "      <td>US</td>\n",
              "      <td>7211452</td>\n",
              "      <td>R31U3UH5AZ42LL</td>\n",
              "      <td>B000EQS1JW</td>\n",
              "      <td>958035625</td>\n",
              "      <td>Citizen Men's BM8180-03E Eco-Drive Stainless S...</td>\n",
              "      <td>Watches</td>\n",
              "      <td>5</td>\n",
              "      <td>0</td>\n",
              "      <td>0</td>\n",
              "      <td>N</td>\n",
              "      <td>Y</td>\n",
              "      <td>Five Stars</td>\n",
              "      <td>It works well on me. However, I found cheaper ...</td>\n",
              "      <td>2015-08-31</td>\n",
              "    </tr>\n",
              "    <tr>\n",
              "      <th>4</th>\n",
              "      <td>US</td>\n",
              "      <td>12733322</td>\n",
              "      <td>R2SV659OUJ945Y</td>\n",
              "      <td>B00A6GFD7S</td>\n",
              "      <td>765328221</td>\n",
              "      <td>Orient ER27009B Men's Symphony Automatic Stain...</td>\n",
              "      <td>Watches</td>\n",
              "      <td>4</td>\n",
              "      <td>0</td>\n",
              "      <td>0</td>\n",
              "      <td>N</td>\n",
              "      <td>Y</td>\n",
              "      <td>Beautiful face, but cheap sounding links</td>\n",
              "      <td>Beautiful watch face.  The band looks nice all...</td>\n",
              "      <td>2015-08-31</td>\n",
              "    </tr>\n",
              "  </tbody>\n",
              "</table>\n",
              "</div>\n",
              "    <div class=\"colab-df-buttons\">\n",
              "\n",
              "  <div class=\"colab-df-container\">\n",
              "    <button class=\"colab-df-convert\" onclick=\"convertToInteractive('df-ba0f6d6b-9c2a-4c71-92ee-c688712155de')\"\n",
              "            title=\"Convert this dataframe to an interactive table.\"\n",
              "            style=\"display:none;\">\n",
              "\n",
              "  <svg xmlns=\"http://www.w3.org/2000/svg\" height=\"24px\" viewBox=\"0 -960 960 960\">\n",
              "    <path d=\"M120-120v-720h720v720H120Zm60-500h600v-160H180v160Zm220 220h160v-160H400v160Zm0 220h160v-160H400v160ZM180-400h160v-160H180v160Zm440 0h160v-160H620v160ZM180-180h160v-160H180v160Zm440 0h160v-160H620v160Z\"/>\n",
              "  </svg>\n",
              "    </button>\n",
              "\n",
              "  <style>\n",
              "    .colab-df-container {\n",
              "      display:flex;\n",
              "      gap: 12px;\n",
              "    }\n",
              "\n",
              "    .colab-df-convert {\n",
              "      background-color: #E8F0FE;\n",
              "      border: none;\n",
              "      border-radius: 50%;\n",
              "      cursor: pointer;\n",
              "      display: none;\n",
              "      fill: #1967D2;\n",
              "      height: 32px;\n",
              "      padding: 0 0 0 0;\n",
              "      width: 32px;\n",
              "    }\n",
              "\n",
              "    .colab-df-convert:hover {\n",
              "      background-color: #E2EBFA;\n",
              "      box-shadow: 0px 1px 2px rgba(60, 64, 67, 0.3), 0px 1px 3px 1px rgba(60, 64, 67, 0.15);\n",
              "      fill: #174EA6;\n",
              "    }\n",
              "\n",
              "    .colab-df-buttons div {\n",
              "      margin-bottom: 4px;\n",
              "    }\n",
              "\n",
              "    [theme=dark] .colab-df-convert {\n",
              "      background-color: #3B4455;\n",
              "      fill: #D2E3FC;\n",
              "    }\n",
              "\n",
              "    [theme=dark] .colab-df-convert:hover {\n",
              "      background-color: #434B5C;\n",
              "      box-shadow: 0px 1px 3px 1px rgba(0, 0, 0, 0.15);\n",
              "      filter: drop-shadow(0px 1px 2px rgba(0, 0, 0, 0.3));\n",
              "      fill: #FFFFFF;\n",
              "    }\n",
              "  </style>\n",
              "\n",
              "    <script>\n",
              "      const buttonEl =\n",
              "        document.querySelector('#df-ba0f6d6b-9c2a-4c71-92ee-c688712155de button.colab-df-convert');\n",
              "      buttonEl.style.display =\n",
              "        google.colab.kernel.accessAllowed ? 'block' : 'none';\n",
              "\n",
              "      async function convertToInteractive(key) {\n",
              "        const element = document.querySelector('#df-ba0f6d6b-9c2a-4c71-92ee-c688712155de');\n",
              "        const dataTable =\n",
              "          await google.colab.kernel.invokeFunction('convertToInteractive',\n",
              "                                                    [key], {});\n",
              "        if (!dataTable) return;\n",
              "\n",
              "        const docLinkHtml = 'Like what you see? Visit the ' +\n",
              "          '<a target=\"_blank\" href=https://colab.research.google.com/notebooks/data_table.ipynb>data table notebook</a>'\n",
              "          + ' to learn more about interactive tables.';\n",
              "        element.innerHTML = '';\n",
              "        dataTable['output_type'] = 'display_data';\n",
              "        await google.colab.output.renderOutput(dataTable, element);\n",
              "        const docLink = document.createElement('div');\n",
              "        docLink.innerHTML = docLinkHtml;\n",
              "        element.appendChild(docLink);\n",
              "      }\n",
              "    </script>\n",
              "  </div>\n",
              "\n",
              "\n",
              "<div id=\"df-0e3d875d-6381-4e55-9a76-edc48d1ae0bd\">\n",
              "  <button class=\"colab-df-quickchart\" onclick=\"quickchart('df-0e3d875d-6381-4e55-9a76-edc48d1ae0bd')\"\n",
              "            title=\"Suggest charts\"\n",
              "            style=\"display:none;\">\n",
              "\n",
              "<svg xmlns=\"http://www.w3.org/2000/svg\" height=\"24px\"viewBox=\"0 0 24 24\"\n",
              "     width=\"24px\">\n",
              "    <g>\n",
              "        <path d=\"M19 3H5c-1.1 0-2 .9-2 2v14c0 1.1.9 2 2 2h14c1.1 0 2-.9 2-2V5c0-1.1-.9-2-2-2zM9 17H7v-7h2v7zm4 0h-2V7h2v10zm4 0h-2v-4h2v4z\"/>\n",
              "    </g>\n",
              "</svg>\n",
              "  </button>\n",
              "\n",
              "<style>\n",
              "  .colab-df-quickchart {\n",
              "      --bg-color: #E8F0FE;\n",
              "      --fill-color: #1967D2;\n",
              "      --hover-bg-color: #E2EBFA;\n",
              "      --hover-fill-color: #174EA6;\n",
              "      --disabled-fill-color: #AAA;\n",
              "      --disabled-bg-color: #DDD;\n",
              "  }\n",
              "\n",
              "  [theme=dark] .colab-df-quickchart {\n",
              "      --bg-color: #3B4455;\n",
              "      --fill-color: #D2E3FC;\n",
              "      --hover-bg-color: #434B5C;\n",
              "      --hover-fill-color: #FFFFFF;\n",
              "      --disabled-bg-color: #3B4455;\n",
              "      --disabled-fill-color: #666;\n",
              "  }\n",
              "\n",
              "  .colab-df-quickchart {\n",
              "    background-color: var(--bg-color);\n",
              "    border: none;\n",
              "    border-radius: 50%;\n",
              "    cursor: pointer;\n",
              "    display: none;\n",
              "    fill: var(--fill-color);\n",
              "    height: 32px;\n",
              "    padding: 0;\n",
              "    width: 32px;\n",
              "  }\n",
              "\n",
              "  .colab-df-quickchart:hover {\n",
              "    background-color: var(--hover-bg-color);\n",
              "    box-shadow: 0 1px 2px rgba(60, 64, 67, 0.3), 0 1px 3px 1px rgba(60, 64, 67, 0.15);\n",
              "    fill: var(--button-hover-fill-color);\n",
              "  }\n",
              "\n",
              "  .colab-df-quickchart-complete:disabled,\n",
              "  .colab-df-quickchart-complete:disabled:hover {\n",
              "    background-color: var(--disabled-bg-color);\n",
              "    fill: var(--disabled-fill-color);\n",
              "    box-shadow: none;\n",
              "  }\n",
              "\n",
              "  .colab-df-spinner {\n",
              "    border: 2px solid var(--fill-color);\n",
              "    border-color: transparent;\n",
              "    border-bottom-color: var(--fill-color);\n",
              "    animation:\n",
              "      spin 1s steps(1) infinite;\n",
              "  }\n",
              "\n",
              "  @keyframes spin {\n",
              "    0% {\n",
              "      border-color: transparent;\n",
              "      border-bottom-color: var(--fill-color);\n",
              "      border-left-color: var(--fill-color);\n",
              "    }\n",
              "    20% {\n",
              "      border-color: transparent;\n",
              "      border-left-color: var(--fill-color);\n",
              "      border-top-color: var(--fill-color);\n",
              "    }\n",
              "    30% {\n",
              "      border-color: transparent;\n",
              "      border-left-color: var(--fill-color);\n",
              "      border-top-color: var(--fill-color);\n",
              "      border-right-color: var(--fill-color);\n",
              "    }\n",
              "    40% {\n",
              "      border-color: transparent;\n",
              "      border-right-color: var(--fill-color);\n",
              "      border-top-color: var(--fill-color);\n",
              "    }\n",
              "    60% {\n",
              "      border-color: transparent;\n",
              "      border-right-color: var(--fill-color);\n",
              "    }\n",
              "    80% {\n",
              "      border-color: transparent;\n",
              "      border-right-color: var(--fill-color);\n",
              "      border-bottom-color: var(--fill-color);\n",
              "    }\n",
              "    90% {\n",
              "      border-color: transparent;\n",
              "      border-bottom-color: var(--fill-color);\n",
              "    }\n",
              "  }\n",
              "</style>\n",
              "\n",
              "  <script>\n",
              "    async function quickchart(key) {\n",
              "      const quickchartButtonEl =\n",
              "        document.querySelector('#' + key + ' button');\n",
              "      quickchartButtonEl.disabled = true;  // To prevent multiple clicks.\n",
              "      quickchartButtonEl.classList.add('colab-df-spinner');\n",
              "      try {\n",
              "        const charts = await google.colab.kernel.invokeFunction(\n",
              "            'suggestCharts', [key], {});\n",
              "      } catch (error) {\n",
              "        console.error('Error during call to suggestCharts:', error);\n",
              "      }\n",
              "      quickchartButtonEl.classList.remove('colab-df-spinner');\n",
              "      quickchartButtonEl.classList.add('colab-df-quickchart-complete');\n",
              "    }\n",
              "    (() => {\n",
              "      let quickchartButtonEl =\n",
              "        document.querySelector('#df-0e3d875d-6381-4e55-9a76-edc48d1ae0bd button');\n",
              "      quickchartButtonEl.style.display =\n",
              "        google.colab.kernel.accessAllowed ? 'block' : 'none';\n",
              "    })();\n",
              "  </script>\n",
              "</div>\n",
              "    </div>\n",
              "  </div>\n"
            ],
            "application/vnd.google.colaboratory.intrinsic+json": {
              "type": "dataframe",
              "variable_name": "df"
            }
          },
          "metadata": {},
          "execution_count": 4
        }
      ]
    },
    {
      "cell_type": "markdown",
      "source": [
        "## **Data Cleaning**"
      ],
      "metadata": {
        "id": "rKVldcVkE_HL"
      }
    },
    {
      "cell_type": "code",
      "source": [
        "import re\n",
        "import string\n",
        "import nltk\n",
        "from nltk.corpus import stopwords\n",
        "from nltk.tokenize import word_tokenize\n",
        "import contractions\n",
        "\n",
        "nltk.download('stopwords')\n",
        "nltk.download('punkt')\n",
        "\n",
        "def remove_stopwords(text):\n",
        "    stop_words = set(stopwords.words('english'))\n",
        "    tokens = word_tokenize(text)\n",
        "    filtered_tokens = [token for token in tokens if token.lower() not in stop_words]\n",
        "    return ' '.join(filtered_tokens)\n",
        "\n",
        "def normalize(text):\n",
        "    return str(text).lower()\n",
        "\n",
        "def remove_tags(text): # some tags like <br> ...\n",
        "    text = re.sub('<.*?>', '', text)\n",
        "    text = re.sub('\\[.*?\\]', '', text)\n",
        "    return text\n",
        "\n",
        "def remove_emojies(text):\n",
        "    text = text.encode('ascii', 'ignore').decode('ascii')\n",
        "    return text\n",
        "\n",
        "def remove_punctuations(text):\n",
        "    text = text.translate(str.maketrans('', '', string.punctuation))\n",
        "    return text\n",
        "\n",
        "def remove_spaces(text):\n",
        "    text = ' '.join(text.split())\n",
        "    return text\n",
        "\n",
        "def remove_numbers(text):\n",
        "    text = re.sub(r'\\d+', '', text)\n",
        "    return text\n",
        "\n",
        "def fix_contractions(text): # can't -> cannot\n",
        "    return contractions.fix(text)\n",
        "\n",
        "def remove_one_char(text):\n",
        "    words = text.split()\n",
        "    cleaned_words = [word for word in words if len(word) > 2]\n",
        "    text = ' '.join(cleaned_words)\n",
        "    return text\n",
        "\n",
        "def clean_text(text):\n",
        "    text = normalize(text)\n",
        "    text = fix_contractions(text)\n",
        "    text = remove_stopwords(text)\n",
        "    text = remove_tags(text)\n",
        "    text = remove_emojies(text)\n",
        "    text = remove_punctuations(text)\n",
        "    text = remove_numbers(text)\n",
        "    text = remove_spaces(text)\n",
        "    text = remove_one_char(text)\n",
        "    return text"
      ],
      "metadata": {
        "colab": {
          "base_uri": "https://localhost:8080/"
        },
        "id": "PdK_KeVgFL6a",
        "outputId": "b50643c9-4e5d-4144-b0e7-b046cfe1c0ff"
      },
      "execution_count": 5,
      "outputs": [
        {
          "output_type": "stream",
          "name": "stderr",
          "text": [
            "[nltk_data] Downloading package stopwords to /root/nltk_data...\n",
            "[nltk_data]   Package stopwords is already up-to-date!\n",
            "[nltk_data] Downloading package punkt to /root/nltk_data...\n",
            "[nltk_data]   Package punkt is already up-to-date!\n"
          ]
        }
      ]
    },
    {
      "cell_type": "markdown",
      "source": [
        "## **Bert Transfer Learning**"
      ],
      "metadata": {
        "id": "XLKFJ9U9FQPr"
      }
    },
    {
      "cell_type": "code",
      "source": [
        "!pip install datasets transformers evaluate accelerate"
      ],
      "metadata": {
        "colab": {
          "base_uri": "https://localhost:8080/"
        },
        "id": "K0fBSRBJFf7b",
        "outputId": "ced96922-2641-4076-cd65-4d25f3004589"
      },
      "execution_count": 6,
      "outputs": [
        {
          "output_type": "stream",
          "name": "stdout",
          "text": [
            "Requirement already satisfied: datasets in /usr/local/lib/python3.10/dist-packages (2.21.0)\n",
            "Requirement already satisfied: transformers in /usr/local/lib/python3.10/dist-packages (4.42.4)\n",
            "Requirement already satisfied: evaluate in /usr/local/lib/python3.10/dist-packages (0.4.2)\n",
            "Requirement already satisfied: accelerate in /usr/local/lib/python3.10/dist-packages (0.32.1)\n",
            "Requirement already satisfied: filelock in /usr/local/lib/python3.10/dist-packages (from datasets) (3.15.4)\n",
            "Requirement already satisfied: numpy>=1.17 in /usr/local/lib/python3.10/dist-packages (from datasets) (1.26.4)\n",
            "Requirement already satisfied: pyarrow>=15.0.0 in /usr/local/lib/python3.10/dist-packages (from datasets) (17.0.0)\n",
            "Requirement already satisfied: dill<0.3.9,>=0.3.0 in /usr/local/lib/python3.10/dist-packages (from datasets) (0.3.8)\n",
            "Requirement already satisfied: pandas in /usr/local/lib/python3.10/dist-packages (from datasets) (2.1.4)\n",
            "Requirement already satisfied: requests>=2.32.2 in /usr/local/lib/python3.10/dist-packages (from datasets) (2.32.3)\n",
            "Requirement already satisfied: tqdm>=4.66.3 in /usr/local/lib/python3.10/dist-packages (from datasets) (4.66.5)\n",
            "Requirement already satisfied: xxhash in /usr/local/lib/python3.10/dist-packages (from datasets) (3.5.0)\n",
            "Requirement already satisfied: multiprocess in /usr/local/lib/python3.10/dist-packages (from datasets) (0.70.16)\n",
            "Requirement already satisfied: fsspec<=2024.6.1,>=2023.1.0 in /usr/local/lib/python3.10/dist-packages (from fsspec[http]<=2024.6.1,>=2023.1.0->datasets) (2024.6.1)\n",
            "Requirement already satisfied: aiohttp in /usr/local/lib/python3.10/dist-packages (from datasets) (3.10.5)\n",
            "Requirement already satisfied: huggingface-hub>=0.21.2 in /usr/local/lib/python3.10/dist-packages (from datasets) (0.23.5)\n",
            "Requirement already satisfied: packaging in /usr/local/lib/python3.10/dist-packages (from datasets) (24.1)\n",
            "Requirement already satisfied: pyyaml>=5.1 in /usr/local/lib/python3.10/dist-packages (from datasets) (6.0.2)\n",
            "Requirement already satisfied: regex!=2019.12.17 in /usr/local/lib/python3.10/dist-packages (from transformers) (2024.5.15)\n",
            "Requirement already satisfied: safetensors>=0.4.1 in /usr/local/lib/python3.10/dist-packages (from transformers) (0.4.4)\n",
            "Requirement already satisfied: tokenizers<0.20,>=0.19 in /usr/local/lib/python3.10/dist-packages (from transformers) (0.19.1)\n",
            "Requirement already satisfied: psutil in /usr/local/lib/python3.10/dist-packages (from accelerate) (5.9.5)\n",
            "Requirement already satisfied: torch>=1.10.0 in /usr/local/lib/python3.10/dist-packages (from accelerate) (2.4.0+cu121)\n",
            "Requirement already satisfied: aiohappyeyeballs>=2.3.0 in /usr/local/lib/python3.10/dist-packages (from aiohttp->datasets) (2.4.0)\n",
            "Requirement already satisfied: aiosignal>=1.1.2 in /usr/local/lib/python3.10/dist-packages (from aiohttp->datasets) (1.3.1)\n",
            "Requirement already satisfied: attrs>=17.3.0 in /usr/local/lib/python3.10/dist-packages (from aiohttp->datasets) (24.2.0)\n",
            "Requirement already satisfied: frozenlist>=1.1.1 in /usr/local/lib/python3.10/dist-packages (from aiohttp->datasets) (1.4.1)\n",
            "Requirement already satisfied: multidict<7.0,>=4.5 in /usr/local/lib/python3.10/dist-packages (from aiohttp->datasets) (6.0.5)\n",
            "Requirement already satisfied: yarl<2.0,>=1.0 in /usr/local/lib/python3.10/dist-packages (from aiohttp->datasets) (1.9.4)\n",
            "Requirement already satisfied: async-timeout<5.0,>=4.0 in /usr/local/lib/python3.10/dist-packages (from aiohttp->datasets) (4.0.3)\n",
            "Requirement already satisfied: typing-extensions>=3.7.4.3 in /usr/local/lib/python3.10/dist-packages (from huggingface-hub>=0.21.2->datasets) (4.12.2)\n",
            "Requirement already satisfied: charset-normalizer<4,>=2 in /usr/local/lib/python3.10/dist-packages (from requests>=2.32.2->datasets) (3.3.2)\n",
            "Requirement already satisfied: idna<4,>=2.5 in /usr/local/lib/python3.10/dist-packages (from requests>=2.32.2->datasets) (3.8)\n",
            "Requirement already satisfied: urllib3<3,>=1.21.1 in /usr/local/lib/python3.10/dist-packages (from requests>=2.32.2->datasets) (2.0.7)\n",
            "Requirement already satisfied: certifi>=2017.4.17 in /usr/local/lib/python3.10/dist-packages (from requests>=2.32.2->datasets) (2024.7.4)\n",
            "Requirement already satisfied: sympy in /usr/local/lib/python3.10/dist-packages (from torch>=1.10.0->accelerate) (1.13.2)\n",
            "Requirement already satisfied: networkx in /usr/local/lib/python3.10/dist-packages (from torch>=1.10.0->accelerate) (3.3)\n",
            "Requirement already satisfied: jinja2 in /usr/local/lib/python3.10/dist-packages (from torch>=1.10.0->accelerate) (3.1.4)\n",
            "Requirement already satisfied: python-dateutil>=2.8.2 in /usr/local/lib/python3.10/dist-packages (from pandas->datasets) (2.8.2)\n",
            "Requirement already satisfied: pytz>=2020.1 in /usr/local/lib/python3.10/dist-packages (from pandas->datasets) (2024.1)\n",
            "Requirement already satisfied: tzdata>=2022.1 in /usr/local/lib/python3.10/dist-packages (from pandas->datasets) (2024.1)\n",
            "Requirement already satisfied: six>=1.5 in /usr/local/lib/python3.10/dist-packages (from python-dateutil>=2.8.2->pandas->datasets) (1.16.0)\n",
            "Requirement already satisfied: MarkupSafe>=2.0 in /usr/local/lib/python3.10/dist-packages (from jinja2->torch>=1.10.0->accelerate) (2.1.5)\n",
            "Requirement already satisfied: mpmath<1.4,>=1.1.0 in /usr/local/lib/python3.10/dist-packages (from sympy->torch>=1.10.0->accelerate) (1.3.0)\n"
          ]
        }
      ]
    },
    {
      "cell_type": "code",
      "source": [
        "!gdown 1AERCGs8VaK321NLglvheiKGmA4A55lLS"
      ],
      "metadata": {
        "colab": {
          "base_uri": "https://localhost:8080/"
        },
        "id": "tpC9COFkFiW7",
        "outputId": "bd2b8af6-b7f2-41bf-d665-c3771cf41b05"
      },
      "execution_count": 7,
      "outputs": [
        {
          "output_type": "stream",
          "name": "stdout",
          "text": [
            "Downloading...\n",
            "From (original): https://drive.google.com/uc?id=1AERCGs8VaK321NLglvheiKGmA4A55lLS\n",
            "From (redirected): https://drive.google.com/uc?id=1AERCGs8VaK321NLglvheiKGmA4A55lLS&confirm=t&uuid=ed8d3c0b-3a73-43e0-a350-efeb8ffa6df8\n",
            "To: /content/data.csv\n",
            "100% 160M/160M [00:04<00:00, 38.0MB/s]\n"
          ]
        }
      ]
    },
    {
      "cell_type": "code",
      "source": [
        "from sklearn.model_selection import train_test_split\n",
        "\n",
        "df = pd.read_csv(\"/content/data.csv\").drop(\"Unnamed: 0\", axis=1).reset_index(drop=True)\n",
        "df = df.dropna()\n",
        "X, y = df['review_body'], df['star_rating']\n",
        "y = y.apply(lambda x: 0 if x <= 2 else 1 if x == 3 else 2)\n",
        "\n",
        "label2id = {\"Negative\": 0, \"Neutral\": 1, \"Postiive\": 2} #Need for bert models\n",
        "id2label = {0: \"Negative\", 1: \"Neutral\", 2: \"Postiive\"}\n",
        "\n",
        "X_train, X_validation, y_train, y_validation = train_test_split(X, y, train_size=0.6, shuffle=True, random_state=42, stratify=y)\n",
        "X_test, X_validation, y_test, y_validation = train_test_split(X_validation, y_validation, train_size=0.5, shuffle=True, random_state=42, stratify=y_validation)"
      ],
      "metadata": {
        "id": "4xu83lPpF__T"
      },
      "execution_count": 12,
      "outputs": []
    },
    {
      "cell_type": "code",
      "source": [
        "from datasets import Dataset, DatasetDict\n",
        "\n",
        "ds_train = Dataset.from_pandas(pd.concat([X_train, y_train], axis=1, keys=['text', 'label']).reset_index(drop=True))\n",
        "ds_train = ds_train.train_test_split(test_size=0.1)['test']\n",
        "ds_validation = Dataset.from_pandas(pd.concat([X_validation, y_validation], axis=1, keys=['text', 'label']).reset_index(drop=True))\n",
        "ds_test = Dataset.from_pandas(pd.concat([X_test, y_test], axis=1, keys=['text', 'label']).reset_index(drop=True))\n",
        "ds = DatasetDict({'train': ds_train, 'validation': ds_validation, 'test': ds_test})"
      ],
      "metadata": {
        "id": "l2uugyNdGDNr"
      },
      "execution_count": 13,
      "outputs": []
    },
    {
      "cell_type": "code",
      "source": [
        "from transformers import AutoTokenizer, AutoModelForSequenceClassification\n",
        "\n",
        "model_name = \"cardiffnlp/twitter-roberta-base-sentiment-latest\"\n",
        "tokenizer = AutoTokenizer.from_pretrained(model_name)\n",
        "model = AutoModelForSequenceClassification.from_pretrained(\n",
        "    model_name, num_labels=len(id2label), id2label=id2label, label2id=label2id\n",
        ")\n",
        "for name, param in model.named_parameters():\n",
        "    if name.startswith('roberta'):\n",
        "        param.requires_grad = False"
      ],
      "metadata": {
        "colab": {
          "base_uri": "https://localhost:8080/",
          "height": 358,
          "referenced_widgets": [
            "9a168672fdca4576972c3201fd8b34a4",
            "521ff6154f644cb695dc53554dfc674d",
            "3e5ae716da8c46828b8c970dd14042b3",
            "897a8602b4c0439f8338c2b8a1727679",
            "a60a68e6001e47b0840cc90636d6a6c2",
            "10dafcd1ef8a414f95dc2de7a76bf496",
            "793e53728e1240849a39db3e4d4447a3",
            "e981664087df447780d0b6491396354b",
            "48be692c0c4543f498c388f8f456a432",
            "e0492e034a464bbca084209160907c49",
            "528c0dbd1b704c2e8e32e7a720a67409",
            "e23a87e9a3924e07906913482f61779f",
            "880ec74fc21e48a58f7cbc7461642649",
            "d7bbc547fd21454ab4beb9ddb56a25b9",
            "ee853ce5f2dd49708f6ef2bfc11e60ff",
            "34432e9b239e4882a8c968c55c53ff8d",
            "67f5c1ff06b6475aa601942da977bc1a",
            "eb51a3663d1a46bda962b94af1eada8e",
            "1e2dab19f0c3433da236ae893b94874f",
            "d73fdaca351f488cb98f83ca271e8606",
            "37e37903abb242bfbdbc81685c03b8e7",
            "ffc2b6abf9c94fdc906af7a1bbab5102",
            "44f9454a202d45dc84d607b1a47a904a",
            "3d12b1ee3d074a2b9fd846162e528fa9",
            "73c292232118449ab35178beb2a6e0af",
            "e1e92a1d5a2d46bbbc054d440d1e74a5",
            "bd75c159d4794c75955cf407c549d206",
            "339e1bdb07cf4021aa0a687c894ac84a",
            "6d8e32cf1eac466590ab65dd919fe564",
            "d342321bf6144ae68951597d24b1eb78",
            "141ab4e1589b4e128b57f5a19c27aad3",
            "74334f9d97d24525bcda28f28d1f0f6a",
            "ee2f105098c14188a3f53265c66dfb39",
            "f206397fc71840479adf27cf98b0b8cf",
            "8292b4f0ae4741edbd70516fa830f4da",
            "7f0e22877fa84be4a5c90d670e1db9eb",
            "1acd7cd710094d1cb3defeab76f5be16",
            "b0ee4a94e6f5424087d9eb315a5ee855",
            "a5102229dcc94aa9aff2b3a89ea84e6d",
            "87e014d9542f486c92b2caaf66c476e6",
            "8b3270245eba4f01ae8674623b59a8c4",
            "006533a6113542a093e30e356d60fa5e",
            "89a8c82081064d88850b6788235b18f6",
            "22cc31a87fc34e3692a2b9ca45da4c81",
            "ec20d7e6cc3a40769774a5bf89526f1b",
            "27c33a60685449a08abf1b11444b3027",
            "97877fbf17ef4878bad2d63e1189f63a",
            "4e18e8f12a3445bcb67b7af53f5999e2",
            "d62f4d40dcab439b9849062ea111b733",
            "cc77e95581a44921b688bedc37beca0f",
            "89e24df6415e41bcb50984cc9f12f956",
            "ba0907b4fe5a4a76b4228e1b8298d404",
            "55cf372342804436b36ee5db95b9004c",
            "c0d80fe3ba434ecf8c5beeaf4ec481ea",
            "31286882bc2a4b6588af1233862f6a33"
          ]
        },
        "id": "NEAOLieDGKJg",
        "outputId": "2142be7b-61f8-4a49-ef99-b7f32dd8d236"
      },
      "execution_count": 14,
      "outputs": [
        {
          "output_type": "stream",
          "name": "stderr",
          "text": [
            "/usr/local/lib/python3.10/dist-packages/huggingface_hub/utils/_token.py:89: UserWarning: \n",
            "The secret `HF_TOKEN` does not exist in your Colab secrets.\n",
            "To authenticate with the Hugging Face Hub, create a token in your settings tab (https://huggingface.co/settings/tokens), set it as secret in your Google Colab and restart your session.\n",
            "You will be able to reuse this secret in all of your notebooks.\n",
            "Please note that authentication is recommended but still optional to access public models or datasets.\n",
            "  warnings.warn(\n"
          ]
        },
        {
          "output_type": "display_data",
          "data": {
            "text/plain": [
              "config.json:   0%|          | 0.00/929 [00:00<?, ?B/s]"
            ],
            "application/vnd.jupyter.widget-view+json": {
              "version_major": 2,
              "version_minor": 0,
              "model_id": "9a168672fdca4576972c3201fd8b34a4"
            }
          },
          "metadata": {}
        },
        {
          "output_type": "display_data",
          "data": {
            "text/plain": [
              "vocab.json:   0%|          | 0.00/899k [00:00<?, ?B/s]"
            ],
            "application/vnd.jupyter.widget-view+json": {
              "version_major": 2,
              "version_minor": 0,
              "model_id": "e23a87e9a3924e07906913482f61779f"
            }
          },
          "metadata": {}
        },
        {
          "output_type": "display_data",
          "data": {
            "text/plain": [
              "merges.txt:   0%|          | 0.00/456k [00:00<?, ?B/s]"
            ],
            "application/vnd.jupyter.widget-view+json": {
              "version_major": 2,
              "version_minor": 0,
              "model_id": "44f9454a202d45dc84d607b1a47a904a"
            }
          },
          "metadata": {}
        },
        {
          "output_type": "display_data",
          "data": {
            "text/plain": [
              "special_tokens_map.json:   0%|          | 0.00/239 [00:00<?, ?B/s]"
            ],
            "application/vnd.jupyter.widget-view+json": {
              "version_major": 2,
              "version_minor": 0,
              "model_id": "f206397fc71840479adf27cf98b0b8cf"
            }
          },
          "metadata": {}
        },
        {
          "output_type": "display_data",
          "data": {
            "text/plain": [
              "pytorch_model.bin:   0%|          | 0.00/501M [00:00<?, ?B/s]"
            ],
            "application/vnd.jupyter.widget-view+json": {
              "version_major": 2,
              "version_minor": 0,
              "model_id": "ec20d7e6cc3a40769774a5bf89526f1b"
            }
          },
          "metadata": {}
        },
        {
          "output_type": "stream",
          "name": "stderr",
          "text": [
            "Some weights of the model checkpoint at cardiffnlp/twitter-roberta-base-sentiment-latest were not used when initializing RobertaForSequenceClassification: ['roberta.pooler.dense.bias', 'roberta.pooler.dense.weight']\n",
            "- This IS expected if you are initializing RobertaForSequenceClassification from the checkpoint of a model trained on another task or with another architecture (e.g. initializing a BertForSequenceClassification model from a BertForPreTraining model).\n",
            "- This IS NOT expected if you are initializing RobertaForSequenceClassification from the checkpoint of a model that you expect to be exactly identical (initializing a BertForSequenceClassification model from a BertForSequenceClassification model).\n"
          ]
        }
      ]
    },
    {
      "cell_type": "code",
      "source": [
        "from transformers import AutoTokenizer, AutoModelForSequenceClassification\n",
        "import evaluate\n",
        "import numpy as np\n",
        "\n",
        "def preprocess_function(examples):\n",
        "    return tokenizer(examples[\"text\"], truncation=True, padding=True, max_length=128)\n",
        "\n",
        "def compute_metrics(eval_pred): # For cal accuracy\n",
        "    predictions, labels = eval_pred\n",
        "    predictions = np.argmax(predictions, axis=1)\n",
        "    return accuracy.compute(predictions=predictions, references=labels)\n",
        "\n",
        "ds = ds.map(preprocess_function, batched=True)\n",
        "accuracy = evaluate.load(\"accuracy\")"
      ],
      "metadata": {
        "colab": {
          "base_uri": "https://localhost:8080/",
          "height": 145,
          "referenced_widgets": [
            "f78c21b8b87042c69d1ca56e29ce3b46",
            "573358add2d44d86a5912d1a09989065",
            "1146e8d7612d485ab1f106674ea8a49f",
            "cf69a10d814c4e7194948e9b2ecf7de1",
            "243c16dc29c1452783e955940d5f3b52",
            "d16ca5f83b6849eead5857cf5d9811dd",
            "2f5562c410ae4684abde6f43f7eccd75",
            "ccfa41f2177e46c8af8a8fc5e2e39288",
            "0a274add777545a4bb9f9af20f06ceeb",
            "e8dd92249ffa450e940627e92f7cb0bb",
            "37835955be944387a53c297ce0abbfca",
            "3da54a06a79349a28bcce4b66a0cb955",
            "40605854338e4ec791d9956ba55fd4d0",
            "141d1b43a11e4b709f442de30c2653fa",
            "67cc8b057ddb481d9dd24e2a0f20e5fc",
            "1c0d1de9748547b5906ac22e6d7edda8",
            "f7335e0bdd43461ea97c5d4d3db9ac22",
            "b37fff58bb764231ace7b5d8c09df06b",
            "aef63a3c1c214b1c815f46796d3f5ca1",
            "f48d4191bb55469e9c3b83268693dddc",
            "dd60df00caf64cb6b638eb68de6422be",
            "0a411b2880a343c599c841e8d33f3300",
            "1f7e257f0d8d43cb978377ce17b19664",
            "8b66c7e1fcb94678a60ff983c135c56b",
            "4a37c7c2d9a94b07bf1fe37ce7e75880",
            "6145d86b1f1347b8a85c322920432527",
            "c798e59556e948598541f633721b85f3",
            "b632a11281a44f61996d472f754b85b3",
            "bd3bd69ea2c348a49877acff0ac1d3ca",
            "0f767d3572a24278a8af0c9247ab5e7a",
            "d716de6da46f4d48bbbf1bc94ad0801e",
            "5d1e5ce213b14b389444fdbe23f8f556",
            "1b17b53d497b4360a14e46d1aa45583e",
            "61e69de5706e427f8ee31dd778f35303",
            "c8a321e22342495b9b720f7e1119a8a3",
            "bc1b315f473f4a56a12fb6511467ff24",
            "4d7eddcd74d44f9da184dec0e8de3dce",
            "ed83e7c6f1b54d25bd40046d649c7fcf",
            "0ff1c5b81e6b4e98b0d6074325fb15f9",
            "ef7c76c060b846b6bcbaae94f47cfed2",
            "258a05c4426d410c954033e51a194f91",
            "c9ff7d904c334f28a3429dbc77294bee",
            "0a78c9310f7d4bc59d122990264d2691",
            "118b373525a44baaae593ed83caa1659"
          ]
        },
        "id": "rMSQVsBzG0Bs",
        "outputId": "a6a40f25-3e20-4286-e264-fdc74a1803fc"
      },
      "execution_count": 15,
      "outputs": [
        {
          "output_type": "display_data",
          "data": {
            "text/plain": [
              "Map:   0%|          | 0/57374 [00:00<?, ? examples/s]"
            ],
            "application/vnd.jupyter.widget-view+json": {
              "version_major": 2,
              "version_minor": 0,
              "model_id": "f78c21b8b87042c69d1ca56e29ce3b46"
            }
          },
          "metadata": {}
        },
        {
          "output_type": "display_data",
          "data": {
            "text/plain": [
              "Map:   0%|          | 0/191244 [00:00<?, ? examples/s]"
            ],
            "application/vnd.jupyter.widget-view+json": {
              "version_major": 2,
              "version_minor": 0,
              "model_id": "3da54a06a79349a28bcce4b66a0cb955"
            }
          },
          "metadata": {}
        },
        {
          "output_type": "display_data",
          "data": {
            "text/plain": [
              "Map:   0%|          | 0/191244 [00:00<?, ? examples/s]"
            ],
            "application/vnd.jupyter.widget-view+json": {
              "version_major": 2,
              "version_minor": 0,
              "model_id": "1f7e257f0d8d43cb978377ce17b19664"
            }
          },
          "metadata": {}
        },
        {
          "output_type": "display_data",
          "data": {
            "text/plain": [
              "Downloading builder script:   0%|          | 0.00/4.20k [00:00<?, ?B/s]"
            ],
            "application/vnd.jupyter.widget-view+json": {
              "version_major": 2,
              "version_minor": 0,
              "model_id": "61e69de5706e427f8ee31dd778f35303"
            }
          },
          "metadata": {}
        }
      ]
    },
    {
      "cell_type": "code",
      "source": [
        "from transformers import TrainingArguments, Trainer\n",
        "\n",
        "training_args = TrainingArguments(\n",
        "    output_dir=\"test\",\n",
        "    learning_rate=2e-5,\n",
        "    per_device_train_batch_size=8,\n",
        "    per_device_eval_batch_size=8,\n",
        "    num_train_epochs=15,\n",
        "    weight_decay=0.01,\n",
        "    evaluation_strategy=\"epoch\",\n",
        "    save_strategy=\"epoch\",\n",
        "    load_best_model_at_end=True,\n",
        ")\n",
        "\n",
        "trainer = Trainer(\n",
        "    model=model,\n",
        "    args=training_args,\n",
        "    train_dataset=ds[\"train\"],\n",
        "    eval_dataset=ds[\"test\"],\n",
        "    tokenizer=tokenizer,\n",
        "    compute_metrics=compute_metrics,\n",
        ")"
      ],
      "metadata": {
        "colab": {
          "base_uri": "https://localhost:8080/"
        },
        "id": "3AO8V07hG7Wm",
        "outputId": "272fc8d0-4bf1-4868-fff4-267840e35e70"
      },
      "execution_count": 16,
      "outputs": [
        {
          "output_type": "stream",
          "name": "stderr",
          "text": [
            "/usr/local/lib/python3.10/dist-packages/transformers/training_args.py:1494: FutureWarning: `evaluation_strategy` is deprecated and will be removed in version 4.46 of 🤗 Transformers. Use `eval_strategy` instead\n",
            "  warnings.warn(\n"
          ]
        }
      ]
    },
    {
      "cell_type": "code",
      "source": [
        "trainer.train()"
      ],
      "metadata": {
        "id": "f3JcwYdDHAM2"
      },
      "execution_count": null,
      "outputs": []
    },
    {
      "cell_type": "code",
      "source": [
        "trainer.evaluate(ds['test'])"
      ],
      "metadata": {
        "id": "0kSjN0ffHCKg"
      },
      "execution_count": null,
      "outputs": []
    },
    {
      "cell_type": "markdown",
      "source": [
        "## **Neural Network**"
      ],
      "metadata": {
        "id": "RdFYhrBUHHXN"
      }
    },
    {
      "cell_type": "code",
      "source": [
        "!pip install datasets"
      ],
      "metadata": {
        "id": "vlulSjrBH9A9"
      },
      "execution_count": null,
      "outputs": []
    },
    {
      "cell_type": "code",
      "source": [
        "!gdown 1AERCGs8VaK321NLglvheiKGmA4A55lLS"
      ],
      "metadata": {
        "colab": {
          "base_uri": "https://localhost:8080/"
        },
        "id": "7XryFsExH_Cq",
        "outputId": "e30c0ece-bc6d-41ce-e74e-6b855564f35c"
      },
      "execution_count": 21,
      "outputs": [
        {
          "output_type": "stream",
          "name": "stdout",
          "text": [
            "Downloading...\n",
            "From (original): https://drive.google.com/uc?id=1AERCGs8VaK321NLglvheiKGmA4A55lLS\n",
            "From (redirected): https://drive.google.com/uc?id=1AERCGs8VaK321NLglvheiKGmA4A55lLS&confirm=t&uuid=2da4469e-fde0-46ec-a0d3-67deebc21d2d\n",
            "To: /content/data.csv\n",
            "100% 160M/160M [00:01<00:00, 99.1MB/s]\n"
          ]
        }
      ]
    },
    {
      "cell_type": "code",
      "source": [
        "import pandas as pd\n",
        "from sklearn.model_selection import train_test_split\n",
        "\n",
        "df = pd.read_csv(\"data.csv\").drop(\"Unnamed: 0\", axis=1).reset_index(drop=True)\n",
        "df = df.dropna()\n",
        "X, y = df['review_body'], df['star_rating']\n",
        "y = y.apply(lambda x: 0 if x <= 2 else 1 if x == 3 else 2)\n",
        "label2id = {\"Negative\": 0, \"Neutral\": 1, \"Postiive\": 2}\n",
        "id2label = {0: \"Negative\", 1: \"Neutral\", 2: \"Postiive\"}\n",
        "X_train, X_validation, y_train, y_validation = train_test_split(X, y, train_size=0.6, shuffle=True, random_state=42, stratify=y)\n",
        "X_test, X_validation, y_test, y_validation = train_test_split(X_validation, y_validation, train_size=0.5, shuffle=True, random_state=42, stratify=y_validation)"
      ],
      "metadata": {
        "id": "EsZ-_jptIEaW"
      },
      "execution_count": 22,
      "outputs": []
    },
    {
      "cell_type": "code",
      "source": [
        "from sklearn.feature_extraction.text import TfidfVectorizer\n",
        "vectorizer = TfidfVectorizer(max_features=1000)\n",
        "X_train_transformed = vectorizer.fit_transform(X_train, y_train)\n",
        "X_validation_transformed = vectorizer.transform(X_validation)\n",
        "X_test_transformed = vectorizer.transform(X_test)"
      ],
      "metadata": {
        "id": "CyYHDquMIHa4"
      },
      "execution_count": 23,
      "outputs": []
    },
    {
      "cell_type": "code",
      "source": [
        "import torch\n",
        "import scipy\n",
        "\n",
        "X_train_transformed = torch.tensor(scipy.sparse.csr_matrix.todense(X_train_transformed)).float()\n",
        "X_test_transformed = torch.tensor(scipy.sparse.csr_matrix.todense(X_test_transformed)).float()\n",
        "\n",
        "y_train_transformed = torch.tensor(y_train.values)\n",
        "y_test_transformed = torch.tensor(y_test.values)"
      ],
      "metadata": {
        "id": "NEEy_k4UIKZx"
      },
      "execution_count": 24,
      "outputs": []
    },
    {
      "cell_type": "code",
      "source": [
        "from torch import nn, optim\n",
        "\n",
        "model = nn.Sequential(\n",
        "    nn.Linear(1000, 32),\n",
        "    nn.ReLU(),\n",
        "    nn.Linear(32, 3),\n",
        "    nn.LogSoftmax(dim=1)\n",
        ").cuda()\n",
        "\n",
        "criterion = nn.NLLLoss().cuda()\n",
        "optimizer = optim.AdamW(model.parameters(), lr=0.01, weight_decay=0.1)"
      ],
      "metadata": {
        "id": "1pXcDLOlIMMo"
      },
      "execution_count": 25,
      "outputs": []
    },
    {
      "cell_type": "code",
      "source": [
        "from sklearn.metrics import precision_recall_fscore_support\n",
        "epochs = 500\n",
        "for e in range(epochs):\n",
        "    optimizer.zero_grad()\n",
        "    output = model.forward(X_train_transformed.cuda())\n",
        "    loss = criterion(output, y_train_transformed.cuda())\n",
        "    loss.backward()\n",
        "    optimizer.step()\n",
        "    prec, rec, f1, sup = precision_recall_fscore_support(y_train_transformed.cpu().detach().numpy(), output.argmax(axis=1).cpu().detach().numpy())\n",
        "    accuracy = accuracy_score(y_train_transformed.cpu().detach().numpy(), output.argmax(axis=1).cpu().detach().numpy())\n",
        "    print(f\"train loss: {loss.item():.2}, train_accuracy: {accuracy * 100:.3}, precision: {prec[0]:.2}, recall: {rec[0]:.2}, f1: {f1[0]:.2}\")\n",
        "    if e % 10 == 0:\n",
        "        with torch.no_grad():\n",
        "            model.eval()\n",
        "            log_ps = model(X_test_transformed.cuda())\n",
        "            test_loss = criterion(log_ps, y_test_transformed.cuda())\n",
        "            prec, rec, f1, sup = precision_recall_fscore_support(y_test_transformed.cpu().detach().numpy(), log_ps.argmax(axis=1).cpu().detach().numpy())\n",
        "            accuracy = accuracy_score(y_test_transformed.cpu().detach().numpy(), log_ps.argmax(axis=1).cpu().detach().numpy())\n",
        "            print(f\"test loss: {loss.item():.2}, test_accuracy: {accuracy * 100:.3}, precision: {prec[0]:.2}, recall: {rec[0]:.2}, f1: {f1[0]:.2}\")\n"
      ],
      "metadata": {
        "colab": {
          "base_uri": "https://localhost:8080/"
        },
        "id": "QYhPvx88IOd6",
        "outputId": "131c41dd-dcdd-4453-b701-0fd30f546fa9"
      },
      "execution_count": 26,
      "outputs": [
        {
          "output_type": "stream",
          "name": "stderr",
          "text": [
            "/usr/local/lib/python3.10/dist-packages/sklearn/metrics/_classification.py:1471: UndefinedMetricWarning: Precision and F-score are ill-defined and being set to 0.0 in labels with no predicted samples. Use `zero_division` parameter to control this behavior.\n",
            "  _warn_prf(average, modifier, msg_start, len(result))\n"
          ]
        },
        {
          "output_type": "stream",
          "name": "stdout",
          "text": [
            "train loss: 1.1, train_accuracy: 74.7, precision: 0.0, recall: 0.0, f1: 0.0\n"
          ]
        },
        {
          "output_type": "stream",
          "name": "stderr",
          "text": [
            "/usr/local/lib/python3.10/dist-packages/sklearn/metrics/_classification.py:1471: UndefinedMetricWarning: Precision and F-score are ill-defined and being set to 0.0 in labels with no predicted samples. Use `zero_division` parameter to control this behavior.\n",
            "  _warn_prf(average, modifier, msg_start, len(result))\n"
          ]
        },
        {
          "output_type": "stream",
          "name": "stdout",
          "text": [
            "test loss: 1.1, test_accuracy: 77.5, precision: 0.0, recall: 0.0, f1: 0.0\n"
          ]
        },
        {
          "output_type": "stream",
          "name": "stderr",
          "text": [
            "/usr/local/lib/python3.10/dist-packages/sklearn/metrics/_classification.py:1471: UndefinedMetricWarning: Precision and F-score are ill-defined and being set to 0.0 in labels with no predicted samples. Use `zero_division` parameter to control this behavior.\n",
            "  _warn_prf(average, modifier, msg_start, len(result))\n"
          ]
        },
        {
          "output_type": "stream",
          "name": "stdout",
          "text": [
            "train loss: 1.0, train_accuracy: 77.5, precision: 0.0, recall: 0.0, f1: 0.0\n"
          ]
        },
        {
          "output_type": "stream",
          "name": "stderr",
          "text": [
            "/usr/local/lib/python3.10/dist-packages/sklearn/metrics/_classification.py:1471: UndefinedMetricWarning: Precision and F-score are ill-defined and being set to 0.0 in labels with no predicted samples. Use `zero_division` parameter to control this behavior.\n",
            "  _warn_prf(average, modifier, msg_start, len(result))\n"
          ]
        },
        {
          "output_type": "stream",
          "name": "stdout",
          "text": [
            "train loss: 0.97, train_accuracy: 77.5, precision: 0.0, recall: 0.0, f1: 0.0\n"
          ]
        },
        {
          "output_type": "stream",
          "name": "stderr",
          "text": [
            "/usr/local/lib/python3.10/dist-packages/sklearn/metrics/_classification.py:1471: UndefinedMetricWarning: Precision and F-score are ill-defined and being set to 0.0 in labels with no predicted samples. Use `zero_division` parameter to control this behavior.\n",
            "  _warn_prf(average, modifier, msg_start, len(result))\n"
          ]
        },
        {
          "output_type": "stream",
          "name": "stdout",
          "text": [
            "train loss: 0.92, train_accuracy: 77.5, precision: 0.0, recall: 0.0, f1: 0.0\n"
          ]
        },
        {
          "output_type": "stream",
          "name": "stderr",
          "text": [
            "/usr/local/lib/python3.10/dist-packages/sklearn/metrics/_classification.py:1471: UndefinedMetricWarning: Precision and F-score are ill-defined and being set to 0.0 in labels with no predicted samples. Use `zero_division` parameter to control this behavior.\n",
            "  _warn_prf(average, modifier, msg_start, len(result))\n"
          ]
        },
        {
          "output_type": "stream",
          "name": "stdout",
          "text": [
            "train loss: 0.88, train_accuracy: 77.5, precision: 0.0, recall: 0.0, f1: 0.0\n"
          ]
        },
        {
          "output_type": "stream",
          "name": "stderr",
          "text": [
            "/usr/local/lib/python3.10/dist-packages/sklearn/metrics/_classification.py:1471: UndefinedMetricWarning: Precision and F-score are ill-defined and being set to 0.0 in labels with no predicted samples. Use `zero_division` parameter to control this behavior.\n",
            "  _warn_prf(average, modifier, msg_start, len(result))\n"
          ]
        },
        {
          "output_type": "stream",
          "name": "stdout",
          "text": [
            "train loss: 0.83, train_accuracy: 77.5, precision: 0.0, recall: 0.0, f1: 0.0\n"
          ]
        },
        {
          "output_type": "stream",
          "name": "stderr",
          "text": [
            "/usr/local/lib/python3.10/dist-packages/sklearn/metrics/_classification.py:1471: UndefinedMetricWarning: Precision and F-score are ill-defined and being set to 0.0 in labels with no predicted samples. Use `zero_division` parameter to control this behavior.\n",
            "  _warn_prf(average, modifier, msg_start, len(result))\n"
          ]
        },
        {
          "output_type": "stream",
          "name": "stdout",
          "text": [
            "train loss: 0.78, train_accuracy: 77.5, precision: 0.0, recall: 0.0, f1: 0.0\n"
          ]
        },
        {
          "output_type": "stream",
          "name": "stderr",
          "text": [
            "/usr/local/lib/python3.10/dist-packages/sklearn/metrics/_classification.py:1471: UndefinedMetricWarning: Precision and F-score are ill-defined and being set to 0.0 in labels with no predicted samples. Use `zero_division` parameter to control this behavior.\n",
            "  _warn_prf(average, modifier, msg_start, len(result))\n"
          ]
        },
        {
          "output_type": "stream",
          "name": "stdout",
          "text": [
            "train loss: 0.74, train_accuracy: 77.5, precision: 0.0, recall: 0.0, f1: 0.0\n"
          ]
        },
        {
          "output_type": "stream",
          "name": "stderr",
          "text": [
            "/usr/local/lib/python3.10/dist-packages/sklearn/metrics/_classification.py:1471: UndefinedMetricWarning: Precision and F-score are ill-defined and being set to 0.0 in labels with no predicted samples. Use `zero_division` parameter to control this behavior.\n",
            "  _warn_prf(average, modifier, msg_start, len(result))\n"
          ]
        },
        {
          "output_type": "stream",
          "name": "stdout",
          "text": [
            "train loss: 0.71, train_accuracy: 77.5, precision: 0.0, recall: 0.0, f1: 0.0\n"
          ]
        },
        {
          "output_type": "stream",
          "name": "stderr",
          "text": [
            "/usr/local/lib/python3.10/dist-packages/sklearn/metrics/_classification.py:1471: UndefinedMetricWarning: Precision and F-score are ill-defined and being set to 0.0 in labels with no predicted samples. Use `zero_division` parameter to control this behavior.\n",
            "  _warn_prf(average, modifier, msg_start, len(result))\n"
          ]
        },
        {
          "output_type": "stream",
          "name": "stdout",
          "text": [
            "train loss: 0.69, train_accuracy: 77.5, precision: 0.0, recall: 0.0, f1: 0.0\n"
          ]
        },
        {
          "output_type": "stream",
          "name": "stderr",
          "text": [
            "/usr/local/lib/python3.10/dist-packages/sklearn/metrics/_classification.py:1471: UndefinedMetricWarning: Precision and F-score are ill-defined and being set to 0.0 in labels with no predicted samples. Use `zero_division` parameter to control this behavior.\n",
            "  _warn_prf(average, modifier, msg_start, len(result))\n",
            "/usr/local/lib/python3.10/dist-packages/sklearn/metrics/_classification.py:1471: UndefinedMetricWarning: Precision and F-score are ill-defined and being set to 0.0 in labels with no predicted samples. Use `zero_division` parameter to control this behavior.\n",
            "  _warn_prf(average, modifier, msg_start, len(result))\n"
          ]
        },
        {
          "output_type": "stream",
          "name": "stdout",
          "text": [
            "train loss: 0.67, train_accuracy: 77.5, precision: 0.0, recall: 0.0, f1: 0.0\n",
            "test loss: 0.67, test_accuracy: 77.5, precision: 0.0, recall: 0.0, f1: 0.0\n"
          ]
        },
        {
          "output_type": "stream",
          "name": "stderr",
          "text": [
            "/usr/local/lib/python3.10/dist-packages/sklearn/metrics/_classification.py:1471: UndefinedMetricWarning: Precision and F-score are ill-defined and being set to 0.0 in labels with no predicted samples. Use `zero_division` parameter to control this behavior.\n",
            "  _warn_prf(average, modifier, msg_start, len(result))\n"
          ]
        },
        {
          "output_type": "stream",
          "name": "stdout",
          "text": [
            "train loss: 0.66, train_accuracy: 77.5, precision: 0.0, recall: 0.0, f1: 0.0\n"
          ]
        },
        {
          "output_type": "stream",
          "name": "stderr",
          "text": [
            "/usr/local/lib/python3.10/dist-packages/sklearn/metrics/_classification.py:1471: UndefinedMetricWarning: Precision and F-score are ill-defined and being set to 0.0 in labels with no predicted samples. Use `zero_division` parameter to control this behavior.\n",
            "  _warn_prf(average, modifier, msg_start, len(result))\n"
          ]
        },
        {
          "output_type": "stream",
          "name": "stdout",
          "text": [
            "train loss: 0.64, train_accuracy: 77.5, precision: 0.0, recall: 0.0, f1: 0.0\n"
          ]
        },
        {
          "output_type": "stream",
          "name": "stderr",
          "text": [
            "/usr/local/lib/python3.10/dist-packages/sklearn/metrics/_classification.py:1471: UndefinedMetricWarning: Precision and F-score are ill-defined and being set to 0.0 in labels with no predicted samples. Use `zero_division` parameter to control this behavior.\n",
            "  _warn_prf(average, modifier, msg_start, len(result))\n"
          ]
        },
        {
          "output_type": "stream",
          "name": "stdout",
          "text": [
            "train loss: 0.63, train_accuracy: 77.5, precision: 0.0, recall: 0.0, f1: 0.0\n"
          ]
        },
        {
          "output_type": "stream",
          "name": "stderr",
          "text": [
            "/usr/local/lib/python3.10/dist-packages/sklearn/metrics/_classification.py:1471: UndefinedMetricWarning: Precision and F-score are ill-defined and being set to 0.0 in labels with no predicted samples. Use `zero_division` parameter to control this behavior.\n",
            "  _warn_prf(average, modifier, msg_start, len(result))\n"
          ]
        },
        {
          "output_type": "stream",
          "name": "stdout",
          "text": [
            "train loss: 0.62, train_accuracy: 77.5, precision: 0.94, recall: 0.00039, f1: 0.00078\n"
          ]
        },
        {
          "output_type": "stream",
          "name": "stderr",
          "text": [
            "/usr/local/lib/python3.10/dist-packages/sklearn/metrics/_classification.py:1471: UndefinedMetricWarning: Precision and F-score are ill-defined and being set to 0.0 in labels with no predicted samples. Use `zero_division` parameter to control this behavior.\n",
            "  _warn_prf(average, modifier, msg_start, len(result))\n"
          ]
        },
        {
          "output_type": "stream",
          "name": "stdout",
          "text": [
            "train loss: 0.6, train_accuracy: 77.5, precision: 0.93, recall: 0.0046, f1: 0.0091\n"
          ]
        },
        {
          "output_type": "stream",
          "name": "stderr",
          "text": [
            "/usr/local/lib/python3.10/dist-packages/sklearn/metrics/_classification.py:1471: UndefinedMetricWarning: Precision and F-score are ill-defined and being set to 0.0 in labels with no predicted samples. Use `zero_division` parameter to control this behavior.\n",
            "  _warn_prf(average, modifier, msg_start, len(result))\n"
          ]
        },
        {
          "output_type": "stream",
          "name": "stdout",
          "text": [
            "train loss: 0.59, train_accuracy: 77.8, precision: 0.94, recall: 0.024, f1: 0.046\n"
          ]
        },
        {
          "output_type": "stream",
          "name": "stderr",
          "text": [
            "/usr/local/lib/python3.10/dist-packages/sklearn/metrics/_classification.py:1471: UndefinedMetricWarning: Precision and F-score are ill-defined and being set to 0.0 in labels with no predicted samples. Use `zero_division` parameter to control this behavior.\n",
            "  _warn_prf(average, modifier, msg_start, len(result))\n"
          ]
        },
        {
          "output_type": "stream",
          "name": "stdout",
          "text": [
            "train loss: 0.57, train_accuracy: 78.5, precision: 0.91, recall: 0.072, f1: 0.13\n"
          ]
        },
        {
          "output_type": "stream",
          "name": "stderr",
          "text": [
            "/usr/local/lib/python3.10/dist-packages/sklearn/metrics/_classification.py:1471: UndefinedMetricWarning: Precision and F-score are ill-defined and being set to 0.0 in labels with no predicted samples. Use `zero_division` parameter to control this behavior.\n",
            "  _warn_prf(average, modifier, msg_start, len(result))\n"
          ]
        },
        {
          "output_type": "stream",
          "name": "stdout",
          "text": [
            "train loss: 0.56, train_accuracy: 79.6, precision: 0.89, recall: 0.16, f1: 0.27\n"
          ]
        },
        {
          "output_type": "stream",
          "name": "stderr",
          "text": [
            "/usr/local/lib/python3.10/dist-packages/sklearn/metrics/_classification.py:1471: UndefinedMetricWarning: Precision and F-score are ill-defined and being set to 0.0 in labels with no predicted samples. Use `zero_division` parameter to control this behavior.\n",
            "  _warn_prf(average, modifier, msg_start, len(result))\n"
          ]
        },
        {
          "output_type": "stream",
          "name": "stdout",
          "text": [
            "train loss: 0.54, train_accuracy: 81.0, precision: 0.85, recall: 0.26, f1: 0.4\n"
          ]
        },
        {
          "output_type": "stream",
          "name": "stderr",
          "text": [
            "/usr/local/lib/python3.10/dist-packages/sklearn/metrics/_classification.py:1471: UndefinedMetricWarning: Precision and F-score are ill-defined and being set to 0.0 in labels with no predicted samples. Use `zero_division` parameter to control this behavior.\n",
            "  _warn_prf(average, modifier, msg_start, len(result))\n"
          ]
        },
        {
          "output_type": "stream",
          "name": "stdout",
          "text": [
            "train loss: 0.53, train_accuracy: 82.2, precision: 0.81, recall: 0.36, f1: 0.5\n"
          ]
        },
        {
          "output_type": "stream",
          "name": "stderr",
          "text": [
            "/usr/local/lib/python3.10/dist-packages/sklearn/metrics/_classification.py:1471: UndefinedMetricWarning: Precision and F-score are ill-defined and being set to 0.0 in labels with no predicted samples. Use `zero_division` parameter to control this behavior.\n",
            "  _warn_prf(average, modifier, msg_start, len(result))\n"
          ]
        },
        {
          "output_type": "stream",
          "name": "stdout",
          "text": [
            "test loss: 0.53, test_accuracy: 83.0, precision: 0.76, recall: 0.45, f1: 0.56\n"
          ]
        },
        {
          "output_type": "stream",
          "name": "stderr",
          "text": [
            "/usr/local/lib/python3.10/dist-packages/sklearn/metrics/_classification.py:1471: UndefinedMetricWarning: Precision and F-score are ill-defined and being set to 0.0 in labels with no predicted samples. Use `zero_division` parameter to control this behavior.\n",
            "  _warn_prf(average, modifier, msg_start, len(result))\n"
          ]
        },
        {
          "output_type": "stream",
          "name": "stdout",
          "text": [
            "train loss: 0.53, train_accuracy: 83.0, precision: 0.76, recall: 0.45, f1: 0.57\n"
          ]
        },
        {
          "output_type": "stream",
          "name": "stderr",
          "text": [
            "/usr/local/lib/python3.10/dist-packages/sklearn/metrics/_classification.py:1471: UndefinedMetricWarning: Precision and F-score are ill-defined and being set to 0.0 in labels with no predicted samples. Use `zero_division` parameter to control this behavior.\n",
            "  _warn_prf(average, modifier, msg_start, len(result))\n"
          ]
        },
        {
          "output_type": "stream",
          "name": "stdout",
          "text": [
            "train loss: 0.52, train_accuracy: 83.5, precision: 0.73, recall: 0.51, f1: 0.6\n"
          ]
        },
        {
          "output_type": "stream",
          "name": "stderr",
          "text": [
            "/usr/local/lib/python3.10/dist-packages/sklearn/metrics/_classification.py:1471: UndefinedMetricWarning: Precision and F-score are ill-defined and being set to 0.0 in labels with no predicted samples. Use `zero_division` parameter to control this behavior.\n",
            "  _warn_prf(average, modifier, msg_start, len(result))\n"
          ]
        },
        {
          "output_type": "stream",
          "name": "stdout",
          "text": [
            "train loss: 0.51, train_accuracy: 83.7, precision: 0.71, recall: 0.55, f1: 0.62\n"
          ]
        },
        {
          "output_type": "stream",
          "name": "stderr",
          "text": [
            "/usr/local/lib/python3.10/dist-packages/sklearn/metrics/_classification.py:1471: UndefinedMetricWarning: Precision and F-score are ill-defined and being set to 0.0 in labels with no predicted samples. Use `zero_division` parameter to control this behavior.\n",
            "  _warn_prf(average, modifier, msg_start, len(result))\n"
          ]
        },
        {
          "output_type": "stream",
          "name": "stdout",
          "text": [
            "train loss: 0.49, train_accuracy: 83.8, precision: 0.71, recall: 0.56, f1: 0.62\n"
          ]
        },
        {
          "output_type": "stream",
          "name": "stderr",
          "text": [
            "/usr/local/lib/python3.10/dist-packages/sklearn/metrics/_classification.py:1471: UndefinedMetricWarning: Precision and F-score are ill-defined and being set to 0.0 in labels with no predicted samples. Use `zero_division` parameter to control this behavior.\n",
            "  _warn_prf(average, modifier, msg_start, len(result))\n"
          ]
        },
        {
          "output_type": "stream",
          "name": "stdout",
          "text": [
            "train loss: 0.48, train_accuracy: 83.8, precision: 0.71, recall: 0.56, f1: 0.63\n"
          ]
        },
        {
          "output_type": "stream",
          "name": "stderr",
          "text": [
            "/usr/local/lib/python3.10/dist-packages/sklearn/metrics/_classification.py:1471: UndefinedMetricWarning: Precision and F-score are ill-defined and being set to 0.0 in labels with no predicted samples. Use `zero_division` parameter to control this behavior.\n",
            "  _warn_prf(average, modifier, msg_start, len(result))\n"
          ]
        },
        {
          "output_type": "stream",
          "name": "stdout",
          "text": [
            "train loss: 0.47, train_accuracy: 83.9, precision: 0.72, recall: 0.55, f1: 0.63\n"
          ]
        },
        {
          "output_type": "stream",
          "name": "stderr",
          "text": [
            "/usr/local/lib/python3.10/dist-packages/sklearn/metrics/_classification.py:1471: UndefinedMetricWarning: Precision and F-score are ill-defined and being set to 0.0 in labels with no predicted samples. Use `zero_division` parameter to control this behavior.\n",
            "  _warn_prf(average, modifier, msg_start, len(result))\n"
          ]
        },
        {
          "output_type": "stream",
          "name": "stdout",
          "text": [
            "train loss: 0.46, train_accuracy: 83.9, precision: 0.73, recall: 0.55, f1: 0.62\n"
          ]
        },
        {
          "output_type": "stream",
          "name": "stderr",
          "text": [
            "/usr/local/lib/python3.10/dist-packages/sklearn/metrics/_classification.py:1471: UndefinedMetricWarning: Precision and F-score are ill-defined and being set to 0.0 in labels with no predicted samples. Use `zero_division` parameter to control this behavior.\n",
            "  _warn_prf(average, modifier, msg_start, len(result))\n"
          ]
        },
        {
          "output_type": "stream",
          "name": "stdout",
          "text": [
            "train loss: 0.46, train_accuracy: 83.9, precision: 0.73, recall: 0.54, f1: 0.62\n"
          ]
        },
        {
          "output_type": "stream",
          "name": "stderr",
          "text": [
            "/usr/local/lib/python3.10/dist-packages/sklearn/metrics/_classification.py:1471: UndefinedMetricWarning: Precision and F-score are ill-defined and being set to 0.0 in labels with no predicted samples. Use `zero_division` parameter to control this behavior.\n",
            "  _warn_prf(average, modifier, msg_start, len(result))\n"
          ]
        },
        {
          "output_type": "stream",
          "name": "stdout",
          "text": [
            "train loss: 0.45, train_accuracy: 84.0, precision: 0.73, recall: 0.54, f1: 0.62\n"
          ]
        },
        {
          "output_type": "stream",
          "name": "stderr",
          "text": [
            "/usr/local/lib/python3.10/dist-packages/sklearn/metrics/_classification.py:1471: UndefinedMetricWarning: Precision and F-score are ill-defined and being set to 0.0 in labels with no predicted samples. Use `zero_division` parameter to control this behavior.\n",
            "  _warn_prf(average, modifier, msg_start, len(result))\n"
          ]
        },
        {
          "output_type": "stream",
          "name": "stdout",
          "text": [
            "train loss: 0.45, train_accuracy: 84.0, precision: 0.73, recall: 0.55, f1: 0.63\n"
          ]
        },
        {
          "output_type": "stream",
          "name": "stderr",
          "text": [
            "/usr/local/lib/python3.10/dist-packages/sklearn/metrics/_classification.py:1471: UndefinedMetricWarning: Precision and F-score are ill-defined and being set to 0.0 in labels with no predicted samples. Use `zero_division` parameter to control this behavior.\n",
            "  _warn_prf(average, modifier, msg_start, len(result))\n"
          ]
        },
        {
          "output_type": "stream",
          "name": "stdout",
          "text": [
            "test loss: 0.45, test_accuracy: 84.1, precision: 0.73, recall: 0.56, f1: 0.63\n"
          ]
        },
        {
          "output_type": "stream",
          "name": "stderr",
          "text": [
            "/usr/local/lib/python3.10/dist-packages/sklearn/metrics/_classification.py:1471: UndefinedMetricWarning: Precision and F-score are ill-defined and being set to 0.0 in labels with no predicted samples. Use `zero_division` parameter to control this behavior.\n",
            "  _warn_prf(average, modifier, msg_start, len(result))\n"
          ]
        },
        {
          "output_type": "stream",
          "name": "stdout",
          "text": [
            "train loss: 0.44, train_accuracy: 84.1, precision: 0.73, recall: 0.56, f1: 0.63\n"
          ]
        },
        {
          "output_type": "stream",
          "name": "stderr",
          "text": [
            "/usr/local/lib/python3.10/dist-packages/sklearn/metrics/_classification.py:1471: UndefinedMetricWarning: Precision and F-score are ill-defined and being set to 0.0 in labels with no predicted samples. Use `zero_division` parameter to control this behavior.\n",
            "  _warn_prf(average, modifier, msg_start, len(result))\n"
          ]
        },
        {
          "output_type": "stream",
          "name": "stdout",
          "text": [
            "train loss: 0.44, train_accuracy: 84.3, precision: 0.72, recall: 0.58, f1: 0.64\n"
          ]
        },
        {
          "output_type": "stream",
          "name": "stderr",
          "text": [
            "/usr/local/lib/python3.10/dist-packages/sklearn/metrics/_classification.py:1471: UndefinedMetricWarning: Precision and F-score are ill-defined and being set to 0.0 in labels with no predicted samples. Use `zero_division` parameter to control this behavior.\n",
            "  _warn_prf(average, modifier, msg_start, len(result))\n"
          ]
        },
        {
          "output_type": "stream",
          "name": "stdout",
          "text": [
            "train loss: 0.43, train_accuracy: 84.4, precision: 0.71, recall: 0.6, f1: 0.65\n"
          ]
        },
        {
          "output_type": "stream",
          "name": "stderr",
          "text": [
            "/usr/local/lib/python3.10/dist-packages/sklearn/metrics/_classification.py:1471: UndefinedMetricWarning: Precision and F-score are ill-defined and being set to 0.0 in labels with no predicted samples. Use `zero_division` parameter to control this behavior.\n",
            "  _warn_prf(average, modifier, msg_start, len(result))\n"
          ]
        },
        {
          "output_type": "stream",
          "name": "stdout",
          "text": [
            "train loss: 0.43, train_accuracy: 84.5, precision: 0.7, recall: 0.62, f1: 0.66\n"
          ]
        },
        {
          "output_type": "stream",
          "name": "stderr",
          "text": [
            "/usr/local/lib/python3.10/dist-packages/sklearn/metrics/_classification.py:1471: UndefinedMetricWarning: Precision and F-score are ill-defined and being set to 0.0 in labels with no predicted samples. Use `zero_division` parameter to control this behavior.\n",
            "  _warn_prf(average, modifier, msg_start, len(result))\n"
          ]
        },
        {
          "output_type": "stream",
          "name": "stdout",
          "text": [
            "train loss: 0.42, train_accuracy: 84.7, precision: 0.68, recall: 0.65, f1: 0.66\n",
            "train loss: 0.42, train_accuracy: 84.7, precision: 0.67, recall: 0.66, f1: 0.67\n",
            "train loss: 0.42, train_accuracy: 84.8, precision: 0.67, recall: 0.68, f1: 0.67\n",
            "train loss: 0.42, train_accuracy: 84.9, precision: 0.66, recall: 0.68, f1: 0.67\n",
            "train loss: 0.41, train_accuracy: 84.9, precision: 0.67, recall: 0.69, f1: 0.68\n",
            "train loss: 0.41, train_accuracy: 85.0, precision: 0.67, recall: 0.69, f1: 0.68\n",
            "test loss: 0.41, test_accuracy: 85.0, precision: 0.68, recall: 0.68, f1: 0.68\n",
            "train loss: 0.41, train_accuracy: 85.0, precision: 0.68, recall: 0.68, f1: 0.68\n",
            "train loss: 0.41, train_accuracy: 85.1, precision: 0.68, recall: 0.68, f1: 0.68\n",
            "train loss: 0.41, train_accuracy: 85.1, precision: 0.68, recall: 0.68, f1: 0.68\n",
            "train loss: 0.4, train_accuracy: 85.1, precision: 0.69, recall: 0.68, f1: 0.68\n",
            "train loss: 0.4, train_accuracy: 85.2, precision: 0.69, recall: 0.68, f1: 0.68\n",
            "train loss: 0.4, train_accuracy: 85.2, precision: 0.68, recall: 0.69, f1: 0.68\n",
            "train loss: 0.4, train_accuracy: 85.3, precision: 0.68, recall: 0.69, f1: 0.69\n",
            "train loss: 0.4, train_accuracy: 85.3, precision: 0.68, recall: 0.7, f1: 0.69\n",
            "train loss: 0.4, train_accuracy: 85.3, precision: 0.68, recall: 0.71, f1: 0.69\n",
            "train loss: 0.4, train_accuracy: 85.4, precision: 0.68, recall: 0.71, f1: 0.69\n",
            "test loss: 0.4, test_accuracy: 85.3, precision: 0.68, recall: 0.7, f1: 0.69\n",
            "train loss: 0.4, train_accuracy: 85.4, precision: 0.68, recall: 0.71, f1: 0.69\n",
            "train loss: 0.4, train_accuracy: 85.5, precision: 0.68, recall: 0.71, f1: 0.69\n",
            "train loss: 0.39, train_accuracy: 85.5, precision: 0.69, recall: 0.7, f1: 0.69\n",
            "train loss: 0.39, train_accuracy: 85.5, precision: 0.69, recall: 0.7, f1: 0.7\n",
            "train loss: 0.39, train_accuracy: 85.5, precision: 0.7, recall: 0.7, f1: 0.7\n",
            "train loss: 0.39, train_accuracy: 85.5, precision: 0.7, recall: 0.7, f1: 0.7\n",
            "train loss: 0.39, train_accuracy: 85.6, precision: 0.7, recall: 0.7, f1: 0.7\n",
            "train loss: 0.39, train_accuracy: 85.6, precision: 0.7, recall: 0.7, f1: 0.7\n",
            "train loss: 0.39, train_accuracy: 85.6, precision: 0.7, recall: 0.7, f1: 0.7\n",
            "train loss: 0.39, train_accuracy: 85.6, precision: 0.7, recall: 0.7, f1: 0.7\n",
            "test loss: 0.39, test_accuracy: 85.5, precision: 0.7, recall: 0.69, f1: 0.7\n",
            "train loss: 0.39, train_accuracy: 85.6, precision: 0.7, recall: 0.7, f1: 0.7\n",
            "train loss: 0.39, train_accuracy: 85.7, precision: 0.7, recall: 0.7, f1: 0.7\n",
            "train loss: 0.39, train_accuracy: 85.7, precision: 0.71, recall: 0.7, f1: 0.7\n",
            "train loss: 0.39, train_accuracy: 85.7, precision: 0.71, recall: 0.69, f1: 0.7\n",
            "train loss: 0.39, train_accuracy: 85.7, precision: 0.71, recall: 0.69, f1: 0.7\n",
            "train loss: 0.39, train_accuracy: 85.7, precision: 0.71, recall: 0.69, f1: 0.7\n",
            "train loss: 0.38, train_accuracy: 85.7, precision: 0.71, recall: 0.69, f1: 0.7\n",
            "train loss: 0.38, train_accuracy: 85.8, precision: 0.71, recall: 0.7, f1: 0.7\n",
            "train loss: 0.38, train_accuracy: 85.8, precision: 0.71, recall: 0.7, f1: 0.7\n",
            "train loss: 0.38, train_accuracy: 85.8, precision: 0.71, recall: 0.7, f1: 0.71\n",
            "test loss: 0.38, test_accuracy: 85.6, precision: 0.71, recall: 0.69, f1: 0.7\n",
            "train loss: 0.38, train_accuracy: 85.8, precision: 0.71, recall: 0.7, f1: 0.71\n",
            "train loss: 0.38, train_accuracy: 85.8, precision: 0.72, recall: 0.69, f1: 0.7\n",
            "train loss: 0.38, train_accuracy: 85.8, precision: 0.72, recall: 0.69, f1: 0.7\n",
            "train loss: 0.38, train_accuracy: 85.8, precision: 0.72, recall: 0.69, f1: 0.71\n",
            "train loss: 0.38, train_accuracy: 85.8, precision: 0.72, recall: 0.69, f1: 0.71\n",
            "train loss: 0.38, train_accuracy: 85.8, precision: 0.72, recall: 0.7, f1: 0.71\n",
            "train loss: 0.38, train_accuracy: 85.8, precision: 0.71, recall: 0.7, f1: 0.71\n",
            "train loss: 0.38, train_accuracy: 85.8, precision: 0.71, recall: 0.7, f1: 0.71\n",
            "train loss: 0.38, train_accuracy: 85.8, precision: 0.71, recall: 0.7, f1: 0.71\n",
            "train loss: 0.38, train_accuracy: 85.9, precision: 0.72, recall: 0.7, f1: 0.71\n",
            "test loss: 0.38, test_accuracy: 85.7, precision: 0.72, recall: 0.69, f1: 0.7\n",
            "train loss: 0.38, train_accuracy: 85.9, precision: 0.72, recall: 0.7, f1: 0.71\n",
            "train loss: 0.38, train_accuracy: 85.9, precision: 0.72, recall: 0.7, f1: 0.71\n",
            "train loss: 0.38, train_accuracy: 85.9, precision: 0.72, recall: 0.7, f1: 0.71\n",
            "train loss: 0.38, train_accuracy: 85.9, precision: 0.72, recall: 0.7, f1: 0.71\n",
            "train loss: 0.38, train_accuracy: 85.9, precision: 0.72, recall: 0.7, f1: 0.71\n",
            "train loss: 0.38, train_accuracy: 85.9, precision: 0.72, recall: 0.7, f1: 0.71\n",
            "train loss: 0.38, train_accuracy: 85.9, precision: 0.72, recall: 0.7, f1: 0.71\n",
            "train loss: 0.38, train_accuracy: 85.9, precision: 0.72, recall: 0.7, f1: 0.71\n",
            "train loss: 0.38, train_accuracy: 85.9, precision: 0.72, recall: 0.7, f1: 0.71\n",
            "train loss: 0.38, train_accuracy: 85.9, precision: 0.72, recall: 0.7, f1: 0.71\n",
            "test loss: 0.38, test_accuracy: 85.8, precision: 0.72, recall: 0.69, f1: 0.7\n",
            "train loss: 0.38, train_accuracy: 85.9, precision: 0.72, recall: 0.7, f1: 0.71\n",
            "train loss: 0.38, train_accuracy: 85.9, precision: 0.72, recall: 0.7, f1: 0.71\n",
            "train loss: 0.38, train_accuracy: 86.0, precision: 0.72, recall: 0.71, f1: 0.71\n",
            "train loss: 0.38, train_accuracy: 86.0, precision: 0.72, recall: 0.71, f1: 0.71\n",
            "train loss: 0.38, train_accuracy: 86.0, precision: 0.72, recall: 0.71, f1: 0.71\n",
            "train loss: 0.38, train_accuracy: 86.0, precision: 0.72, recall: 0.7, f1: 0.71\n",
            "train loss: 0.38, train_accuracy: 86.0, precision: 0.72, recall: 0.7, f1: 0.71\n",
            "train loss: 0.38, train_accuracy: 86.0, precision: 0.72, recall: 0.7, f1: 0.71\n",
            "train loss: 0.38, train_accuracy: 86.0, precision: 0.72, recall: 0.71, f1: 0.71\n",
            "train loss: 0.38, train_accuracy: 86.0, precision: 0.72, recall: 0.71, f1: 0.71\n",
            "test loss: 0.38, test_accuracy: 85.8, precision: 0.72, recall: 0.7, f1: 0.71\n",
            "train loss: 0.38, train_accuracy: 86.0, precision: 0.72, recall: 0.71, f1: 0.71\n",
            "train loss: 0.38, train_accuracy: 86.0, precision: 0.72, recall: 0.71, f1: 0.71\n",
            "train loss: 0.38, train_accuracy: 86.0, precision: 0.72, recall: 0.71, f1: 0.71\n",
            "train loss: 0.37, train_accuracy: 86.0, precision: 0.72, recall: 0.71, f1: 0.71\n",
            "train loss: 0.37, train_accuracy: 86.0, precision: 0.72, recall: 0.71, f1: 0.71\n",
            "train loss: 0.37, train_accuracy: 86.0, precision: 0.72, recall: 0.71, f1: 0.71\n",
            "train loss: 0.37, train_accuracy: 86.0, precision: 0.72, recall: 0.71, f1: 0.71\n",
            "train loss: 0.37, train_accuracy: 86.0, precision: 0.72, recall: 0.71, f1: 0.71\n",
            "train loss: 0.37, train_accuracy: 86.0, precision: 0.72, recall: 0.71, f1: 0.71\n",
            "train loss: 0.37, train_accuracy: 86.0, precision: 0.72, recall: 0.71, f1: 0.71\n",
            "test loss: 0.37, test_accuracy: 85.8, precision: 0.72, recall: 0.7, f1: 0.71\n",
            "train loss: 0.37, train_accuracy: 86.0, precision: 0.72, recall: 0.71, f1: 0.71\n",
            "train loss: 0.37, train_accuracy: 86.1, precision: 0.72, recall: 0.71, f1: 0.71\n",
            "train loss: 0.37, train_accuracy: 86.1, precision: 0.72, recall: 0.71, f1: 0.71\n",
            "train loss: 0.37, train_accuracy: 86.1, precision: 0.72, recall: 0.71, f1: 0.71\n",
            "train loss: 0.37, train_accuracy: 86.1, precision: 0.72, recall: 0.71, f1: 0.71\n",
            "train loss: 0.37, train_accuracy: 86.1, precision: 0.72, recall: 0.71, f1: 0.71\n",
            "train loss: 0.37, train_accuracy: 86.1, precision: 0.72, recall: 0.71, f1: 0.71\n",
            "train loss: 0.37, train_accuracy: 86.1, precision: 0.72, recall: 0.71, f1: 0.72\n",
            "train loss: 0.37, train_accuracy: 86.1, precision: 0.72, recall: 0.71, f1: 0.72\n",
            "train loss: 0.37, train_accuracy: 86.1, precision: 0.72, recall: 0.71, f1: 0.72\n",
            "test loss: 0.37, test_accuracy: 85.9, precision: 0.72, recall: 0.7, f1: 0.71\n",
            "train loss: 0.37, train_accuracy: 86.1, precision: 0.72, recall: 0.71, f1: 0.72\n",
            "train loss: 0.37, train_accuracy: 86.1, precision: 0.72, recall: 0.71, f1: 0.72\n",
            "train loss: 0.37, train_accuracy: 86.1, precision: 0.72, recall: 0.71, f1: 0.72\n",
            "train loss: 0.37, train_accuracy: 86.1, precision: 0.72, recall: 0.71, f1: 0.72\n",
            "train loss: 0.37, train_accuracy: 86.1, precision: 0.72, recall: 0.71, f1: 0.72\n",
            "train loss: 0.37, train_accuracy: 86.1, precision: 0.72, recall: 0.71, f1: 0.72\n",
            "train loss: 0.37, train_accuracy: 86.1, precision: 0.72, recall: 0.71, f1: 0.72\n",
            "train loss: 0.37, train_accuracy: 86.1, precision: 0.72, recall: 0.71, f1: 0.72\n",
            "train loss: 0.37, train_accuracy: 86.2, precision: 0.72, recall: 0.71, f1: 0.72\n",
            "train loss: 0.37, train_accuracy: 86.2, precision: 0.72, recall: 0.71, f1: 0.72\n",
            "test loss: 0.37, test_accuracy: 86.0, precision: 0.72, recall: 0.7, f1: 0.71\n",
            "train loss: 0.37, train_accuracy: 86.2, precision: 0.72, recall: 0.71, f1: 0.72\n",
            "train loss: 0.37, train_accuracy: 86.2, precision: 0.72, recall: 0.71, f1: 0.72\n",
            "train loss: 0.37, train_accuracy: 86.2, precision: 0.72, recall: 0.71, f1: 0.72\n",
            "train loss: 0.37, train_accuracy: 86.2, precision: 0.72, recall: 0.71, f1: 0.72\n",
            "train loss: 0.37, train_accuracy: 86.2, precision: 0.72, recall: 0.72, f1: 0.72\n",
            "train loss: 0.37, train_accuracy: 86.2, precision: 0.72, recall: 0.72, f1: 0.72\n",
            "train loss: 0.37, train_accuracy: 86.2, precision: 0.72, recall: 0.72, f1: 0.72\n",
            "train loss: 0.37, train_accuracy: 86.2, precision: 0.72, recall: 0.72, f1: 0.72\n",
            "train loss: 0.37, train_accuracy: 86.2, precision: 0.72, recall: 0.72, f1: 0.72\n",
            "train loss: 0.37, train_accuracy: 86.2, precision: 0.72, recall: 0.72, f1: 0.72\n",
            "test loss: 0.37, test_accuracy: 86.0, precision: 0.72, recall: 0.71, f1: 0.71\n",
            "train loss: 0.37, train_accuracy: 86.2, precision: 0.72, recall: 0.72, f1: 0.72\n",
            "train loss: 0.37, train_accuracy: 86.2, precision: 0.72, recall: 0.72, f1: 0.72\n",
            "train loss: 0.37, train_accuracy: 86.2, precision: 0.72, recall: 0.72, f1: 0.72\n",
            "train loss: 0.37, train_accuracy: 86.2, precision: 0.72, recall: 0.72, f1: 0.72\n",
            "train loss: 0.37, train_accuracy: 86.2, precision: 0.72, recall: 0.72, f1: 0.72\n",
            "train loss: 0.37, train_accuracy: 86.3, precision: 0.72, recall: 0.72, f1: 0.72\n",
            "train loss: 0.37, train_accuracy: 86.3, precision: 0.72, recall: 0.72, f1: 0.72\n",
            "train loss: 0.37, train_accuracy: 86.3, precision: 0.72, recall: 0.72, f1: 0.72\n",
            "train loss: 0.37, train_accuracy: 86.3, precision: 0.72, recall: 0.72, f1: 0.72\n",
            "train loss: 0.37, train_accuracy: 86.3, precision: 0.72, recall: 0.72, f1: 0.72\n",
            "test loss: 0.37, test_accuracy: 86.0, precision: 0.72, recall: 0.71, f1: 0.71\n",
            "train loss: 0.37, train_accuracy: 86.3, precision: 0.72, recall: 0.72, f1: 0.72\n",
            "train loss: 0.37, train_accuracy: 86.3, precision: 0.72, recall: 0.72, f1: 0.72\n",
            "train loss: 0.37, train_accuracy: 86.3, precision: 0.72, recall: 0.72, f1: 0.72\n",
            "train loss: 0.37, train_accuracy: 86.3, precision: 0.72, recall: 0.72, f1: 0.72\n",
            "train loss: 0.37, train_accuracy: 86.3, precision: 0.72, recall: 0.72, f1: 0.72\n",
            "train loss: 0.37, train_accuracy: 86.3, precision: 0.72, recall: 0.72, f1: 0.72\n",
            "train loss: 0.37, train_accuracy: 86.3, precision: 0.72, recall: 0.72, f1: 0.72\n",
            "train loss: 0.37, train_accuracy: 86.3, precision: 0.72, recall: 0.72, f1: 0.72\n",
            "train loss: 0.37, train_accuracy: 86.3, precision: 0.72, recall: 0.72, f1: 0.72\n",
            "train loss: 0.36, train_accuracy: 86.3, precision: 0.72, recall: 0.72, f1: 0.72\n",
            "test loss: 0.36, test_accuracy: 86.1, precision: 0.72, recall: 0.71, f1: 0.71\n",
            "train loss: 0.36, train_accuracy: 86.4, precision: 0.72, recall: 0.72, f1: 0.72\n",
            "train loss: 0.36, train_accuracy: 86.4, precision: 0.72, recall: 0.72, f1: 0.72\n",
            "train loss: 0.36, train_accuracy: 86.4, precision: 0.72, recall: 0.72, f1: 0.72\n",
            "train loss: 0.36, train_accuracy: 86.4, precision: 0.72, recall: 0.72, f1: 0.72\n",
            "train loss: 0.36, train_accuracy: 86.4, precision: 0.72, recall: 0.72, f1: 0.72\n",
            "train loss: 0.36, train_accuracy: 86.4, precision: 0.72, recall: 0.72, f1: 0.72\n",
            "train loss: 0.36, train_accuracy: 86.4, precision: 0.72, recall: 0.72, f1: 0.72\n",
            "train loss: 0.36, train_accuracy: 86.4, precision: 0.72, recall: 0.72, f1: 0.72\n",
            "train loss: 0.36, train_accuracy: 86.4, precision: 0.72, recall: 0.72, f1: 0.72\n",
            "train loss: 0.36, train_accuracy: 86.4, precision: 0.72, recall: 0.72, f1: 0.72\n",
            "test loss: 0.36, test_accuracy: 86.1, precision: 0.72, recall: 0.71, f1: 0.71\n",
            "train loss: 0.36, train_accuracy: 86.4, precision: 0.72, recall: 0.72, f1: 0.72\n",
            "train loss: 0.36, train_accuracy: 86.4, precision: 0.72, recall: 0.72, f1: 0.72\n",
            "train loss: 0.36, train_accuracy: 86.4, precision: 0.72, recall: 0.72, f1: 0.72\n",
            "train loss: 0.36, train_accuracy: 86.4, precision: 0.72, recall: 0.73, f1: 0.72\n",
            "train loss: 0.36, train_accuracy: 86.4, precision: 0.72, recall: 0.73, f1: 0.72\n",
            "train loss: 0.36, train_accuracy: 86.4, precision: 0.72, recall: 0.73, f1: 0.73\n",
            "train loss: 0.36, train_accuracy: 86.4, precision: 0.72, recall: 0.73, f1: 0.73\n",
            "train loss: 0.36, train_accuracy: 86.4, precision: 0.73, recall: 0.73, f1: 0.73\n",
            "train loss: 0.36, train_accuracy: 86.4, precision: 0.73, recall: 0.73, f1: 0.73\n",
            "train loss: 0.36, train_accuracy: 86.4, precision: 0.73, recall: 0.73, f1: 0.73\n",
            "test loss: 0.36, test_accuracy: 86.1, precision: 0.72, recall: 0.71, f1: 0.71\n",
            "train loss: 0.36, train_accuracy: 86.5, precision: 0.73, recall: 0.73, f1: 0.73\n",
            "train loss: 0.36, train_accuracy: 86.5, precision: 0.73, recall: 0.73, f1: 0.73\n",
            "train loss: 0.36, train_accuracy: 86.5, precision: 0.73, recall: 0.73, f1: 0.73\n",
            "train loss: 0.36, train_accuracy: 86.5, precision: 0.73, recall: 0.73, f1: 0.73\n",
            "train loss: 0.36, train_accuracy: 86.5, precision: 0.73, recall: 0.73, f1: 0.73\n",
            "train loss: 0.36, train_accuracy: 86.5, precision: 0.73, recall: 0.73, f1: 0.73\n",
            "train loss: 0.36, train_accuracy: 86.5, precision: 0.73, recall: 0.73, f1: 0.73\n",
            "train loss: 0.36, train_accuracy: 86.5, precision: 0.73, recall: 0.73, f1: 0.73\n",
            "train loss: 0.36, train_accuracy: 86.5, precision: 0.73, recall: 0.73, f1: 0.73\n",
            "train loss: 0.36, train_accuracy: 86.5, precision: 0.73, recall: 0.73, f1: 0.73\n",
            "test loss: 0.36, test_accuracy: 86.1, precision: 0.72, recall: 0.71, f1: 0.71\n",
            "train loss: 0.36, train_accuracy: 86.5, precision: 0.73, recall: 0.73, f1: 0.73\n",
            "train loss: 0.36, train_accuracy: 86.5, precision: 0.73, recall: 0.73, f1: 0.73\n",
            "train loss: 0.36, train_accuracy: 86.5, precision: 0.73, recall: 0.73, f1: 0.73\n",
            "train loss: 0.36, train_accuracy: 86.5, precision: 0.73, recall: 0.73, f1: 0.73\n",
            "train loss: 0.36, train_accuracy: 86.6, precision: 0.73, recall: 0.73, f1: 0.73\n",
            "train loss: 0.36, train_accuracy: 86.6, precision: 0.73, recall: 0.73, f1: 0.73\n",
            "train loss: 0.36, train_accuracy: 86.6, precision: 0.73, recall: 0.73, f1: 0.73\n",
            "train loss: 0.36, train_accuracy: 86.6, precision: 0.73, recall: 0.73, f1: 0.73\n",
            "train loss: 0.36, train_accuracy: 86.6, precision: 0.73, recall: 0.73, f1: 0.73\n",
            "train loss: 0.36, train_accuracy: 86.6, precision: 0.73, recall: 0.73, f1: 0.73\n",
            "test loss: 0.36, test_accuracy: 86.2, precision: 0.72, recall: 0.71, f1: 0.72\n",
            "train loss: 0.36, train_accuracy: 86.6, precision: 0.73, recall: 0.73, f1: 0.73\n",
            "train loss: 0.36, train_accuracy: 86.6, precision: 0.73, recall: 0.73, f1: 0.73\n",
            "train loss: 0.36, train_accuracy: 86.6, precision: 0.73, recall: 0.73, f1: 0.73\n",
            "train loss: 0.36, train_accuracy: 86.6, precision: 0.73, recall: 0.73, f1: 0.73\n",
            "train loss: 0.36, train_accuracy: 86.6, precision: 0.73, recall: 0.73, f1: 0.73\n",
            "train loss: 0.36, train_accuracy: 86.6, precision: 0.73, recall: 0.73, f1: 0.73\n",
            "train loss: 0.36, train_accuracy: 86.6, precision: 0.73, recall: 0.73, f1: 0.73\n",
            "train loss: 0.36, train_accuracy: 86.6, precision: 0.73, recall: 0.73, f1: 0.73\n",
            "train loss: 0.36, train_accuracy: 86.6, precision: 0.73, recall: 0.73, f1: 0.73\n",
            "train loss: 0.36, train_accuracy: 86.6, precision: 0.73, recall: 0.73, f1: 0.73\n",
            "test loss: 0.36, test_accuracy: 86.2, precision: 0.72, recall: 0.71, f1: 0.72\n",
            "train loss: 0.36, train_accuracy: 86.7, precision: 0.73, recall: 0.73, f1: 0.73\n",
            "train loss: 0.36, train_accuracy: 86.7, precision: 0.73, recall: 0.73, f1: 0.73\n",
            "train loss: 0.36, train_accuracy: 86.7, precision: 0.73, recall: 0.73, f1: 0.73\n",
            "train loss: 0.36, train_accuracy: 86.7, precision: 0.73, recall: 0.73, f1: 0.73\n",
            "train loss: 0.36, train_accuracy: 86.7, precision: 0.73, recall: 0.73, f1: 0.73\n",
            "train loss: 0.36, train_accuracy: 86.7, precision: 0.73, recall: 0.73, f1: 0.73\n",
            "train loss: 0.36, train_accuracy: 86.7, precision: 0.73, recall: 0.73, f1: 0.73\n",
            "train loss: 0.36, train_accuracy: 86.7, precision: 0.73, recall: 0.73, f1: 0.73\n",
            "train loss: 0.36, train_accuracy: 86.7, precision: 0.73, recall: 0.73, f1: 0.73\n",
            "train loss: 0.36, train_accuracy: 86.7, precision: 0.73, recall: 0.73, f1: 0.73\n",
            "test loss: 0.36, test_accuracy: 86.2, precision: 0.72, recall: 0.71, f1: 0.72\n",
            "train loss: 0.36, train_accuracy: 86.7, precision: 0.73, recall: 0.73, f1: 0.73\n",
            "train loss: 0.36, train_accuracy: 86.7, precision: 0.73, recall: 0.73, f1: 0.73\n",
            "train loss: 0.36, train_accuracy: 86.7, precision: 0.73, recall: 0.73, f1: 0.73\n",
            "train loss: 0.36, train_accuracy: 86.7, precision: 0.73, recall: 0.73, f1: 0.73\n",
            "train loss: 0.36, train_accuracy: 86.7, precision: 0.73, recall: 0.73, f1: 0.73\n",
            "train loss: 0.36, train_accuracy: 86.7, precision: 0.73, recall: 0.73, f1: 0.73\n",
            "train loss: 0.36, train_accuracy: 86.7, precision: 0.73, recall: 0.73, f1: 0.73\n",
            "train loss: 0.35, train_accuracy: 86.7, precision: 0.73, recall: 0.73, f1: 0.73\n",
            "train loss: 0.35, train_accuracy: 86.7, precision: 0.73, recall: 0.74, f1: 0.73\n",
            "train loss: 0.35, train_accuracy: 86.7, precision: 0.73, recall: 0.74, f1: 0.73\n",
            "test loss: 0.35, test_accuracy: 86.2, precision: 0.72, recall: 0.72, f1: 0.72\n",
            "train loss: 0.35, train_accuracy: 86.7, precision: 0.73, recall: 0.74, f1: 0.73\n",
            "train loss: 0.35, train_accuracy: 86.7, precision: 0.73, recall: 0.73, f1: 0.73\n",
            "train loss: 0.35, train_accuracy: 86.7, precision: 0.73, recall: 0.74, f1: 0.73\n",
            "train loss: 0.35, train_accuracy: 86.7, precision: 0.73, recall: 0.74, f1: 0.73\n",
            "train loss: 0.35, train_accuracy: 86.7, precision: 0.73, recall: 0.74, f1: 0.73\n",
            "train loss: 0.35, train_accuracy: 86.8, precision: 0.73, recall: 0.74, f1: 0.73\n",
            "train loss: 0.35, train_accuracy: 86.8, precision: 0.73, recall: 0.74, f1: 0.73\n",
            "train loss: 0.35, train_accuracy: 86.8, precision: 0.73, recall: 0.74, f1: 0.73\n",
            "train loss: 0.35, train_accuracy: 86.8, precision: 0.73, recall: 0.74, f1: 0.73\n",
            "train loss: 0.35, train_accuracy: 86.8, precision: 0.73, recall: 0.74, f1: 0.73\n",
            "test loss: 0.35, test_accuracy: 86.2, precision: 0.72, recall: 0.72, f1: 0.72\n",
            "train loss: 0.35, train_accuracy: 86.8, precision: 0.73, recall: 0.74, f1: 0.73\n",
            "train loss: 0.35, train_accuracy: 86.8, precision: 0.73, recall: 0.74, f1: 0.73\n",
            "train loss: 0.35, train_accuracy: 86.8, precision: 0.73, recall: 0.74, f1: 0.73\n",
            "train loss: 0.35, train_accuracy: 86.8, precision: 0.73, recall: 0.74, f1: 0.73\n",
            "train loss: 0.35, train_accuracy: 86.8, precision: 0.73, recall: 0.74, f1: 0.73\n",
            "train loss: 0.35, train_accuracy: 86.8, precision: 0.73, recall: 0.74, f1: 0.73\n",
            "train loss: 0.35, train_accuracy: 86.8, precision: 0.73, recall: 0.74, f1: 0.73\n",
            "train loss: 0.35, train_accuracy: 86.8, precision: 0.73, recall: 0.74, f1: 0.73\n",
            "train loss: 0.35, train_accuracy: 86.8, precision: 0.73, recall: 0.74, f1: 0.73\n",
            "train loss: 0.35, train_accuracy: 86.8, precision: 0.73, recall: 0.74, f1: 0.73\n",
            "test loss: 0.35, test_accuracy: 86.2, precision: 0.72, recall: 0.72, f1: 0.72\n",
            "train loss: 0.35, train_accuracy: 86.8, precision: 0.73, recall: 0.74, f1: 0.73\n",
            "train loss: 0.35, train_accuracy: 86.8, precision: 0.73, recall: 0.74, f1: 0.73\n",
            "train loss: 0.35, train_accuracy: 86.8, precision: 0.73, recall: 0.74, f1: 0.73\n",
            "train loss: 0.35, train_accuracy: 86.8, precision: 0.73, recall: 0.74, f1: 0.73\n",
            "train loss: 0.35, train_accuracy: 86.8, precision: 0.73, recall: 0.74, f1: 0.73\n",
            "train loss: 0.35, train_accuracy: 86.8, precision: 0.73, recall: 0.74, f1: 0.73\n",
            "train loss: 0.35, train_accuracy: 86.8, precision: 0.73, recall: 0.74, f1: 0.73\n",
            "train loss: 0.35, train_accuracy: 86.8, precision: 0.73, recall: 0.74, f1: 0.73\n",
            "train loss: 0.35, train_accuracy: 86.8, precision: 0.73, recall: 0.74, f1: 0.73\n",
            "train loss: 0.35, train_accuracy: 86.8, precision: 0.73, recall: 0.74, f1: 0.73\n",
            "test loss: 0.35, test_accuracy: 86.2, precision: 0.72, recall: 0.72, f1: 0.72\n",
            "train loss: 0.35, train_accuracy: 86.8, precision: 0.73, recall: 0.74, f1: 0.73\n",
            "train loss: 0.35, train_accuracy: 86.8, precision: 0.73, recall: 0.74, f1: 0.73\n",
            "train loss: 0.35, train_accuracy: 86.8, precision: 0.73, recall: 0.74, f1: 0.73\n",
            "train loss: 0.35, train_accuracy: 86.8, precision: 0.73, recall: 0.74, f1: 0.74\n",
            "train loss: 0.35, train_accuracy: 86.8, precision: 0.73, recall: 0.74, f1: 0.74\n",
            "train loss: 0.35, train_accuracy: 86.8, precision: 0.73, recall: 0.74, f1: 0.74\n",
            "train loss: 0.35, train_accuracy: 86.8, precision: 0.73, recall: 0.74, f1: 0.74\n",
            "train loss: 0.35, train_accuracy: 86.9, precision: 0.73, recall: 0.74, f1: 0.74\n",
            "train loss: 0.35, train_accuracy: 86.9, precision: 0.73, recall: 0.74, f1: 0.74\n",
            "train loss: 0.35, train_accuracy: 86.9, precision: 0.73, recall: 0.74, f1: 0.74\n",
            "test loss: 0.35, test_accuracy: 86.2, precision: 0.72, recall: 0.72, f1: 0.72\n",
            "train loss: 0.35, train_accuracy: 86.9, precision: 0.73, recall: 0.74, f1: 0.74\n",
            "train loss: 0.35, train_accuracy: 86.9, precision: 0.73, recall: 0.74, f1: 0.74\n",
            "train loss: 0.35, train_accuracy: 86.9, precision: 0.73, recall: 0.74, f1: 0.74\n",
            "train loss: 0.35, train_accuracy: 86.9, precision: 0.73, recall: 0.74, f1: 0.74\n",
            "train loss: 0.35, train_accuracy: 86.9, precision: 0.73, recall: 0.74, f1: 0.74\n",
            "train loss: 0.35, train_accuracy: 86.9, precision: 0.73, recall: 0.74, f1: 0.74\n",
            "train loss: 0.35, train_accuracy: 86.9, precision: 0.73, recall: 0.74, f1: 0.74\n",
            "train loss: 0.35, train_accuracy: 86.9, precision: 0.73, recall: 0.74, f1: 0.74\n",
            "train loss: 0.35, train_accuracy: 86.9, precision: 0.73, recall: 0.74, f1: 0.74\n",
            "train loss: 0.35, train_accuracy: 86.9, precision: 0.73, recall: 0.74, f1: 0.74\n",
            "test loss: 0.35, test_accuracy: 86.2, precision: 0.72, recall: 0.72, f1: 0.72\n",
            "train loss: 0.35, train_accuracy: 86.9, precision: 0.73, recall: 0.74, f1: 0.74\n",
            "train loss: 0.35, train_accuracy: 86.9, precision: 0.73, recall: 0.74, f1: 0.74\n",
            "train loss: 0.35, train_accuracy: 86.9, precision: 0.73, recall: 0.74, f1: 0.74\n",
            "train loss: 0.35, train_accuracy: 86.9, precision: 0.73, recall: 0.74, f1: 0.74\n",
            "train loss: 0.35, train_accuracy: 86.9, precision: 0.73, recall: 0.74, f1: 0.74\n",
            "train loss: 0.35, train_accuracy: 86.9, precision: 0.73, recall: 0.74, f1: 0.74\n",
            "train loss: 0.35, train_accuracy: 86.9, precision: 0.73, recall: 0.74, f1: 0.74\n",
            "train loss: 0.35, train_accuracy: 86.9, precision: 0.73, recall: 0.74, f1: 0.74\n",
            "train loss: 0.35, train_accuracy: 86.9, precision: 0.73, recall: 0.74, f1: 0.74\n",
            "train loss: 0.35, train_accuracy: 86.9, precision: 0.73, recall: 0.74, f1: 0.74\n",
            "test loss: 0.35, test_accuracy: 86.2, precision: 0.72, recall: 0.72, f1: 0.72\n",
            "train loss: 0.35, train_accuracy: 86.9, precision: 0.73, recall: 0.74, f1: 0.74\n",
            "train loss: 0.35, train_accuracy: 86.9, precision: 0.73, recall: 0.74, f1: 0.74\n",
            "train loss: 0.35, train_accuracy: 86.9, precision: 0.73, recall: 0.74, f1: 0.74\n",
            "train loss: 0.35, train_accuracy: 86.9, precision: 0.73, recall: 0.74, f1: 0.74\n",
            "train loss: 0.35, train_accuracy: 86.9, precision: 0.73, recall: 0.74, f1: 0.74\n",
            "train loss: 0.35, train_accuracy: 86.9, precision: 0.73, recall: 0.74, f1: 0.74\n",
            "train loss: 0.35, train_accuracy: 86.9, precision: 0.73, recall: 0.74, f1: 0.74\n",
            "train loss: 0.35, train_accuracy: 86.9, precision: 0.73, recall: 0.74, f1: 0.74\n",
            "train loss: 0.35, train_accuracy: 86.9, precision: 0.73, recall: 0.74, f1: 0.74\n",
            "train loss: 0.35, train_accuracy: 86.9, precision: 0.73, recall: 0.74, f1: 0.74\n",
            "test loss: 0.35, test_accuracy: 86.2, precision: 0.72, recall: 0.72, f1: 0.72\n",
            "train loss: 0.35, train_accuracy: 86.9, precision: 0.73, recall: 0.74, f1: 0.74\n",
            "train loss: 0.35, train_accuracy: 86.9, precision: 0.73, recall: 0.74, f1: 0.74\n",
            "train loss: 0.35, train_accuracy: 86.9, precision: 0.73, recall: 0.74, f1: 0.74\n",
            "train loss: 0.35, train_accuracy: 86.9, precision: 0.73, recall: 0.74, f1: 0.74\n",
            "train loss: 0.35, train_accuracy: 86.9, precision: 0.73, recall: 0.74, f1: 0.74\n",
            "train loss: 0.35, train_accuracy: 86.9, precision: 0.73, recall: 0.74, f1: 0.74\n",
            "train loss: 0.35, train_accuracy: 86.9, precision: 0.73, recall: 0.74, f1: 0.74\n",
            "train loss: 0.35, train_accuracy: 86.9, precision: 0.73, recall: 0.74, f1: 0.74\n",
            "train loss: 0.35, train_accuracy: 86.9, precision: 0.73, recall: 0.74, f1: 0.74\n",
            "train loss: 0.35, train_accuracy: 86.9, precision: 0.73, recall: 0.74, f1: 0.74\n",
            "test loss: 0.35, test_accuracy: 86.2, precision: 0.72, recall: 0.72, f1: 0.72\n",
            "train loss: 0.35, train_accuracy: 86.9, precision: 0.73, recall: 0.74, f1: 0.74\n",
            "train loss: 0.35, train_accuracy: 86.9, precision: 0.73, recall: 0.74, f1: 0.74\n",
            "train loss: 0.35, train_accuracy: 87.0, precision: 0.73, recall: 0.74, f1: 0.74\n",
            "train loss: 0.35, train_accuracy: 87.0, precision: 0.73, recall: 0.74, f1: 0.74\n",
            "train loss: 0.35, train_accuracy: 87.0, precision: 0.73, recall: 0.74, f1: 0.74\n",
            "train loss: 0.35, train_accuracy: 87.0, precision: 0.73, recall: 0.74, f1: 0.74\n",
            "train loss: 0.35, train_accuracy: 87.0, precision: 0.73, recall: 0.74, f1: 0.74\n",
            "train loss: 0.35, train_accuracy: 87.0, precision: 0.73, recall: 0.74, f1: 0.74\n",
            "train loss: 0.35, train_accuracy: 87.0, precision: 0.73, recall: 0.74, f1: 0.74\n",
            "train loss: 0.35, train_accuracy: 87.0, precision: 0.73, recall: 0.74, f1: 0.74\n",
            "test loss: 0.35, test_accuracy: 86.2, precision: 0.72, recall: 0.72, f1: 0.72\n",
            "train loss: 0.35, train_accuracy: 87.0, precision: 0.73, recall: 0.74, f1: 0.74\n",
            "train loss: 0.35, train_accuracy: 87.0, precision: 0.73, recall: 0.74, f1: 0.74\n",
            "train loss: 0.35, train_accuracy: 87.0, precision: 0.73, recall: 0.74, f1: 0.74\n",
            "train loss: 0.35, train_accuracy: 87.0, precision: 0.73, recall: 0.74, f1: 0.74\n",
            "train loss: 0.35, train_accuracy: 87.0, precision: 0.73, recall: 0.74, f1: 0.74\n",
            "train loss: 0.35, train_accuracy: 87.0, precision: 0.73, recall: 0.74, f1: 0.74\n",
            "train loss: 0.35, train_accuracy: 87.0, precision: 0.73, recall: 0.74, f1: 0.74\n",
            "train loss: 0.35, train_accuracy: 87.0, precision: 0.73, recall: 0.74, f1: 0.74\n",
            "train loss: 0.35, train_accuracy: 87.0, precision: 0.74, recall: 0.74, f1: 0.74\n",
            "train loss: 0.35, train_accuracy: 87.0, precision: 0.73, recall: 0.74, f1: 0.74\n",
            "test loss: 0.35, test_accuracy: 86.2, precision: 0.72, recall: 0.72, f1: 0.72\n",
            "train loss: 0.35, train_accuracy: 87.0, precision: 0.74, recall: 0.74, f1: 0.74\n",
            "train loss: 0.35, train_accuracy: 87.0, precision: 0.74, recall: 0.74, f1: 0.74\n",
            "train loss: 0.35, train_accuracy: 87.0, precision: 0.74, recall: 0.74, f1: 0.74\n",
            "train loss: 0.35, train_accuracy: 87.0, precision: 0.74, recall: 0.74, f1: 0.74\n",
            "train loss: 0.35, train_accuracy: 87.0, precision: 0.74, recall: 0.74, f1: 0.74\n",
            "train loss: 0.35, train_accuracy: 87.0, precision: 0.74, recall: 0.74, f1: 0.74\n",
            "train loss: 0.35, train_accuracy: 87.0, precision: 0.74, recall: 0.74, f1: 0.74\n",
            "train loss: 0.35, train_accuracy: 87.0, precision: 0.74, recall: 0.74, f1: 0.74\n",
            "train loss: 0.35, train_accuracy: 87.0, precision: 0.74, recall: 0.74, f1: 0.74\n",
            "train loss: 0.35, train_accuracy: 87.0, precision: 0.74, recall: 0.74, f1: 0.74\n",
            "test loss: 0.35, test_accuracy: 86.2, precision: 0.72, recall: 0.72, f1: 0.72\n",
            "train loss: 0.35, train_accuracy: 87.0, precision: 0.74, recall: 0.74, f1: 0.74\n",
            "train loss: 0.35, train_accuracy: 87.0, precision: 0.74, recall: 0.74, f1: 0.74\n",
            "train loss: 0.35, train_accuracy: 87.0, precision: 0.74, recall: 0.74, f1: 0.74\n",
            "train loss: 0.35, train_accuracy: 87.0, precision: 0.74, recall: 0.74, f1: 0.74\n",
            "train loss: 0.35, train_accuracy: 87.0, precision: 0.74, recall: 0.74, f1: 0.74\n",
            "train loss: 0.35, train_accuracy: 87.0, precision: 0.74, recall: 0.74, f1: 0.74\n",
            "train loss: 0.35, train_accuracy: 87.0, precision: 0.74, recall: 0.74, f1: 0.74\n",
            "train loss: 0.35, train_accuracy: 87.0, precision: 0.74, recall: 0.74, f1: 0.74\n",
            "train loss: 0.35, train_accuracy: 87.0, precision: 0.74, recall: 0.74, f1: 0.74\n",
            "train loss: 0.35, train_accuracy: 87.0, precision: 0.74, recall: 0.74, f1: 0.74\n",
            "test loss: 0.35, test_accuracy: 86.2, precision: 0.72, recall: 0.72, f1: 0.72\n",
            "train loss: 0.35, train_accuracy: 87.0, precision: 0.74, recall: 0.74, f1: 0.74\n",
            "train loss: 0.35, train_accuracy: 87.0, precision: 0.74, recall: 0.74, f1: 0.74\n",
            "train loss: 0.35, train_accuracy: 87.0, precision: 0.74, recall: 0.74, f1: 0.74\n",
            "train loss: 0.35, train_accuracy: 87.0, precision: 0.74, recall: 0.74, f1: 0.74\n",
            "train loss: 0.35, train_accuracy: 87.0, precision: 0.74, recall: 0.74, f1: 0.74\n",
            "train loss: 0.35, train_accuracy: 87.0, precision: 0.74, recall: 0.74, f1: 0.74\n",
            "train loss: 0.35, train_accuracy: 87.0, precision: 0.74, recall: 0.74, f1: 0.74\n",
            "train loss: 0.35, train_accuracy: 87.0, precision: 0.74, recall: 0.74, f1: 0.74\n",
            "train loss: 0.34, train_accuracy: 87.0, precision: 0.74, recall: 0.74, f1: 0.74\n",
            "train loss: 0.34, train_accuracy: 87.0, precision: 0.74, recall: 0.74, f1: 0.74\n",
            "test loss: 0.34, test_accuracy: 86.2, precision: 0.72, recall: 0.72, f1: 0.72\n",
            "train loss: 0.34, train_accuracy: 87.0, precision: 0.74, recall: 0.74, f1: 0.74\n",
            "train loss: 0.34, train_accuracy: 87.0, precision: 0.74, recall: 0.74, f1: 0.74\n",
            "train loss: 0.34, train_accuracy: 87.0, precision: 0.74, recall: 0.74, f1: 0.74\n",
            "train loss: 0.34, train_accuracy: 87.0, precision: 0.74, recall: 0.74, f1: 0.74\n",
            "train loss: 0.34, train_accuracy: 87.0, precision: 0.74, recall: 0.74, f1: 0.74\n",
            "train loss: 0.34, train_accuracy: 87.1, precision: 0.74, recall: 0.75, f1: 0.74\n",
            "train loss: 0.34, train_accuracy: 87.1, precision: 0.74, recall: 0.74, f1: 0.74\n",
            "train loss: 0.34, train_accuracy: 87.1, precision: 0.74, recall: 0.75, f1: 0.74\n",
            "train loss: 0.34, train_accuracy: 87.1, precision: 0.74, recall: 0.75, f1: 0.74\n",
            "train loss: 0.34, train_accuracy: 87.1, precision: 0.74, recall: 0.75, f1: 0.74\n",
            "test loss: 0.34, test_accuracy: 86.2, precision: 0.72, recall: 0.72, f1: 0.72\n",
            "train loss: 0.34, train_accuracy: 87.1, precision: 0.74, recall: 0.75, f1: 0.74\n",
            "train loss: 0.34, train_accuracy: 87.1, precision: 0.74, recall: 0.75, f1: 0.74\n",
            "train loss: 0.34, train_accuracy: 87.1, precision: 0.74, recall: 0.75, f1: 0.74\n",
            "train loss: 0.34, train_accuracy: 87.1, precision: 0.74, recall: 0.75, f1: 0.74\n",
            "train loss: 0.34, train_accuracy: 87.1, precision: 0.74, recall: 0.75, f1: 0.74\n",
            "train loss: 0.34, train_accuracy: 87.1, precision: 0.74, recall: 0.75, f1: 0.74\n",
            "train loss: 0.34, train_accuracy: 87.1, precision: 0.74, recall: 0.75, f1: 0.74\n",
            "train loss: 0.34, train_accuracy: 87.1, precision: 0.74, recall: 0.75, f1: 0.74\n",
            "train loss: 0.34, train_accuracy: 87.1, precision: 0.74, recall: 0.75, f1: 0.74\n",
            "train loss: 0.34, train_accuracy: 87.1, precision: 0.74, recall: 0.75, f1: 0.74\n",
            "test loss: 0.34, test_accuracy: 86.2, precision: 0.72, recall: 0.72, f1: 0.72\n",
            "train loss: 0.34, train_accuracy: 87.1, precision: 0.74, recall: 0.75, f1: 0.74\n",
            "train loss: 0.34, train_accuracy: 87.1, precision: 0.74, recall: 0.75, f1: 0.74\n",
            "train loss: 0.34, train_accuracy: 87.1, precision: 0.74, recall: 0.75, f1: 0.74\n",
            "train loss: 0.34, train_accuracy: 87.1, precision: 0.74, recall: 0.75, f1: 0.74\n",
            "train loss: 0.34, train_accuracy: 87.1, precision: 0.74, recall: 0.75, f1: 0.74\n",
            "train loss: 0.34, train_accuracy: 87.1, precision: 0.74, recall: 0.75, f1: 0.74\n",
            "train loss: 0.34, train_accuracy: 87.1, precision: 0.74, recall: 0.75, f1: 0.74\n",
            "train loss: 0.34, train_accuracy: 87.1, precision: 0.74, recall: 0.75, f1: 0.74\n",
            "train loss: 0.34, train_accuracy: 87.1, precision: 0.74, recall: 0.75, f1: 0.74\n",
            "train loss: 0.34, train_accuracy: 87.1, precision: 0.74, recall: 0.75, f1: 0.74\n",
            "test loss: 0.34, test_accuracy: 86.2, precision: 0.72, recall: 0.72, f1: 0.72\n",
            "train loss: 0.34, train_accuracy: 87.1, precision: 0.74, recall: 0.75, f1: 0.74\n",
            "train loss: 0.34, train_accuracy: 87.1, precision: 0.74, recall: 0.75, f1: 0.74\n",
            "train loss: 0.34, train_accuracy: 87.1, precision: 0.74, recall: 0.75, f1: 0.74\n",
            "train loss: 0.34, train_accuracy: 87.1, precision: 0.74, recall: 0.75, f1: 0.74\n",
            "train loss: 0.34, train_accuracy: 87.1, precision: 0.74, recall: 0.75, f1: 0.74\n",
            "train loss: 0.34, train_accuracy: 87.1, precision: 0.74, recall: 0.75, f1: 0.74\n",
            "train loss: 0.34, train_accuracy: 87.1, precision: 0.74, recall: 0.75, f1: 0.74\n",
            "train loss: 0.34, train_accuracy: 87.1, precision: 0.74, recall: 0.75, f1: 0.74\n",
            "train loss: 0.34, train_accuracy: 87.1, precision: 0.74, recall: 0.75, f1: 0.74\n",
            "train loss: 0.34, train_accuracy: 87.1, precision: 0.74, recall: 0.75, f1: 0.74\n",
            "test loss: 0.34, test_accuracy: 86.2, precision: 0.72, recall: 0.72, f1: 0.72\n",
            "train loss: 0.34, train_accuracy: 87.1, precision: 0.74, recall: 0.75, f1: 0.74\n",
            "train loss: 0.34, train_accuracy: 87.1, precision: 0.74, recall: 0.75, f1: 0.74\n",
            "train loss: 0.34, train_accuracy: 87.1, precision: 0.74, recall: 0.75, f1: 0.74\n",
            "train loss: 0.34, train_accuracy: 87.2, precision: 0.74, recall: 0.75, f1: 0.74\n",
            "train loss: 0.34, train_accuracy: 87.2, precision: 0.74, recall: 0.75, f1: 0.74\n",
            "train loss: 0.34, train_accuracy: 87.2, precision: 0.74, recall: 0.75, f1: 0.74\n",
            "train loss: 0.34, train_accuracy: 87.2, precision: 0.74, recall: 0.75, f1: 0.74\n",
            "train loss: 0.34, train_accuracy: 87.2, precision: 0.74, recall: 0.75, f1: 0.74\n",
            "train loss: 0.34, train_accuracy: 87.2, precision: 0.74, recall: 0.75, f1: 0.74\n",
            "train loss: 0.34, train_accuracy: 87.2, precision: 0.74, recall: 0.75, f1: 0.74\n",
            "test loss: 0.34, test_accuracy: 86.2, precision: 0.72, recall: 0.72, f1: 0.72\n",
            "train loss: 0.34, train_accuracy: 87.2, precision: 0.74, recall: 0.75, f1: 0.74\n",
            "train loss: 0.34, train_accuracy: 87.2, precision: 0.74, recall: 0.75, f1: 0.74\n",
            "train loss: 0.34, train_accuracy: 87.2, precision: 0.74, recall: 0.75, f1: 0.74\n",
            "train loss: 0.34, train_accuracy: 87.2, precision: 0.74, recall: 0.75, f1: 0.74\n",
            "train loss: 0.34, train_accuracy: 87.2, precision: 0.74, recall: 0.75, f1: 0.74\n",
            "train loss: 0.34, train_accuracy: 87.2, precision: 0.74, recall: 0.75, f1: 0.74\n",
            "train loss: 0.34, train_accuracy: 87.2, precision: 0.74, recall: 0.75, f1: 0.74\n",
            "train loss: 0.34, train_accuracy: 87.2, precision: 0.74, recall: 0.75, f1: 0.74\n",
            "train loss: 0.34, train_accuracy: 87.2, precision: 0.74, recall: 0.75, f1: 0.74\n",
            "train loss: 0.34, train_accuracy: 87.2, precision: 0.74, recall: 0.75, f1: 0.74\n",
            "test loss: 0.34, test_accuracy: 86.2, precision: 0.72, recall: 0.72, f1: 0.72\n",
            "train loss: 0.34, train_accuracy: 87.2, precision: 0.74, recall: 0.75, f1: 0.74\n",
            "train loss: 0.34, train_accuracy: 87.2, precision: 0.74, recall: 0.75, f1: 0.74\n",
            "train loss: 0.34, train_accuracy: 87.2, precision: 0.74, recall: 0.75, f1: 0.74\n",
            "train loss: 0.34, train_accuracy: 87.2, precision: 0.74, recall: 0.75, f1: 0.74\n",
            "train loss: 0.34, train_accuracy: 87.2, precision: 0.74, recall: 0.75, f1: 0.74\n",
            "train loss: 0.34, train_accuracy: 87.2, precision: 0.74, recall: 0.75, f1: 0.74\n",
            "train loss: 0.34, train_accuracy: 87.2, precision: 0.74, recall: 0.75, f1: 0.74\n",
            "train loss: 0.34, train_accuracy: 87.2, precision: 0.74, recall: 0.75, f1: 0.74\n",
            "train loss: 0.34, train_accuracy: 87.2, precision: 0.74, recall: 0.75, f1: 0.74\n",
            "train loss: 0.34, train_accuracy: 87.2, precision: 0.74, recall: 0.75, f1: 0.74\n",
            "test loss: 0.34, test_accuracy: 86.2, precision: 0.72, recall: 0.72, f1: 0.72\n",
            "train loss: 0.34, train_accuracy: 87.2, precision: 0.74, recall: 0.75, f1: 0.74\n",
            "train loss: 0.34, train_accuracy: 87.2, precision: 0.74, recall: 0.75, f1: 0.74\n",
            "train loss: 0.34, train_accuracy: 87.2, precision: 0.74, recall: 0.75, f1: 0.74\n",
            "train loss: 0.34, train_accuracy: 87.2, precision: 0.74, recall: 0.75, f1: 0.75\n",
            "train loss: 0.34, train_accuracy: 87.2, precision: 0.74, recall: 0.75, f1: 0.75\n",
            "train loss: 0.34, train_accuracy: 87.2, precision: 0.74, recall: 0.75, f1: 0.75\n",
            "train loss: 0.34, train_accuracy: 87.2, precision: 0.74, recall: 0.75, f1: 0.75\n",
            "train loss: 0.34, train_accuracy: 87.2, precision: 0.74, recall: 0.75, f1: 0.75\n",
            "train loss: 0.34, train_accuracy: 87.2, precision: 0.74, recall: 0.75, f1: 0.75\n",
            "train loss: 0.34, train_accuracy: 87.2, precision: 0.74, recall: 0.75, f1: 0.75\n",
            "test loss: 0.34, test_accuracy: 86.2, precision: 0.72, recall: 0.72, f1: 0.72\n",
            "train loss: 0.34, train_accuracy: 87.2, precision: 0.74, recall: 0.75, f1: 0.75\n",
            "train loss: 0.34, train_accuracy: 87.2, precision: 0.74, recall: 0.75, f1: 0.75\n",
            "train loss: 0.34, train_accuracy: 87.2, precision: 0.74, recall: 0.75, f1: 0.75\n",
            "train loss: 0.34, train_accuracy: 87.2, precision: 0.74, recall: 0.75, f1: 0.75\n",
            "train loss: 0.34, train_accuracy: 87.2, precision: 0.74, recall: 0.75, f1: 0.75\n",
            "train loss: 0.34, train_accuracy: 87.2, precision: 0.74, recall: 0.75, f1: 0.75\n",
            "train loss: 0.34, train_accuracy: 87.2, precision: 0.74, recall: 0.75, f1: 0.75\n",
            "train loss: 0.34, train_accuracy: 87.3, precision: 0.74, recall: 0.75, f1: 0.75\n",
            "train loss: 0.34, train_accuracy: 87.2, precision: 0.74, recall: 0.75, f1: 0.75\n",
            "train loss: 0.34, train_accuracy: 87.3, precision: 0.74, recall: 0.75, f1: 0.75\n",
            "test loss: 0.34, test_accuracy: 86.2, precision: 0.72, recall: 0.72, f1: 0.72\n",
            "train loss: 0.34, train_accuracy: 87.3, precision: 0.74, recall: 0.75, f1: 0.75\n",
            "train loss: 0.34, train_accuracy: 87.3, precision: 0.74, recall: 0.75, f1: 0.75\n",
            "train loss: 0.34, train_accuracy: 87.3, precision: 0.74, recall: 0.75, f1: 0.75\n",
            "train loss: 0.34, train_accuracy: 87.3, precision: 0.74, recall: 0.75, f1: 0.75\n",
            "train loss: 0.34, train_accuracy: 87.3, precision: 0.74, recall: 0.75, f1: 0.75\n",
            "train loss: 0.34, train_accuracy: 87.3, precision: 0.74, recall: 0.75, f1: 0.75\n",
            "train loss: 0.34, train_accuracy: 87.3, precision: 0.74, recall: 0.75, f1: 0.75\n",
            "train loss: 0.34, train_accuracy: 87.3, precision: 0.74, recall: 0.75, f1: 0.75\n",
            "train loss: 0.34, train_accuracy: 87.3, precision: 0.74, recall: 0.75, f1: 0.75\n",
            "train loss: 0.34, train_accuracy: 87.3, precision: 0.74, recall: 0.75, f1: 0.75\n",
            "test loss: 0.34, test_accuracy: 86.2, precision: 0.72, recall: 0.72, f1: 0.72\n",
            "train loss: 0.34, train_accuracy: 87.3, precision: 0.74, recall: 0.75, f1: 0.75\n",
            "train loss: 0.34, train_accuracy: 87.3, precision: 0.74, recall: 0.75, f1: 0.75\n",
            "train loss: 0.34, train_accuracy: 87.3, precision: 0.74, recall: 0.75, f1: 0.75\n",
            "train loss: 0.34, train_accuracy: 87.3, precision: 0.74, recall: 0.75, f1: 0.75\n",
            "train loss: 0.34, train_accuracy: 87.3, precision: 0.74, recall: 0.75, f1: 0.75\n",
            "train loss: 0.34, train_accuracy: 87.3, precision: 0.74, recall: 0.75, f1: 0.75\n",
            "train loss: 0.34, train_accuracy: 87.3, precision: 0.74, recall: 0.75, f1: 0.75\n",
            "train loss: 0.34, train_accuracy: 87.3, precision: 0.74, recall: 0.75, f1: 0.75\n",
            "train loss: 0.34, train_accuracy: 87.3, precision: 0.74, recall: 0.75, f1: 0.75\n",
            "train loss: 0.34, train_accuracy: 87.3, precision: 0.74, recall: 0.75, f1: 0.75\n",
            "test loss: 0.34, test_accuracy: 86.1, precision: 0.72, recall: 0.72, f1: 0.72\n",
            "train loss: 0.34, train_accuracy: 87.3, precision: 0.74, recall: 0.75, f1: 0.75\n",
            "train loss: 0.34, train_accuracy: 87.3, precision: 0.74, recall: 0.75, f1: 0.75\n",
            "train loss: 0.34, train_accuracy: 87.3, precision: 0.74, recall: 0.75, f1: 0.75\n",
            "train loss: 0.34, train_accuracy: 87.3, precision: 0.74, recall: 0.75, f1: 0.75\n",
            "train loss: 0.34, train_accuracy: 87.3, precision: 0.74, recall: 0.75, f1: 0.75\n",
            "train loss: 0.34, train_accuracy: 87.3, precision: 0.74, recall: 0.75, f1: 0.75\n",
            "train loss: 0.34, train_accuracy: 87.3, precision: 0.74, recall: 0.75, f1: 0.75\n",
            "train loss: 0.34, train_accuracy: 87.3, precision: 0.74, recall: 0.75, f1: 0.75\n",
            "train loss: 0.34, train_accuracy: 87.3, precision: 0.74, recall: 0.75, f1: 0.75\n",
            "train loss: 0.34, train_accuracy: 87.3, precision: 0.74, recall: 0.75, f1: 0.75\n",
            "test loss: 0.34, test_accuracy: 86.1, precision: 0.71, recall: 0.72, f1: 0.72\n",
            "train loss: 0.34, train_accuracy: 87.3, precision: 0.74, recall: 0.75, f1: 0.75\n",
            "train loss: 0.34, train_accuracy: 87.3, precision: 0.74, recall: 0.75, f1: 0.75\n",
            "train loss: 0.34, train_accuracy: 87.3, precision: 0.74, recall: 0.75, f1: 0.75\n",
            "train loss: 0.34, train_accuracy: 87.3, precision: 0.74, recall: 0.75, f1: 0.75\n",
            "train loss: 0.34, train_accuracy: 87.3, precision: 0.74, recall: 0.75, f1: 0.75\n",
            "train loss: 0.34, train_accuracy: 87.3, precision: 0.74, recall: 0.75, f1: 0.75\n",
            "train loss: 0.34, train_accuracy: 87.3, precision: 0.74, recall: 0.75, f1: 0.75\n",
            "train loss: 0.34, train_accuracy: 87.3, precision: 0.74, recall: 0.75, f1: 0.75\n",
            "train loss: 0.34, train_accuracy: 87.3, precision: 0.74, recall: 0.75, f1: 0.75\n",
            "train loss: 0.34, train_accuracy: 87.3, precision: 0.74, recall: 0.75, f1: 0.75\n",
            "test loss: 0.34, test_accuracy: 86.1, precision: 0.72, recall: 0.72, f1: 0.72\n",
            "train loss: 0.34, train_accuracy: 87.3, precision: 0.74, recall: 0.75, f1: 0.75\n",
            "train loss: 0.34, train_accuracy: 87.3, precision: 0.74, recall: 0.75, f1: 0.75\n",
            "train loss: 0.34, train_accuracy: 87.3, precision: 0.74, recall: 0.75, f1: 0.75\n",
            "train loss: 0.34, train_accuracy: 87.3, precision: 0.74, recall: 0.75, f1: 0.75\n",
            "train loss: 0.34, train_accuracy: 87.3, precision: 0.74, recall: 0.75, f1: 0.75\n",
            "train loss: 0.34, train_accuracy: 87.3, precision: 0.74, recall: 0.75, f1: 0.75\n",
            "train loss: 0.34, train_accuracy: 87.3, precision: 0.74, recall: 0.75, f1: 0.75\n",
            "train loss: 0.34, train_accuracy: 87.4, precision: 0.75, recall: 0.75, f1: 0.75\n",
            "train loss: 0.34, train_accuracy: 87.4, precision: 0.74, recall: 0.75, f1: 0.75\n"
          ]
        }
      ]
    },
    {
      "cell_type": "code",
      "source": [
        "#***Logistic Regression***"
      ],
      "metadata": {
        "id": "MCqxCrQmIRaL"
      },
      "execution_count": 27,
      "outputs": []
    },
    {
      "cell_type": "code",
      "source": [
        "from imblearn.over_sampling import SMOTE\n",
        "from sklearn.feature_extraction.text import TfidfVectorizer\n",
        "from sklearn.model_selection import train_test_split\n",
        "from sklearn.linear_model import LogisticRegression\n",
        "from sklearn.metrics import accuracy_score\n",
        "from sklearn.metrics import confusion_matrix, classification_report, precision_recall_fscore_support, ConfusionMatrixDisplay"
      ],
      "metadata": {
        "id": "RXmFz223IytU"
      },
      "execution_count": 28,
      "outputs": []
    },
    {
      "cell_type": "code",
      "source": [
        "df = pd.read_csv(\"data.csv\").drop(\"Unnamed: 0\", axis=1).reset_index(drop=True)\n",
        "df = df.dropna()\n",
        "X, y = df['review_body'], df['star_rating']\n",
        "y = y.apply(lambda x: 0 if x <= 2 else 1 if x == 3 else 2)\n",
        "X_train, X_validation, y_train, y_validation = train_test_split(X, y, train_size=0.6, shuffle=True, random_state=42, stratify=y)\n",
        "X_test, X_validation, y_test, y_validation = train_test_split(X_validation, y_validation, train_size=0.5, shuffle=True, random_state=42, stratify=y_validation)"
      ],
      "metadata": {
        "id": "zNunM1oKI2IO"
      },
      "execution_count": 29,
      "outputs": []
    },
    {
      "cell_type": "code",
      "source": [
        "vectorizer = TfidfVectorizer()\n",
        "X_train_1 = [str(text) for text in X_train] # str first\n",
        "X_train_1 = vectorizer.fit_transform(X_train_1)\n",
        "model = LogisticRegression()\n",
        "model.fit(X_train_1, y_train)\n",
        "X_validation_1 = vectorizer.transform(X_validation)\n",
        "y_pred = model.predict(X_validation_1)\n",
        "accuracy_t = accuracy_score(y_validation, y_pred)\n",
        "precision, recall, fscore, support = precision_recall_fscore_support(y_validation, y_pred)\n",
        "print(\"Accuracy Test:\", accuracy_t)\n",
        "print(\"Precision:\", precision)\n",
        "print(\"Recall:\", recall)\n",
        "print(\"F1-score:\", fscore)"
      ],
      "metadata": {
        "colab": {
          "base_uri": "https://localhost:8080/"
        },
        "id": "7o5TCKhqI4NU",
        "outputId": "b719b7d3-f267-44fb-94a8-f8fcf602cf84"
      },
      "execution_count": 30,
      "outputs": [
        {
          "output_type": "stream",
          "name": "stderr",
          "text": [
            "/usr/local/lib/python3.10/dist-packages/sklearn/linear_model/_logistic.py:460: ConvergenceWarning: lbfgs failed to converge (status=1):\n",
            "STOP: TOTAL NO. of ITERATIONS REACHED LIMIT.\n",
            "\n",
            "Increase the number of iterations (max_iter) or scale the data as shown in:\n",
            "    https://scikit-learn.org/stable/modules/preprocessing.html\n",
            "Please also refer to the documentation for alternative solver options:\n",
            "    https://scikit-learn.org/stable/modules/linear_model.html#logistic-regression\n",
            "  n_iter_i = _check_optimize_result(\n"
          ]
        },
        {
          "output_type": "stream",
          "name": "stdout",
          "text": [
            "Accuracy Test: 0.8670912551504883\n",
            "Precision: [0.73351538 0.42351901 0.90272833]\n",
            "Recall: [0.73595382 0.12206932 0.97023769]\n",
            "F1-score: [0.73473258 0.18951533 0.93526635]\n"
          ]
        }
      ]
    },
    {
      "cell_type": "markdown",
      "source": [
        "## **Test**"
      ],
      "metadata": {
        "id": "BEqRiXqxI5_G"
      }
    },
    {
      "cell_type": "code",
      "source": [
        "for i in X_train:"
      ],
      "metadata": {
        "id": "CClEvJyMJCSD"
      },
      "execution_count": null,
      "outputs": []
    },
    {
      "cell_type": "code",
      "source": [
        "import numpy as np\n",
        "np.sort(a.values)"
      ],
      "metadata": {
        "id": "DjFynkk0JIW_"
      },
      "execution_count": null,
      "outputs": []
    },
    {
      "cell_type": "code",
      "source": [
        "X_train_transformed"
      ],
      "metadata": {
        "id": "e7S0Va1tJIaG"
      },
      "execution_count": null,
      "outputs": []
    },
    {
      "cell_type": "code",
      "source": [
        "import pandas as pd\n",
        "from sklearn.model_selection import train_test_split\n",
        "import torch\n",
        "from torch import nn, optim\n",
        "import tensorflow as tf\n",
        "\n",
        "from tensorflow.keras.preprocessing.text import Tokenizer\n",
        "from tensorflow.keras.preprocessing.sequence import pad_sequences"
      ],
      "metadata": {
        "id": "yN34vuokJIct"
      },
      "execution_count": null,
      "outputs": []
    },
    {
      "cell_type": "code",
      "source": [
        "# Load and preprocess the data\n",
        "df = pd.read_csv(\"data.csv\").drop(\"Unnamed: 0\", axis=1).reset_index(drop=True)\n",
        "df = df.dropna()\n",
        "X, y = df['review_body'], df['star_rating']\n",
        "y = y.apply(lambda x: 0 if x <= 2 else 1 if x == 3 else 2)\n",
        "label2id = {\"Negative\": 0, \"Neutral\": 1, \"Positive\": 2}\n",
        "id2label = {0: \"Negative\", 1: \"Neutral\", 2: \"Positive\"}\n",
        "X_train, X_validation, y_train, y_validation = train_test_split(\n",
        "    X, y, train_size=0.6, shuffle=True, random_state=42, stratify=y\n",
        ")\n",
        "X_test, X_validation, y_test, y_validation = train_test_split(\n",
        "    X_validation, y_validation, train_size=0.5, shuffle=True, random_state=42, stratify=y_validation\n",
        ")"
      ],
      "metadata": {
        "id": "tEOU4CeaJIfj"
      },
      "execution_count": null,
      "outputs": []
    },
    {
      "cell_type": "code",
      "source": [
        "tokenizer = Tokenizer(num_words=1000)\n",
        "tokenizer.fit_on_texts(X_train)\n",
        "\n",
        "X_train_sequences = tokenizer.texts_to_sequences(X_train)\n",
        "X_validation_sequences = tokenizer.texts_to_sequences(X_validation)\n",
        "X_test_sequences = tokenizer.texts_to_sequences(X_test)"
      ],
      "metadata": {
        "id": "g11lowtGJIiK"
      },
      "execution_count": null,
      "outputs": []
    },
    {
      "cell_type": "code",
      "source": [
        "max_length = 100  # Define the desired maximum length of sequences\n",
        "\n",
        "X_train_padded = pad_sequences(X_train_sequences, padding='post', maxlen=max_length)\n",
        "X_validation_padded = pad_sequences(X_validation_sequences, padding='post', maxlen=max_length)\n",
        "X_test_padded = pad_sequences(X_test_sequences, padding='post', maxlen=max_length)\n",
        "\n",
        "vocab_size = len(tokenizer.word_index) + 1\n",
        "\n",
        "# Convert data to tensors\n",
        "X_train_padded = torch.tensor(X_train_padded).long()\n",
        "X_validation_padded = torch.tensor(X_validation_padded).long()\n",
        "X_test_padded = torch.tensor(X_test_padded).long()\n",
        "\n",
        "y_train_transformed = torch.tensor(y_train.values)\n",
        "y_test_transformed = torch.tensor(y_test.values)"
      ],
      "metadata": {
        "id": "cBqasXXZJIkh"
      },
      "execution_count": null,
      "outputs": []
    },
    {
      "cell_type": "code",
      "source": [
        "# Define the model architecture\n",
        "embedding_dim = 32\n",
        "\n",
        "model = nn.Sequential(\n",
        "    nn.Embedding(vocab_size, embedding_dim),\n",
        "    nn.Flatten(),\n",
        "    nn.Linear(max_length * embedding_dim, 32),\n",
        "    nn.ReLU(),\n",
        "    nn.Linear(32, 3),\n",
        "    nn.LogSoftmax(dim=1)\n",
        ").cuda()\n",
        "\n",
        "criterion = nn.NLLLoss().cuda()\n",
        "optimizer = optim.AdamW(model.parameters(), lr=0.01, weight_decay=0.1)"
      ],
      "metadata": {
        "id": "jVP0kLayJIno"
      },
      "execution_count": null,
      "outputs": []
    },
    {
      "cell_type": "code",
      "source": [
        "from sklearn.metrics import precision_recall_fscore_support\n",
        "\n",
        "epochs = 500\n",
        "\n",
        "for e in range(epochs):\n",
        "    optimizer.zero_grad()\n",
        "    output = model.forward(X_train_padded.cuda())\n",
        "    loss = criterion(output, y_train_transformed.cuda())\n",
        "    loss.backward()\n",
        "    optimizer.step()\n",
        "    prec, rec, f1, sup = precision_recall_fscore_support(\n",
        "        y_train_transformed.cpu().detach().numpy(), output.argmax(axis=1).cpu().detach().numpy()\n",
        "    )\n",
        "    print(f\"train loss: {loss.item():.2}, precision: {prec[0]:.2}, recall: {rec[0]:.2}, f1: {f1[0]:.2}\")\n",
        "    if e % 10 == 0:\n",
        "        with torch.no_grad():\n",
        "            model.eval()\n",
        "            log_ps = model(X_test_padded.cuda())\n",
        "            test_loss = criterion(log_ps, y_test_transformed.cuda())\n",
        "            prec, rec, f1, sup = precision_recall_fscore_support(\n",
        "                y_test_transformed.cpu().detach().numpy(), log_ps.argmax(axis=1).cpu().detach().numpy()\n",
        "            )\n",
        "            print(f\"test loss: {loss.item():.2}, precision: {prec[0]:.2}, recall: {rec[0]:.2}, f1: {f1[0]:.2}\")"
      ],
      "metadata": {
        "id": "5SPJMkIzJa7Q"
      },
      "execution_count": null,
      "outputs": []
    },
    {
      "cell_type": "markdown",
      "source": [
        "## ***Embedding 2***"
      ],
      "metadata": {
        "id": "uigHCgNJJa-G"
      }
    },
    {
      "cell_type": "code",
      "source": [
        "from sklearn.model_selection import train_test_split\n",
        "import pandas as pd\n",
        "\n",
        "df = pd.read_csv(\"data.csv\").drop(\"Unnamed: 0\", axis=1).reset_index(drop=True)\n",
        "df = df.dropna()\n",
        "X, y = df['review_body'], df['star_rating']\n",
        "y = y.apply(lambda x: 0 if x <= 2 else 1 if x == 3 else 2)\n",
        "label2id = {\"Negative\": 0, \"Neutral\": 1, \"Postiive\": 2}\n",
        "id2label = {0: \"Negative\", 1: \"Neutral\", 2: \"Postiive\"}\n",
        "X_train, X_validation, y_train, y_validation = train_test_split(X, y, train_size=0.6, shuffle=True, random_state=42, stratify=y)\n",
        "X_test, X_validation, y_test, y_validation = train_test_split(X_validation, y_validation, train_size=0.5, shuffle=True, random_state=42, stratify=y_validation)"
      ],
      "metadata": {
        "id": "2ei9F_W-JbAt"
      },
      "execution_count": null,
      "outputs": []
    },
    {
      "cell_type": "code",
      "source": [
        "from datasets import Dataset, DatasetDict\n",
        "\n",
        "ds_train = Dataset.from_pandas(pd.concat([X_train, y_train], axis=1, keys=['text', 'label']).reset_index(drop=True))\n",
        "ds_train = ds_train.train_test_split(test_size=0.1)['test']\n",
        "ds_validation = Dataset.from_pandas(pd.concat([X_validation, y_validation], axis=1, keys=['text', 'label']).reset_index(drop=True))\n",
        "ds_test = Dataset.from_pandas(pd.concat([X_test, y_test], axis=1, keys=['text', 'label']).reset_index(drop=True))\n",
        "ds = DatasetDict({'train': ds_train, 'validation': ds_validation, 'test': ds_test})"
      ],
      "metadata": {
        "id": "YLnxhyenJbDU"
      },
      "execution_count": null,
      "outputs": []
    },
    {
      "cell_type": "code",
      "source": [
        "from transformers import BertTokenizer, BertModel\n",
        "\n",
        "tokenizer = BertTokenizer.from_pretrained('bert-base-uncased')\n",
        "\n",
        "model = BertModel.from_pretrained(\n",
        "    'bert-base-uncased', num_labels=len(id2label), id2label=id2label, label2id=label2id\n",
        ")"
      ],
      "metadata": {
        "id": "KjyPPqetJbF6"
      },
      "execution_count": null,
      "outputs": []
    },
    {
      "cell_type": "code",
      "source": [
        "def preprocess_function(examples):\n",
        "    return tokenizer(examples[\"text\"], truncation=True, padding=True, max_length=128, return_tensors=\"pt\")\n",
        "ds = ds.map(preprocess_function, batched=True)\n",
        "ds.set_format(\"pt\")"
      ],
      "metadata": {
        "id": "_cW7EXPAJbIC"
      },
      "execution_count": null,
      "outputs": []
    },
    {
      "cell_type": "code",
      "source": [
        "from torch import nn, optim\n",
        "\n",
        "m = nn.Sequential(\n",
        "    model.embeddings,\n",
        "    nn.Flatten(),\n",
        "    nn.Linear(98304, 32),\n",
        "    nn.ReLU(),\n",
        "    nn.Linear(32, 3),\n",
        "    nn.LogSoftmax(dim=1)\n",
        ").cuda()\n",
        "for name, param in m.named_parameters():\n",
        "    if not name.startswith('0'):\n",
        "        param.requires_grad = False\n",
        "\n",
        "criterion = nn.NLLLoss().cuda()\n",
        "optimizer = optim.AdamW(model.parameters(), lr=0.01, weight_decay=0.1)"
      ],
      "metadata": {
        "id": "A_EPAx6tJIqP"
      },
      "execution_count": null,
      "outputs": []
    },
    {
      "cell_type": "code",
      "source": [
        "from torch.utils.data import DataLoader, TensorDataset\n",
        "\n",
        "batch_size = 32\n",
        "train_loader = DataLoader(ds['train'], batch_size=batch_size, shuffle=True)\n",
        "test_loader = DataLoader(ds['test'], batch_size=batch_size)"
      ],
      "metadata": {
        "id": "AZljqm8SJ3gc"
      },
      "execution_count": null,
      "outputs": []
    },
    {
      "cell_type": "code",
      "source": [
        "from sklearn.metrics import precision_recall_fscore_support, accuracy_score\n",
        "import numpy as np\n",
        "import torch\n",
        "\n",
        "epochs = 500\n",
        "for e in range(epochs):\n",
        "    train_loss = 0\n",
        "    for i, data in enumerate(train_loader):\n",
        "        inputs, targets = data['input_ids'].cuda(), data['label'].cuda()\n",
        "        optimizer.zero_grad()\n",
        "        output = m.forward(inputs)\n",
        "        loss = criterion(output, targets)\n",
        "        loss.backward()\n",
        "        optimizer.step()\n",
        "        train_loss += loss.item()\n",
        "    train_loss /= len(train_loader)\n",
        "    print(f\"Epoch {e+1}/{epochs}, train_loss: {train_loss:.2}\")\n",
        "\n",
        "    if e % 10 == 0:\n",
        "        with torch.no_grad():\n",
        "            m.eval()\n",
        "            test_loss = 0\n",
        "            ans = []\n",
        "            for data in test_loader:\n",
        "                inputs, targets = data['input_ids'].cuda(), data['label'].cuda()\n",
        "                log_ps = m(inputs)\n",
        "                test_loss += criterion(log_ps, targets).item()\n",
        "                ans.append(log_ps.argmax(axis=1).cpu().detach().numpy())\n",
        "            test_loss /= len(test_loader)\n",
        "\n",
        "            ans = np.concatenate(ans, axis=0)\n",
        "            prec, rec, f1, sup = precision_recall_fscore_support(y_test.values, ans)\n",
        "            accuracy = accuracy_score(y_test.values, ans)\n",
        "            print(f\"Epoch {e+1}/{epochs}, train_loss: {train_loss:.2}, test_loss: {test_loss:.2}, test_accuracy: {accuracy * 100:.3}, precision: {prec[0]:.2}, recall: {rec[0]:.2}, f1: {f1[0]:.2}\")"
      ],
      "metadata": {
        "id": "Twm52HSjJ3iu"
      },
      "execution_count": null,
      "outputs": []
    },
    {
      "cell_type": "code",
      "source": [],
      "metadata": {
        "id": "qOFXkjMDJ3lW"
      },
      "execution_count": null,
      "outputs": []
    }
  ]
}